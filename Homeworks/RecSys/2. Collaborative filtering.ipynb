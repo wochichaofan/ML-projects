{
 "cells": [
  {
   "cell_type": "code",
   "execution_count": 1,
   "id": "0f135e08-ed32-4df8-8c32-eb7c2bd231b3",
   "metadata": {},
   "outputs": [],
   "source": [
    "import pandas as pd\n",
    "import numpy as np"
   ]
  },
  {
   "cell_type": "code",
   "execution_count": 2,
   "id": "f6d9d7b9-4637-4a25-9ef9-f769d790ace3",
   "metadata": {},
   "outputs": [],
   "source": [
    "root = '../HW_Datasets/movie_lens/'\n",
    "movies_path = 'movies.dat'\n",
    "ratings_path = 'ratings.dat'"
   ]
  },
  {
   "cell_type": "code",
   "execution_count": 3,
   "id": "df474194-2065-4ee6-8477-2b7ea62fcf6c",
   "metadata": {
    "tags": []
   },
   "outputs": [],
   "source": [
    "def get_df(path, delim, columns):\n",
    "    l = []\n",
    "\n",
    "    with open(path) as file:\n",
    "        for i in file:\n",
    "            l.append(i.strip().split(delim))\n",
    "            \n",
    "    n_cols = range(len(i.split(delim)))\n",
    "    return pd.DataFrame(l).rename(columns={old:new for old, new in zip(n_cols, columns)})"
   ]
  },
  {
   "cell_type": "code",
   "execution_count": 4,
   "id": "e29a1802-6b12-4069-b878-ad5704af73b4",
   "metadata": {
    "tags": []
   },
   "outputs": [],
   "source": [
    "ratings = get_df(root+ratings_path, '::', 'userId,movieId,rating,timestamp'.split(','))\n",
    "\n",
    "# movies = get_df(root+movies_path, '::', 'movieId,title,genres'.split(','))"
   ]
  },
  {
   "cell_type": "code",
   "execution_count": 5,
   "id": "3b5b91df-afe6-40d7-b222-aebc788b5739",
   "metadata": {
    "jupyter": {
     "source_hidden": true
    }
   },
   "outputs": [],
   "source": [
    "# ratings = pd.read_csv(root+ratings_path)\n",
    "\n",
    "# movies = pd.read_csv(root+movies_path)"
   ]
  },
  {
   "cell_type": "code",
   "execution_count": 6,
   "id": "c8539fd3-d95b-4236-818c-ec11b60f0b65",
   "metadata": {},
   "outputs": [
    {
     "data": {
      "text/html": [
       "<div>\n",
       "<style scoped>\n",
       "    .dataframe tbody tr th:only-of-type {\n",
       "        vertical-align: middle;\n",
       "    }\n",
       "\n",
       "    .dataframe tbody tr th {\n",
       "        vertical-align: top;\n",
       "    }\n",
       "\n",
       "    .dataframe thead th {\n",
       "        text-align: right;\n",
       "    }\n",
       "</style>\n",
       "<table border=\"1\" class=\"dataframe\">\n",
       "  <thead>\n",
       "    <tr style=\"text-align: right;\">\n",
       "      <th></th>\n",
       "      <th>userId</th>\n",
       "      <th>movieId</th>\n",
       "      <th>rating</th>\n",
       "      <th>timestamp</th>\n",
       "    </tr>\n",
       "  </thead>\n",
       "  <tbody>\n",
       "    <tr>\n",
       "      <th>0</th>\n",
       "      <td>1</td>\n",
       "      <td>1193</td>\n",
       "      <td>5</td>\n",
       "      <td>978300760</td>\n",
       "    </tr>\n",
       "    <tr>\n",
       "      <th>1</th>\n",
       "      <td>1</td>\n",
       "      <td>661</td>\n",
       "      <td>3</td>\n",
       "      <td>978302109</td>\n",
       "    </tr>\n",
       "    <tr>\n",
       "      <th>2</th>\n",
       "      <td>1</td>\n",
       "      <td>914</td>\n",
       "      <td>3</td>\n",
       "      <td>978301968</td>\n",
       "    </tr>\n",
       "    <tr>\n",
       "      <th>3</th>\n",
       "      <td>1</td>\n",
       "      <td>3408</td>\n",
       "      <td>4</td>\n",
       "      <td>978300275</td>\n",
       "    </tr>\n",
       "    <tr>\n",
       "      <th>4</th>\n",
       "      <td>1</td>\n",
       "      <td>2355</td>\n",
       "      <td>5</td>\n",
       "      <td>978824291</td>\n",
       "    </tr>\n",
       "  </tbody>\n",
       "</table>\n",
       "</div>"
      ],
      "text/plain": [
       "  userId movieId rating  timestamp\n",
       "0      1    1193      5  978300760\n",
       "1      1     661      3  978302109\n",
       "2      1     914      3  978301968\n",
       "3      1    3408      4  978300275\n",
       "4      1    2355      5  978824291"
      ]
     },
     "execution_count": 6,
     "metadata": {},
     "output_type": "execute_result"
    }
   ],
   "source": [
    "ratings.head()"
   ]
  },
  {
   "cell_type": "markdown",
   "id": "ffe17fff-3496-4211-801a-7aeb09a3ffe3",
   "metadata": {},
   "source": [
    "# Surprise library"
   ]
  },
  {
   "cell_type": "code",
   "execution_count": 7,
   "id": "c4189f93-a323-4660-b354-7f5770839fed",
   "metadata": {},
   "outputs": [],
   "source": [
    "from surprise import KNNWithMeans, SVD, CoClustering\n",
    "from surprise import Dataset\n",
    "from surprise import accuracy\n",
    "from surprise import Reader\n",
    "from surprise.model_selection import train_test_split, cross_validate"
   ]
  },
  {
   "cell_type": "markdown",
   "id": "14f2d17c-d98d-4e73-8c72-373344b32132",
   "metadata": {
    "tags": []
   },
   "source": [
    "### Prepare data"
   ]
  },
  {
   "cell_type": "code",
   "execution_count": 8,
   "id": "986a0426-1d32-4e5a-b799-774f3e1a81a1",
   "metadata": {},
   "outputs": [],
   "source": [
    "data = pd.DataFrame({\n",
    "    'uid' : ratings.userId,\n",
    "    'iid' : ratings.movieId,\n",
    "    'rating' : ratings.rating\n",
    "})"
   ]
  },
  {
   "cell_type": "code",
   "execution_count": 9,
   "id": "0add23de-e2c4-473c-898a-1c0e052e6040",
   "metadata": {},
   "outputs": [
    {
     "data": {
      "text/html": [
       "<div>\n",
       "<style scoped>\n",
       "    .dataframe tbody tr th:only-of-type {\n",
       "        vertical-align: middle;\n",
       "    }\n",
       "\n",
       "    .dataframe tbody tr th {\n",
       "        vertical-align: top;\n",
       "    }\n",
       "\n",
       "    .dataframe thead th {\n",
       "        text-align: right;\n",
       "    }\n",
       "</style>\n",
       "<table border=\"1\" class=\"dataframe\">\n",
       "  <thead>\n",
       "    <tr style=\"text-align: right;\">\n",
       "      <th></th>\n",
       "      <th>uid</th>\n",
       "      <th>iid</th>\n",
       "      <th>rating</th>\n",
       "    </tr>\n",
       "  </thead>\n",
       "  <tbody>\n",
       "    <tr>\n",
       "      <th>0</th>\n",
       "      <td>1</td>\n",
       "      <td>1193</td>\n",
       "      <td>5</td>\n",
       "    </tr>\n",
       "    <tr>\n",
       "      <th>1</th>\n",
       "      <td>1</td>\n",
       "      <td>661</td>\n",
       "      <td>3</td>\n",
       "    </tr>\n",
       "    <tr>\n",
       "      <th>2</th>\n",
       "      <td>1</td>\n",
       "      <td>914</td>\n",
       "      <td>3</td>\n",
       "    </tr>\n",
       "    <tr>\n",
       "      <th>3</th>\n",
       "      <td>1</td>\n",
       "      <td>3408</td>\n",
       "      <td>4</td>\n",
       "    </tr>\n",
       "    <tr>\n",
       "      <th>4</th>\n",
       "      <td>1</td>\n",
       "      <td>2355</td>\n",
       "      <td>5</td>\n",
       "    </tr>\n",
       "  </tbody>\n",
       "</table>\n",
       "</div>"
      ],
      "text/plain": [
       "  uid   iid rating\n",
       "0   1  1193      5\n",
       "1   1   661      3\n",
       "2   1   914      3\n",
       "3   1  3408      4\n",
       "4   1  2355      5"
      ]
     },
     "execution_count": 9,
     "metadata": {},
     "output_type": "execute_result"
    }
   ],
   "source": [
    "data.head()"
   ]
  },
  {
   "cell_type": "code",
   "execution_count": 10,
   "id": "4ec94dc8-7bbc-4461-b48d-3c0bc17a4b76",
   "metadata": {},
   "outputs": [],
   "source": [
    "min_rating, max_rating = map(int, (ratings.rating.min(), data.rating.max()))"
   ]
  },
  {
   "cell_type": "code",
   "execution_count": 11,
   "id": "129a5ec8-0ced-483f-abee-4e5c09fe213d",
   "metadata": {},
   "outputs": [],
   "source": [
    "reader = Reader(rating_scale=(min_rating, max_rating))\n",
    "dataframe = Dataset.load_from_df(data, reader)"
   ]
  },
  {
   "cell_type": "markdown",
   "id": "8e0afd51-cd65-4f1e-bf74-de2bd85286c5",
   "metadata": {
    "tags": []
   },
   "source": [
    "## Baseline model evaluating"
   ]
  },
  {
   "cell_type": "code",
   "execution_count": 12,
   "id": "aa8b8e55-beab-43af-bda7-0c82af7e2c79",
   "metadata": {},
   "outputs": [],
   "source": [
    "def validate_model(model_init, data):\n",
    "    scores = cross_validate(model_init, \n",
    "                   data, \n",
    "                   measures=['rmse'], \n",
    "                   cv=5)['test_rmse']\n",
    "    for ind in range(len(scores)):\n",
    "        print(f'Fold # {ind+1}\\nrmse: {scores[ind]}')"
   ]
  },
  {
   "cell_type": "markdown",
   "id": "6103c9eb-7a1c-457e-92c6-aa26c704c421",
   "metadata": {
    "tags": []
   },
   "source": [
    "### user-based KNN_Zscore"
   ]
  },
  {
   "cell_type": "code",
   "execution_count": 13,
   "id": "801883e9-1b87-4294-b396-dece1f255d2c",
   "metadata": {},
   "outputs": [
    {
     "name": "stdout",
     "output_type": "stream",
     "text": [
      "Fold # 1\n",
      "rmse: 0.9301522761169128\n",
      "Fold # 2\n",
      "rmse: 0.9283096332701477\n",
      "Fold # 3\n",
      "rmse: 0.9309087715527145\n",
      "Fold # 4\n",
      "rmse: 0.9293538967345186\n",
      "Fold # 5\n",
      "rmse: 0.9271354879934354\n"
     ]
    }
   ],
   "source": [
    "validate_model(KNNWithMeans(sim_options={'user_based':True}, verbose=False), dataframe)"
   ]
  },
  {
   "cell_type": "markdown",
   "id": "107d99b8-d4e9-4885-8938-79d8c62d595d",
   "metadata": {
    "tags": []
   },
   "source": [
    "### item-based KNN"
   ]
  },
  {
   "cell_type": "code",
   "execution_count": 14,
   "id": "e0e09dd1-0f8b-41d8-813a-6aeae0b1b406",
   "metadata": {},
   "outputs": [
    {
     "name": "stdout",
     "output_type": "stream",
     "text": [
      "Fold # 1\n",
      "rmse: 0.8833479597504595\n",
      "Fold # 2\n",
      "rmse: 0.8865681561170657\n",
      "Fold # 3\n",
      "rmse: 0.8872016113880883\n",
      "Fold # 4\n",
      "rmse: 0.8857196407673283\n",
      "Fold # 5\n",
      "rmse: 0.8856417731062128\n"
     ]
    }
   ],
   "source": [
    "validate_model(KNNWithMeans(sim_options={'user_based':False}, verbose=False), dataframe)"
   ]
  },
  {
   "cell_type": "markdown",
   "id": "8c1b47d4-ea22-43ad-8335-e0d050d86b6a",
   "metadata": {
    "tags": []
   },
   "source": [
    "### Also trying SVD"
   ]
  },
  {
   "cell_type": "code",
   "execution_count": 21,
   "id": "19a96148-e597-49f5-9d5d-25f53ea13854",
   "metadata": {},
   "outputs": [
    {
     "name": "stdout",
     "output_type": "stream",
     "text": [
      "Fold # 1\n",
      "rmse: 0.8710051056746314\n",
      "Fold # 2\n",
      "rmse: 0.8710079706041745\n",
      "Fold # 3\n",
      "rmse: 0.868693663653425\n",
      "Fold # 4\n",
      "rmse: 0.8682525964639751\n",
      "Fold # 5\n",
      "rmse: 0.8714838809358886\n"
     ]
    }
   ],
   "source": [
    "validate_model(SVD(n_factors=50, n_epochs=20, lr_all=0.005, random_state=5), dataframe)"
   ]
  },
  {
   "cell_type": "markdown",
   "id": "4a950960-6196-42bc-80a8-feff0c17c4b5",
   "metadata": {},
   "source": [
    "### And also CoClustering"
   ]
  },
  {
   "cell_type": "code",
   "execution_count": 17,
   "id": "01b754dd-5caa-471a-9ac6-510af641199f",
   "metadata": {},
   "outputs": [
    {
     "name": "stdout",
     "output_type": "stream",
     "text": [
      "Fold # 1\n",
      "rmse: 0.9139672151179101\n",
      "Fold # 2\n",
      "rmse: 0.9171970387820558\n",
      "Fold # 3\n",
      "rmse: 0.91484533913582\n",
      "Fold # 4\n",
      "rmse: 0.9152173742355871\n",
      "Fold # 5\n",
      "rmse: 0.9141413938437719\n"
     ]
    }
   ],
   "source": [
    "validate_model(CoClustering(random_state=5, verbose=False), dataframe)"
   ]
  },
  {
   "cell_type": "markdown",
   "id": "b76543f4-328e-4937-8366-2721a6bf6f0f",
   "metadata": {},
   "source": [
    "# Conclusion"
   ]
  },
  {
   "cell_type": "markdown",
   "id": "a757fddb-491b-4557-837e-b105e847e341",
   "metadata": {},
   "source": [
    "1) item-based, user-based KNN didnt perform so well\n",
    "3) CoClustering is some kind of <s>bullshit</s> model that doesnt fit our task or maybe data\n",
    "4) SVD is our saviour. For this task has always been the best performer considering learninig time and performance"
   ]
  }
 ],
 "metadata": {
  "kernelspec": {
   "display_name": "Python 3 (ipykernel)",
   "language": "python",
   "name": "python3"
  },
  "language_info": {
   "codemirror_mode": {
    "name": "ipython",
    "version": 3
   },
   "file_extension": ".py",
   "mimetype": "text/x-python",
   "name": "python",
   "nbconvert_exporter": "python",
   "pygments_lexer": "ipython3",
   "version": "3.10.9"
  }
 },
 "nbformat": 4,
 "nbformat_minor": 5
}
