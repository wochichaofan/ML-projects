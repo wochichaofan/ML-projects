{
 "cells": [
  {
   "cell_type": "markdown",
   "id": "7ea4810b-4339-40b4-bf1a-ae3f069fda1a",
   "metadata": {},
   "source": [
    "# Part 2. Topic modelling"
   ]
  },
  {
   "cell_type": "code",
   "execution_count": 1,
   "id": "7e546736-b685-4c14-aec6-929239bcb352",
   "metadata": {},
   "outputs": [],
   "source": [
    "import bz2, json\n",
    "import tqdm\n",
    "import pandas as pd\n",
    "import numpy as np"
   ]
  },
  {
   "cell_type": "code",
   "execution_count": 2,
   "id": "df3b39f3-2987-4fb0-bd8b-cdf0bc293a93",
   "metadata": {},
   "outputs": [
    {
     "name": "stderr",
     "output_type": "stream",
     "text": [
      "201030it [02:10, 1539.21it/s]\n"
     ]
    }
   ],
   "source": [
    "path = 'banki_responses.json.bz2'\n",
    "\n",
    "with bz2.open(path, 'rt') as bzinput:\n",
    "    lines = []\n",
    "    for i, cont in tqdm.tqdm(enumerate(bzinput)):\n",
    "        tweets = json.loads(cont)\n",
    "        lines.append(tweets)"
   ]
  },
  {
   "cell_type": "code",
   "execution_count": 3,
   "id": "416a1c23-35b2-48a6-8452-890b7f3d56cc",
   "metadata": {
    "scrolled": true
   },
   "outputs": [
    {
     "data": {
      "text/html": [
       "<div>\n",
       "<style scoped>\n",
       "    .dataframe tbody tr th:only-of-type {\n",
       "        vertical-align: middle;\n",
       "    }\n",
       "\n",
       "    .dataframe tbody tr th {\n",
       "        vertical-align: top;\n",
       "    }\n",
       "\n",
       "    .dataframe thead th {\n",
       "        text-align: right;\n",
       "    }\n",
       "</style>\n",
       "<table border=\"1\" class=\"dataframe\">\n",
       "  <thead>\n",
       "    <tr style=\"text-align: right;\">\n",
       "      <th></th>\n",
       "      <th>city</th>\n",
       "      <th>rating_not_checked</th>\n",
       "      <th>title</th>\n",
       "      <th>num_comments</th>\n",
       "      <th>bank_license</th>\n",
       "      <th>author</th>\n",
       "      <th>bank_name</th>\n",
       "      <th>datetime</th>\n",
       "      <th>text</th>\n",
       "      <th>rating_grade</th>\n",
       "    </tr>\n",
       "  </thead>\n",
       "  <tbody>\n",
       "    <tr>\n",
       "      <th>0</th>\n",
       "      <td>г. Воронеж</td>\n",
       "      <td>True</td>\n",
       "      <td>Ипотека на 5+</td>\n",
       "      <td>0</td>\n",
       "      <td>лицензия № 1623</td>\n",
       "      <td>e.novikova</td>\n",
       "      <td>ВТБ 24</td>\n",
       "      <td>2015-06-08 11:06:56</td>\n",
       "      <td>Здравствуйте!  Хотелось бы выразить благодарно...</td>\n",
       "      <td>5.0</td>\n",
       "    </tr>\n",
       "    <tr>\n",
       "      <th>1</th>\n",
       "      <td>г. Казань</td>\n",
       "      <td>True</td>\n",
       "      <td>ЗВОНКИ СОСЕДЯМ</td>\n",
       "      <td>0</td>\n",
       "      <td>лицензия № 2289</td>\n",
       "      <td>KZN\\Vorontsova_NA</td>\n",
       "      <td>Русский Стандарт</td>\n",
       "      <td>2015-06-06 18:17:52</td>\n",
       "      <td>Уважаемые представители департамента по работе...</td>\n",
       "      <td>2.0</td>\n",
       "    </tr>\n",
       "    <tr>\n",
       "      <th>2</th>\n",
       "      <td>г. Санкт-Петербург</td>\n",
       "      <td>True</td>\n",
       "      <td>Ложная информация!!!!</td>\n",
       "      <td>0</td>\n",
       "      <td>лицензия № 2307</td>\n",
       "      <td>Evgenia15</td>\n",
       "      <td>Союз</td>\n",
       "      <td>2015-06-07 19:08:33</td>\n",
       "      <td>Здравствуйте. Столкнулась с такой ситуацией. в...</td>\n",
       "      <td>2.0</td>\n",
       "    </tr>\n",
       "    <tr>\n",
       "      <th>3</th>\n",
       "      <td>г. Москва</td>\n",
       "      <td>True</td>\n",
       "      <td>Банкомат не зачислил деньги на счет</td>\n",
       "      <td>1</td>\n",
       "      <td>лицензия № 2557</td>\n",
       "      <td>dolgov.work</td>\n",
       "      <td>Ситибанк</td>\n",
       "      <td>2015-06-07 19:22:00</td>\n",
       "      <td>1 июня 2015 в Москве в отделении по адресу Смо...</td>\n",
       "      <td>1.0</td>\n",
       "    </tr>\n",
       "    <tr>\n",
       "      <th>4</th>\n",
       "      <td>г. Волгоград</td>\n",
       "      <td>True</td>\n",
       "      <td>Невозможно закрыть карту 2(два)!!!</td>\n",
       "      <td>0</td>\n",
       "      <td>лицензия № 3354</td>\n",
       "      <td>copLine</td>\n",
       "      <td>Ренессанс Кредит</td>\n",
       "      <td>2015-06-08 14:54:55</td>\n",
       "      <td>История очень долгая! Пришел я в банк (это раз...</td>\n",
       "      <td>1.0</td>\n",
       "    </tr>\n",
       "  </tbody>\n",
       "</table>\n",
       "</div>"
      ],
      "text/plain": [
       "                 city  rating_not_checked  \\\n",
       "0          г. Воронеж                True   \n",
       "1           г. Казань                True   \n",
       "2  г. Санкт-Петербург                True   \n",
       "3           г. Москва                True   \n",
       "4        г. Волгоград                True   \n",
       "\n",
       "                                 title  num_comments     bank_license  \\\n",
       "0                        Ипотека на 5+             0  лицензия № 1623   \n",
       "1                       ЗВОНКИ СОСЕДЯМ             0  лицензия № 2289   \n",
       "2                Ложная информация!!!!             0  лицензия № 2307   \n",
       "3  Банкомат не зачислил деньги на счет             1  лицензия № 2557   \n",
       "4   Невозможно закрыть карту 2(два)!!!             0  лицензия № 3354   \n",
       "\n",
       "              author         bank_name             datetime  \\\n",
       "0         e.novikova            ВТБ 24  2015-06-08 11:06:56   \n",
       "1  KZN\\Vorontsova_NA  Русский Стандарт  2015-06-06 18:17:52   \n",
       "2          Evgenia15              Союз  2015-06-07 19:08:33   \n",
       "3        dolgov.work          Ситибанк  2015-06-07 19:22:00   \n",
       "4            copLine  Ренессанс Кредит  2015-06-08 14:54:55   \n",
       "\n",
       "                                                text  rating_grade  \n",
       "0  Здравствуйте!  Хотелось бы выразить благодарно...           5.0  \n",
       "1  Уважаемые представители департамента по работе...           2.0  \n",
       "2  Здравствуйте. Столкнулась с такой ситуацией. в...           2.0  \n",
       "3  1 июня 2015 в Москве в отделении по адресу Смо...           1.0  \n",
       "4  История очень долгая! Пришел я в банк (это раз...           1.0  "
      ]
     },
     "execution_count": 3,
     "metadata": {},
     "output_type": "execute_result"
    }
   ],
   "source": [
    "df = pd.DataFrame(lines)\n",
    "df.head(5)"
   ]
  },
  {
   "cell_type": "markdown",
   "id": "dafe5c28-7557-4d5f-85f6-be152705fa99",
   "metadata": {},
   "source": [
    "## 1. Постройте несколько тематических моделей коллекции документов с разным числом тем. \n",
    "\n",
    "- Приведите примеры понятных (интерпретируемых) тем."
   ]
  },
  {
   "cell_type": "code",
   "execution_count": 4,
   "id": "28867a77-aa5b-43e3-b029-ef24ba0ad472",
   "metadata": {},
   "outputs": [],
   "source": [
    "import seaborn as sns\n",
    "import matplotlib.pyplot as plt"
   ]
  },
  {
   "cell_type": "code",
   "execution_count": 5,
   "id": "11cdd502-619d-4740-ac94-e0cf131453f4",
   "metadata": {},
   "outputs": [],
   "source": [
    "import pymorphy3, re, nltk\n",
    "from gensim.corpora import Dictionary\n",
    "from gensim.models import TfidfModel"
   ]
  },
  {
   "cell_type": "code",
   "execution_count": 6,
   "id": "36b06dee-32ef-4802-8309-01cbaa023c61",
   "metadata": {},
   "outputs": [],
   "source": [
    "morph = pymorphy3.MorphAnalyzer()\n",
    "ru_words = re.compile(r\"[А-Яа-я]+\")\n",
    "stops = nltk.corpus.stopwords.words('russian')\n",
    "\n",
    "def preprocess_text(text):\n",
    "    \n",
    "    def check_stop_words(text):\n",
    "        return filter(lambda x: x not in stops, text)\n",
    "    \n",
    "    def lemmatize(text):\n",
    "        return map(lambda x: morph.parse(x)[0].normal_form, text)\n",
    "    \n",
    "    def words_only(text):\n",
    "        return ru_words.findall(text.lower())\n",
    "\n",
    "    return ' '.join(lemmatize(check_stop_words(words_only(text))))"
   ]
  },
  {
   "cell_type": "code",
   "execution_count": 7,
   "id": "d60f83c3-0f57-447c-851a-337630ea4858",
   "metadata": {},
   "outputs": [],
   "source": [
    "texts = df['text'][:5000].apply(preprocess_text)"
   ]
  },
  {
   "cell_type": "code",
   "execution_count": 8,
   "id": "88273f91-c772-4367-8b2d-5634279fb19c",
   "metadata": {},
   "outputs": [],
   "source": [
    "gensim_texts = texts.apply(str.split)\n",
    "dictionary = Dictionary(gensim_texts)\n",
    "corpus = [dictionary.doc2bow(text) for text in gensim_texts]"
   ]
  },
  {
   "cell_type": "code",
   "execution_count": 9,
   "id": "910b2931-85af-4845-b283-1dfb10a5af9c",
   "metadata": {},
   "outputs": [],
   "source": [
    "tf_idf = TfidfModel(corpus)\n",
    "corpus_tf_idf = tf_idf[corpus]"
   ]
  },
  {
   "cell_type": "markdown",
   "id": "03e33db6-8cde-4991-b870-78e92e835697",
   "metadata": {},
   "source": [
    "### LSI"
   ]
  },
  {
   "cell_type": "code",
   "execution_count": 10,
   "id": "6c509629-dd5e-4b9e-880d-4ea6c0cda501",
   "metadata": {},
   "outputs": [],
   "source": [
    "from gensim.models import lsimodel"
   ]
  },
  {
   "cell_type": "code",
   "execution_count": 11,
   "id": "858debad-902a-453c-97fb-7cc0edab86f5",
   "metadata": {},
   "outputs": [],
   "source": [
    "lsi = lsimodel.LsiModel(corpus=corpus_tf_idf, id2word=dictionary, num_topics=20)"
   ]
  },
  {
   "cell_type": "code",
   "execution_count": 12,
   "id": "41569479-c123-439b-b1f1-c3ca05217614",
   "metadata": {},
   "outputs": [
    {
     "data": {
      "text/plain": [
       "[(0,\n",
       "  '0.194*\"карта\" + 0.137*\"кредит\" + 0.115*\"деньга\" + 0.112*\"вклад\" + 0.108*\"счёт\" + 0.100*\"отделение\" + 0.099*\"сумма\" + 0.098*\"заявление\" + 0.098*\"сотрудник\" + 0.097*\"мой\"'),\n",
       " (1,\n",
       "  '0.364*\"вклад\" + -0.230*\"звонок\" + -0.229*\"номер\" + 0.186*\"карта\" + -0.179*\"ваш\" + -0.161*\"кредит\" + -0.147*\"телефон\" + -0.138*\"звонить\" + -0.135*\"данные\" + -0.131*\"персональный\"'),\n",
       " (2,\n",
       "  '-0.612*\"вклад\" + 0.251*\"карта\" + -0.213*\"ставка\" + -0.172*\"пополнение\" + 0.149*\"банкомат\" + -0.143*\"условие\" + -0.131*\"договор\" + 0.128*\"сбербанк\" + 0.095*\"деньга\" + -0.093*\"процент\"'),\n",
       " (3,\n",
       "  '0.350*\"страховка\" + 0.340*\"кредит\" + 0.276*\"страхование\" + -0.199*\"номер\" + 0.163*\"договор\" + -0.159*\"карта\" + 0.138*\"страховой\" + -0.132*\"звонок\" + 0.127*\"погашение\" + -0.125*\"вклад\"'),\n",
       " (4,\n",
       "  '-0.183*\"средство\" + -0.160*\"денежный\" + -0.158*\"сумма\" + 0.151*\"заявка\" + -0.150*\"рубль\" + -0.141*\"договор\" + -0.138*\"платёж\" + -0.133*\"задолженность\" + -0.133*\"счёт\" + -0.129*\"вклад\"'),\n",
       " (5,\n",
       "  '0.239*\"сбербанк\" + 0.205*\"страхование\" + -0.199*\"карта\" + 0.182*\"заявление\" + -0.176*\"кредитный\" + -0.166*\"задолженность\" + 0.161*\"страховка\" + -0.153*\"лимит\" + -0.151*\"платёж\" + 0.139*\"денежный\"'),\n",
       " (6,\n",
       "  '0.368*\"карта\" + -0.207*\"платёж\" + -0.206*\"банкомат\" + 0.198*\"страхование\" + 0.186*\"страховка\" + 0.146*\"услуга\" + 0.144*\"комиссия\" + -0.140*\"деньга\" + -0.126*\"просрочка\" + 0.117*\"кредитный\"'),\n",
       " (7,\n",
       "  '-0.410*\"банкомат\" + -0.281*\"страховка\" + 0.207*\"сбербанк\" + -0.157*\"деньга\" + -0.154*\"страхование\" + 0.120*\"отделение\" + -0.119*\"номер\" + -0.114*\"рубль\" + 0.104*\"счёт\" + -0.102*\"комиссия\"'),\n",
       " (8,\n",
       "  '0.329*\"банкомат\" + -0.188*\"заявка\" + 0.162*\"очень\" + -0.154*\"вклад\" + 0.149*\"комиссия\" + 0.130*\"спасибо\" + 0.129*\"благодарность\" + -0.122*\"номер\" + -0.118*\"смс\" + -0.117*\"карта\"'),\n",
       " (9,\n",
       "  '-0.283*\"карта\" + 0.266*\"киви\" + -0.261*\"банкомат\" + 0.241*\"кошелёк\" + 0.223*\"перевод\" + -0.180*\"отделение\" + -0.156*\"заявление\" + -0.155*\"г\" + 0.142*\"комиссия\" + 0.123*\"поддержка\"')]"
      ]
     },
     "execution_count": 12,
     "metadata": {},
     "output_type": "execute_result"
    }
   ],
   "source": [
    "lsi.show_topics(10)"
   ]
  },
  {
   "cell_type": "markdown",
   "id": "2b718c94-cbbd-46ef-b007-76270d7ca73d",
   "metadata": {},
   "source": [
    "Интерпретируемые темы:\n",
    "\n",
    "1) 2 тема - комментарий, связанный с услугой вклада\n",
    "2) 3 тема - комментарии по услугам страхования\n",
    "3) 5 тема - комментарий по работе сбербанка"
   ]
  },
  {
   "cell_type": "markdown",
   "id": "ca3db8c6-ab92-449f-8135-3dbc1ef36292",
   "metadata": {},
   "source": [
    "## 2. Найдите темы, в которых упомянуты конкретные банки (Сбербанк, ВТБ, другой банк). \n",
    "\n",
    "- Можете ли вы их прокомментировать / объяснить?"
   ]
  },
  {
   "cell_type": "code",
   "execution_count": 13,
   "id": "7a232d21-41ee-4791-b4e9-3363aeda78d3",
   "metadata": {},
   "outputs": [
    {
     "data": {
      "text/plain": [
       "[('сбербанк', 0.2389898024409501),\n",
       " ('страхование', 0.20498889034919876),\n",
       " ('карта', -0.19925319204615058),\n",
       " ('заявление', 0.18178591557952412),\n",
       " ('кредитный', -0.1761846423116907),\n",
       " ('задолженность', -0.16586934366114064),\n",
       " ('страховка', 0.16056825865603586),\n",
       " ('лимит', -0.15277699102892736),\n",
       " ('платёж', -0.15068949385595676),\n",
       " ('денежный', 0.13924801603591444)]"
      ]
     },
     "execution_count": 13,
     "metadata": {},
     "output_type": "execute_result"
    }
   ],
   "source": [
    "lsi.show_topic(5)"
   ]
  },
  {
   "cell_type": "code",
   "execution_count": 14,
   "id": "da02e00b-e3f4-46ca-adcf-e7f876e05cc2",
   "metadata": {},
   "outputs": [
    {
     "data": {
      "text/plain": [
       "[('ставка', -0.23845891129546282),\n",
       " ('р', -0.23585432199166306),\n",
       " ('услуга', 0.1805170957227242),\n",
       " ('номер', -0.1749960284552324),\n",
       " ('руб', 0.16201025418031673),\n",
       " ('персональный', 0.1608282637455236),\n",
       " ('втб', 0.14852286124140593),\n",
       " ('вклад', 0.13764264972941007),\n",
       " ('ваш', 0.13044197989045422),\n",
       " ('задолженность', -0.12320174856096977)]"
      ]
     },
     "execution_count": 14,
     "metadata": {},
     "output_type": "execute_result"
    }
   ],
   "source": [
    "lsi.show_topic(19)"
   ]
  },
  {
   "cell_type": "code",
   "execution_count": 16,
   "id": "4265653c-5bd4-42f6-a5d8-dded8beee613",
   "metadata": {},
   "outputs": [
    {
     "data": {
      "text/plain": [
       "[('руб', 0.561014590742397),\n",
       " ('комиссия', 0.2914384818968257),\n",
       " ('р', -0.29050687893578225),\n",
       " ('тыс', 0.16869480904652026),\n",
       " ('счёт', -0.13489891935558648),\n",
       " ('ваш', 0.11538762110534864),\n",
       " ('тариф', 0.10718987286195412),\n",
       " ('сбербанк', 0.09614681262062189),\n",
       " ('рубль', -0.09368855088864551),\n",
       " ('г', 0.08301405879979155)]"
      ]
     },
     "execution_count": 16,
     "metadata": {},
     "output_type": "execute_result"
    }
   ],
   "source": [
    "lsi.show_topic(17)"
   ]
  },
  {
   "cell_type": "markdown",
   "id": "dc1b4a98-c7cf-44c9-9831-8520642223ef",
   "metadata": {},
   "source": [
    "- Сбербанк часто попадает в набор наиболее влиятельных тематических маркеров. Может быть, \"мусорное слово\", т.к. упоминается очень часто\n",
    "- У других банков трудно выделить какую-то закономерность"
   ]
  }
 ],
 "metadata": {
  "kernelspec": {
   "display_name": "Python 3 (ipykernel)",
   "language": "python",
   "name": "python3"
  },
  "language_info": {
   "codemirror_mode": {
    "name": "ipython",
    "version": 3
   },
   "file_extension": ".py",
   "mimetype": "text/x-python",
   "name": "python",
   "nbconvert_exporter": "python",
   "pygments_lexer": "ipython3",
   "version": "3.10.9"
  }
 },
 "nbformat": 4,
 "nbformat_minor": 5
}
