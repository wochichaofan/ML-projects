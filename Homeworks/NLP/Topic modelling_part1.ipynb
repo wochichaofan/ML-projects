{
 "cells": [
  {
   "cell_type": "markdown",
   "id": "f0b9bca1-d4d4-4041-a261-99152eeee941",
   "metadata": {},
   "source": [
    "# Part 1. Data analysis"
   ]
  },
  {
   "cell_type": "markdown",
   "id": "b4f9aaf5-24c2-44ea-953e-3e8beb02d149",
   "metadata": {},
   "source": [
    "## Import data"
   ]
  },
  {
   "cell_type": "code",
   "execution_count": 15,
   "id": "8b4c7528-c965-4731-a54d-b59758d380a4",
   "metadata": {},
   "outputs": [],
   "source": [
    "import bz2, json\n",
    "import pandas as pd\n",
    "import tqdm\n",
    "import re\n",
    "import nltk\n",
    "\n",
    "import nltk\n",
    "import pymorphy3\n",
    "import numpy as np\n",
    "from collections import Counter\n",
    "\n",
    "from gensim import similarities"
   ]
  },
  {
   "cell_type": "code",
   "execution_count": 2,
   "id": "dc25e556-13b0-490b-8cd2-03ea5ee3c6de",
   "metadata": {},
   "outputs": [
    {
     "name": "stderr",
     "output_type": "stream",
     "text": [
      "201030it [02:04, 1612.08it/s]\n"
     ]
    }
   ],
   "source": [
    "path = 'banki_responses.json.bz2'\n",
    "\n",
    "with bz2.open(path, 'rt') as bzinput:\n",
    "    lines = []\n",
    "    for i, cont in tqdm.tqdm(enumerate(bzinput)):\n",
    "        tweets = json.loads(cont)\n",
    "        lines.append(tweets)"
   ]
  },
  {
   "cell_type": "code",
   "execution_count": 3,
   "id": "a0b011ad-bea3-4470-b351-b68205afd887",
   "metadata": {
    "scrolled": true
   },
   "outputs": [
    {
     "data": {
      "text/html": [
       "<div>\n",
       "<style scoped>\n",
       "    .dataframe tbody tr th:only-of-type {\n",
       "        vertical-align: middle;\n",
       "    }\n",
       "\n",
       "    .dataframe tbody tr th {\n",
       "        vertical-align: top;\n",
       "    }\n",
       "\n",
       "    .dataframe thead th {\n",
       "        text-align: right;\n",
       "    }\n",
       "</style>\n",
       "<table border=\"1\" class=\"dataframe\">\n",
       "  <thead>\n",
       "    <tr style=\"text-align: right;\">\n",
       "      <th></th>\n",
       "      <th>city</th>\n",
       "      <th>rating_not_checked</th>\n",
       "      <th>title</th>\n",
       "      <th>num_comments</th>\n",
       "      <th>bank_license</th>\n",
       "      <th>author</th>\n",
       "      <th>bank_name</th>\n",
       "      <th>datetime</th>\n",
       "      <th>text</th>\n",
       "      <th>rating_grade</th>\n",
       "    </tr>\n",
       "  </thead>\n",
       "  <tbody>\n",
       "    <tr>\n",
       "      <th>0</th>\n",
       "      <td>г. Воронеж</td>\n",
       "      <td>True</td>\n",
       "      <td>Ипотека на 5+</td>\n",
       "      <td>0</td>\n",
       "      <td>лицензия № 1623</td>\n",
       "      <td>e.novikova</td>\n",
       "      <td>ВТБ 24</td>\n",
       "      <td>2015-06-08 11:06:56</td>\n",
       "      <td>Здравствуйте!  Хотелось бы выразить благодарно...</td>\n",
       "      <td>5.0</td>\n",
       "    </tr>\n",
       "    <tr>\n",
       "      <th>1</th>\n",
       "      <td>г. Казань</td>\n",
       "      <td>True</td>\n",
       "      <td>ЗВОНКИ СОСЕДЯМ</td>\n",
       "      <td>0</td>\n",
       "      <td>лицензия № 2289</td>\n",
       "      <td>KZN\\Vorontsova_NA</td>\n",
       "      <td>Русский Стандарт</td>\n",
       "      <td>2015-06-06 18:17:52</td>\n",
       "      <td>Уважаемые представители департамента по работе...</td>\n",
       "      <td>2.0</td>\n",
       "    </tr>\n",
       "    <tr>\n",
       "      <th>2</th>\n",
       "      <td>г. Санкт-Петербург</td>\n",
       "      <td>True</td>\n",
       "      <td>Ложная информация!!!!</td>\n",
       "      <td>0</td>\n",
       "      <td>лицензия № 2307</td>\n",
       "      <td>Evgenia15</td>\n",
       "      <td>Союз</td>\n",
       "      <td>2015-06-07 19:08:33</td>\n",
       "      <td>Здравствуйте. Столкнулась с такой ситуацией. в...</td>\n",
       "      <td>2.0</td>\n",
       "    </tr>\n",
       "    <tr>\n",
       "      <th>3</th>\n",
       "      <td>г. Москва</td>\n",
       "      <td>True</td>\n",
       "      <td>Банкомат не зачислил деньги на счет</td>\n",
       "      <td>1</td>\n",
       "      <td>лицензия № 2557</td>\n",
       "      <td>dolgov.work</td>\n",
       "      <td>Ситибанк</td>\n",
       "      <td>2015-06-07 19:22:00</td>\n",
       "      <td>1 июня 2015 в Москве в отделении по адресу Смо...</td>\n",
       "      <td>1.0</td>\n",
       "    </tr>\n",
       "    <tr>\n",
       "      <th>4</th>\n",
       "      <td>г. Волгоград</td>\n",
       "      <td>True</td>\n",
       "      <td>Невозможно закрыть карту 2(два)!!!</td>\n",
       "      <td>0</td>\n",
       "      <td>лицензия № 3354</td>\n",
       "      <td>copLine</td>\n",
       "      <td>Ренессанс Кредит</td>\n",
       "      <td>2015-06-08 14:54:55</td>\n",
       "      <td>История очень долгая! Пришел я в банк (это раз...</td>\n",
       "      <td>1.0</td>\n",
       "    </tr>\n",
       "  </tbody>\n",
       "</table>\n",
       "</div>"
      ],
      "text/plain": [
       "                 city  rating_not_checked  \\\n",
       "0          г. Воронеж                True   \n",
       "1           г. Казань                True   \n",
       "2  г. Санкт-Петербург                True   \n",
       "3           г. Москва                True   \n",
       "4        г. Волгоград                True   \n",
       "\n",
       "                                 title  num_comments     bank_license  \\\n",
       "0                        Ипотека на 5+             0  лицензия № 1623   \n",
       "1                       ЗВОНКИ СОСЕДЯМ             0  лицензия № 2289   \n",
       "2                Ложная информация!!!!             0  лицензия № 2307   \n",
       "3  Банкомат не зачислил деньги на счет             1  лицензия № 2557   \n",
       "4   Невозможно закрыть карту 2(два)!!!             0  лицензия № 3354   \n",
       "\n",
       "              author         bank_name             datetime  \\\n",
       "0         e.novikova            ВТБ 24  2015-06-08 11:06:56   \n",
       "1  KZN\\Vorontsova_NA  Русский Стандарт  2015-06-06 18:17:52   \n",
       "2          Evgenia15              Союз  2015-06-07 19:08:33   \n",
       "3        dolgov.work          Ситибанк  2015-06-07 19:22:00   \n",
       "4            copLine  Ренессанс Кредит  2015-06-08 14:54:55   \n",
       "\n",
       "                                                text  rating_grade  \n",
       "0  Здравствуйте!  Хотелось бы выразить благодарно...           5.0  \n",
       "1  Уважаемые представители департамента по работе...           2.0  \n",
       "2  Здравствуйте. Столкнулась с такой ситуацией. в...           2.0  \n",
       "3  1 июня 2015 в Москве в отделении по адресу Смо...           1.0  \n",
       "4  История очень долгая! Пришел я в банк (это раз...           1.0  "
      ]
     },
     "execution_count": 3,
     "metadata": {},
     "output_type": "execute_result"
    }
   ],
   "source": [
    "df = pd.DataFrame(lines)\n",
    "df.head(5)"
   ]
  },
  {
   "cell_type": "markdown",
   "id": "9e719dd4-950a-46a0-9df1-391304214738",
   "metadata": {},
   "source": [
    "## 1. Посчитайте количество отзывов в разных городах и на разные банки"
   ]
  },
  {
   "cell_type": "code",
   "execution_count": 4,
   "id": "6d90a8ef-3297-4b3b-9104-2d359a73a9d7",
   "metadata": {},
   "outputs": [
    {
     "data": {
      "text/plain": [
       "7021"
      ]
     },
     "execution_count": 4,
     "metadata": {},
     "output_type": "execute_result"
    }
   ],
   "source": [
    "df['city'] = df['city'].str.replace(r'г\\.|пос\\.|р\\.п\\.|д.', '', regex=True)\n",
    "\n",
    "df['city'].nunique()"
   ]
  },
  {
   "cell_type": "code",
   "execution_count": 5,
   "id": "d3c71667-c290-4d8d-9bcf-dd1d38771bff",
   "metadata": {
    "scrolled": true
   },
   "outputs": [
    {
     "data": {
      "text/plain": [
       "733"
      ]
     },
     "execution_count": 5,
     "metadata": {},
     "output_type": "execute_result"
    }
   ],
   "source": [
    "df['bank_name'].nunique()"
   ]
  },
  {
   "cell_type": "markdown",
   "id": "104c90ed-1a61-439c-b559-6d43065d3536",
   "metadata": {},
   "source": [
    "## 2. Постройте гистограмы длин ТЕКСТОВ в символах и в словах"
   ]
  },
  {
   "cell_type": "code",
   "execution_count": 6,
   "id": "b11e4b6e-b51d-47fc-96f2-29ecf729b1d6",
   "metadata": {},
   "outputs": [],
   "source": [
    "import matplotlib.pyplot as plt\n",
    "import seaborn as sns"
   ]
  },
  {
   "cell_type": "code",
   "execution_count": 7,
   "id": "716ded0f-7e2e-4e47-a580-567a8a638374",
   "metadata": {},
   "outputs": [],
   "source": [
    "func = lambda x: ' '.join(re.findall(r'\\w+|\\d+', x.lower()))\n",
    "\n",
    "texts_all = df['text']\n",
    "texts_words = df['text'].apply(func)"
   ]
  },
  {
   "cell_type": "markdown",
   "id": "b2bbb11f-96a6-4b7a-acc0-5e3f38fdfaf9",
   "metadata": {},
   "source": [
    "### Будем работать на очищенных текстах"
   ]
  },
  {
   "cell_type": "code",
   "execution_count": 8,
   "id": "c3df60fe-55aa-43c8-bc66-c12195fa5f7d",
   "metadata": {},
   "outputs": [],
   "source": [
    "def words_len(txt):\n",
    "    return len(txt.split())\n",
    "\n",
    "def char_len(txt):\n",
    "    return len(txt)\n",
    "\n",
    "char_len_data = texts_words.apply(char_len)\n",
    "words_len_data = texts_words.apply(words_len)"
   ]
  },
  {
   "cell_type": "code",
   "execution_count": 9,
   "id": "c0bc95ee-76eb-454d-80f7-03b9a20e67f7",
   "metadata": {},
   "outputs": [
    {
     "data": {
      "image/png": "[encoded data removed]",
      "text/plain": [
       "<Figure size 1200x600 with 2 Axes>"
      ]
     },
     "metadata": {},
     "output_type": "display_data"
    }
   ],
   "source": [
    "fig, axes = plt.subplots(1, 2, sharey=True, figsize=(12, 6))\n",
    "\n",
    "sns.histplot(ax=axes[0], data=char_len_data)\n",
    "axes[0].set_title('Chars histogram')\n",
    "axes[0].set_xlabel('Number of chars')\n",
    "sns.histplot(ax=axes[1], data=words_len_data)\n",
    "axes[1].set_title('Words histogram')\n",
    "axes[1].set_xlabel('Number of words')\n",
    "\n",
    "plt.show()"
   ]
  },
  {
   "cell_type": "markdown",
   "id": "e721ba86-e339-4918-843c-299e2241e528",
   "metadata": {},
   "source": [
    "## 3. Найдите 10 самых частых:"
   ]
  },
  {
   "cell_type": "markdown",
   "id": "cc2a2c4a-cc0c-4346-a66f-cc403fce885e",
   "metadata": {},
   "source": [
    "- слов"
   ]
  },
  {
   "cell_type": "code",
   "execution_count": 10,
   "id": "9d713ebd-2c40-44be-b647-ee082a237180",
   "metadata": {},
   "outputs": [],
   "source": [
    "all_words = list(word for i in texts_words[:10001] for word in i.split())"
   ]
  },
  {
   "cell_type": "code",
   "execution_count": 11,
   "id": "59640db6-2bd5-4bd0-b64b-504358076412",
   "metadata": {},
   "outputs": [
    {
     "data": {
      "text/plain": [
       "[('в', 70707),\n",
       " ('и', 58160),\n",
       " ('не', 46435),\n",
       " ('на', 38673),\n",
       " ('что', 33761),\n",
       " ('я', 31354),\n",
       " ('с', 26526),\n",
       " ('по', 21541),\n",
       " ('мне', 17649),\n",
       " ('банка', 16520)]"
      ]
     },
     "execution_count": 11,
     "metadata": {},
     "output_type": "execute_result"
    }
   ],
   "source": [
    "all_count = Counter(all_words)\n",
    "\n",
    "all_count.most_common(10)"
   ]
  },
  {
   "cell_type": "markdown",
   "id": "f2ccb31e-b847-4278-9204-945e04781b7e",
   "metadata": {},
   "source": [
    "- слов без стоп-слов"
   ]
  },
  {
   "cell_type": "code",
   "execution_count": 12,
   "id": "d1eba459-c6cf-4dad-a960-ea2c87c18801",
   "metadata": {
    "scrolled": true
   },
   "outputs": [
    {
     "data": {
      "text/plain": [
       "[('банка', 16520),\n",
       " ('банк', 13520),\n",
       " ('это', 9549),\n",
       " ('деньги', 6524),\n",
       " ('карты', 5601),\n",
       " ('карту', 5353),\n",
       " ('2015', 5326),\n",
       " ('кредит', 4778),\n",
       " ('день', 4491),\n",
       " ('банке', 4066)]"
      ]
     },
     "execution_count": 12,
     "metadata": {},
     "output_type": "execute_result"
    }
   ],
   "source": [
    "check_stops = lambda x: x not in nltk.corpus.stopwords.words('russian')\n",
    "\n",
    "words_wo_stops = list(filter(check_stops, all_words))\n",
    "count_wo_stops = Counter(words_wo_stops)\n",
    "\n",
    "count_wo_stops.most_common(10)"
   ]
  },
  {
   "cell_type": "markdown",
   "id": "7aeb21c3-0767-45ed-bc8b-707323d9ab8f",
   "metadata": {},
   "source": [
    "- лемм"
   ]
  },
  {
   "cell_type": "code",
   "execution_count": 18,
   "id": "f991c76b-24f3-4537-8d16-2dcd1bf49b76",
   "metadata": {},
   "outputs": [],
   "source": [
    "morph = pymorphy3.MorphAnalyzer()"
   ]
  },
  {
   "cell_type": "code",
   "execution_count": 24,
   "id": "14af64dd-98b6-4d30-b7e2-e8f30a0d448a",
   "metadata": {},
   "outputs": [],
   "source": [
    "lemmatize = lambda x: morph.parse(x)[0].normal_form"
   ]
  },
  {
   "cell_type": "code",
   "execution_count": 25,
   "id": "aae8b616-1f12-4e29-8899-7e14efdb16e4",
   "metadata": {
    "scrolled": true
   },
   "outputs": [
    {
     "data": {
      "text/plain": [
       "[('в', 71924),\n",
       " ('я', 61416),\n",
       " ('и', 58160),\n",
       " ('не', 46435),\n",
       " ('банк', 40349),\n",
       " ('на', 38673),\n",
       " ('что', 35100),\n",
       " ('с', 29954),\n",
       " ('быть', 23951),\n",
       " ('по', 21541)]"
      ]
     },
     "execution_count": 25,
     "metadata": {},
     "output_type": "execute_result"
    }
   ],
   "source": [
    "all_lemmas = list(map(lemmatize, all_words))\n",
    "lemm_counter = Counter(all_lemmas)\n",
    "\n",
    "lemm_counter.most_common(10)"
   ]
  },
  {
   "cell_type": "markdown",
   "id": "f24441fa-de9b-4fdb-9e3f-71f7dff0faae",
   "metadata": {},
   "source": [
    "- существительных"
   ]
  },
  {
   "cell_type": "code",
   "execution_count": 26,
   "id": "514b3ba7-6f5b-4262-8c36-86de08256112",
   "metadata": {},
   "outputs": [],
   "source": [
    "is_noun = lambda x: morph.parse(x)[0].tag.POS == 'NOUN'"
   ]
  },
  {
   "cell_type": "code",
   "execution_count": 27,
   "id": "b84f435d-2f72-42e2-b06e-46058600bbe4",
   "metadata": {},
   "outputs": [
    {
     "data": {
      "text/plain": [
       "[('банк', 40349),\n",
       " ('карта', 17788),\n",
       " ('кредит', 9729),\n",
       " ('день', 9377),\n",
       " ('сотрудник', 9008),\n",
       " ('деньга', 8838),\n",
       " ('клиент', 7771),\n",
       " ('счёт', 7337),\n",
       " ('мочь', 6736),\n",
       " ('сумма', 6626)]"
      ]
     },
     "execution_count": 27,
     "metadata": {},
     "output_type": "execute_result"
    }
   ],
   "source": [
    "all_nouns = filter(is_noun, all_lemmas)\n",
    "noun_counter = Counter(all_nouns)\n",
    "\n",
    "noun_counter.most_common(10)"
   ]
  },
  {
   "cell_type": "markdown",
   "id": "d1a44267-a798-4e6f-9aa0-c859191e036d",
   "metadata": {},
   "source": [
    "## 4. Постройте кривые Ципфа и Хипса"
   ]
  },
  {
   "cell_type": "markdown",
   "id": "727e654d-48cd-447f-995a-e70294e679dd",
   "metadata": {},
   "source": [
    "### Будем строить на лемматизированных словах"
   ]
  },
  {
   "cell_type": "markdown",
   "id": "45c34707-9a87-455d-8719-f4d557c52c80",
   "metadata": {},
   "source": [
    "### Кривая Ципфа\n",
    "\n",
    "- Здесь по топ-1_000 по популярности слов (для наглядности перехода)"
   ]
  },
  {
   "cell_type": "code",
   "execution_count": 28,
   "id": "8eafd598-3ef5-466a-a149-c9fda162b676",
   "metadata": {},
   "outputs": [],
   "source": [
    "for_visualization = np.array(lemm_counter.most_common(1_000))\n",
    "\n",
    "# xs = for_visualization[:, 0]\n",
    "ys = list(map(int, for_visualization[:, 1]))"
   ]
  },
  {
   "cell_type": "code",
   "execution_count": 29,
   "id": "85c95232-4cef-4fbc-8b03-4f200a2929e4",
   "metadata": {},
   "outputs": [
    {
     "data": {
      "text/plain": [
       "[<matplotlib.lines.Line2D at 0x2268b75f430>]"
      ]
     },
     "execution_count": 29,
     "metadata": {},
     "output_type": "execute_result"
    },
    {
     "data": {
      "image/png": "[encoded data removed]",
      "text/plain": [
       "<Figure size 640x480 with 1 Axes>"
      ]
     },
     "metadata": {},
     "output_type": "display_data"
    }
   ],
   "source": [
    "plt.plot(range(len(ys)),ys)"
   ]
  },
  {
   "cell_type": "markdown",
   "id": "2a13dfe3-5a67-4845-ae66-7bfedd2da4da",
   "metadata": {},
   "source": [
    "### Кривая Хипса\n",
    "\n",
    "- Здесь по 10_000 первым комментариям"
   ]
  },
  {
   "cell_type": "code",
   "execution_count": 30,
   "id": "83c35a61-ead9-4edc-bcfe-35afe947c43b",
   "metadata": {},
   "outputs": [],
   "source": [
    "def get_dict_lens(texts):\n",
    "    set_ = set()\n",
    "    for text in texts:\n",
    "        for i in text:\n",
    "            set_.add(i)\n",
    "        yield len(list(set_))"
   ]
  },
  {
   "cell_type": "code",
   "execution_count": 31,
   "id": "96cd4f9f-4f93-48cd-99aa-f83277afb972",
   "metadata": {},
   "outputs": [],
   "source": [
    "first_100_texts = texts_words[:1000].str.split()"
   ]
  },
  {
   "cell_type": "code",
   "execution_count": 32,
   "id": "18a13705-d8b9-4687-8a92-11a7a12a8d4a",
   "metadata": {},
   "outputs": [],
   "source": [
    "ys = np.fromiter(get_dict_lens(first_100_texts), dtype=int)"
   ]
  },
  {
   "cell_type": "code",
   "execution_count": 33,
   "id": "2d0149b7-29f2-441a-9df3-e2f560c1f72b",
   "metadata": {},
   "outputs": [
    {
     "data": {
      "text/plain": [
       "[<matplotlib.lines.Line2D at 0x2270f251f60>]"
      ]
     },
     "execution_count": 33,
     "metadata": {},
     "output_type": "execute_result"
    },
    {
     "data": {
      "image/png": "[encoded data removed]",
      "text/plain": [
       "<Figure size 640x480 with 1 Axes>"
      ]
     },
     "metadata": {},
     "output_type": "display_data"
    }
   ],
   "source": [
    "plt.plot(range(len(ys)), ys)"
   ]
  },
  {
   "cell_type": "markdown",
   "id": "8566b27e-5587-4bd8-8a72-aae690f73e26",
   "metadata": {},
   "source": [
    "## 5. Ответьте на следующие вопросы:"
   ]
  },
  {
   "cell_type": "markdown",
   "id": "78c03407-b21f-4530-a235-20ffd4cb265a",
   "metadata": {},
   "source": [
    "- какое слово встречается чаще, \"сотрудник\" или \"клиент\"?"
   ]
  },
  {
   "cell_type": "code",
   "execution_count": 34,
   "id": "7cf0e704-3cca-42a0-b88a-50dda0dbe203",
   "metadata": {},
   "outputs": [
    {
     "name": "stdout",
     "output_type": "stream",
     "text": [
      "Чаще встречается слово \"сотрудник\"\n",
      "\n",
      "Слово \"сотрудник\" встречается 9008 раз\n",
      "Слово \"клиент\" встречается 7771 раз\n"
     ]
    }
   ],
   "source": [
    "kwords_1 = ('сотрудник', 'клиент')\n",
    "\n",
    "print(f'Чаще встречается слово \"{max(kwords_1, key=lambda x: lemm_counter[x])}\"\\n')\n",
    "for kw in kwords_1:\n",
    "    print(f'Слово \"{kw}\" встречается {lemm_counter[kw]} раз')"
   ]
  },
  {
   "cell_type": "markdown",
   "id": "960c505b-3ffe-4c81-85c3-fad4c29fcbb4",
   "metadata": {},
   "source": [
    "- сколько раз встречается слова \"мошенничество\" и \"доверие\"?"
   ]
  },
  {
   "cell_type": "code",
   "execution_count": 35,
   "id": "e5a0d606-205e-49d7-b0d2-cff08c838ad3",
   "metadata": {},
   "outputs": [
    {
     "name": "stdout",
     "output_type": "stream",
     "text": [
      "Слово \"мошенничество\" встречается 200 раз\n",
      "Слово \"доверие\" встречается 154 раз\n"
     ]
    }
   ],
   "source": [
    "kwords_2 = ('мошенничество', 'доверие')\n",
    "\n",
    "for kw in kwords_2:\n",
    "    print(f'Слово \"{kw}\" встречается {lemm_counter[kw]} раз')"
   ]
  },
  {
   "cell_type": "markdown",
   "id": "c84faba2-af87-4206-95d4-2f6f14251d02",
   "metadata": {},
   "source": [
    "## 6. В поле \"rating_grade\" записана оценка отзыва по шкале от 1 до 5. Используйте меру $tf-idf$, для того, чтобы найти ключевые слова и биграмы для положительных отзывов (с оценкой 5) и отрицательных отзывов (с оценкой 1)"
   ]
  },
  {
   "cell_type": "code",
   "execution_count": 36,
   "id": "10e8dafd-eaf8-4648-bdda-503167309949",
   "metadata": {},
   "outputs": [],
   "source": [
    "from sklearn.feature_extraction.text import TfidfVectorizer"
   ]
  },
  {
   "cell_type": "code",
   "execution_count": 47,
   "id": "875acf7e-44e3-4f1b-b612-d6684c7aa954",
   "metadata": {},
   "outputs": [],
   "source": [
    "ru_words = re.compile(r\"[А-Яа-я]+\")\n",
    "\n",
    "def words_only(text):\n",
    "    return ' '.join(ru_words.findall(text.lower()))"
   ]
  },
  {
   "cell_type": "code",
   "execution_count": 48,
   "id": "5f08e8ed-2ad7-4afe-94ac-28d072bc5968",
   "metadata": {},
   "outputs": [],
   "source": [
    "df['text_preprocess'] = df['text'].apply(words_only)"
   ]
  },
  {
   "cell_type": "code",
   "execution_count": 49,
   "id": "ae88b702-7db4-497b-a485-002aa8202b1d",
   "metadata": {},
   "outputs": [],
   "source": [
    "corpus_5s = df[df.rating_grade == 5]['text_preprocess']\n",
    "corpus_1s = df[df.rating_grade == 1]['text_preprocess']"
   ]
  },
  {
   "cell_type": "code",
   "execution_count": 50,
   "id": "da68fa2f-3e41-4aeb-8419-4b8d68e0053a",
   "metadata": {},
   "outputs": [],
   "source": [
    "def find_key_word(n_doc, tfidf_model, tfidf_matrix):\n",
    "\n",
    "    doc_tfidf_vals = tfidf_matrix[n_doc].toarray()[0]\n",
    "    index = np.where(doc_tfidf_vals == max(doc_tfidf_vals))[0][0]\n",
    "    \n",
    "    kword = tfidf_model.get_feature_names_out()[index]\n",
    "    return kword\n",
    "\n",
    "def show_kwords_example(text, corpus, ngram):\n",
    "    tfidf = TfidfVectorizer(ngram_range=(ngram, ngram))\n",
    "    tf_matrix = tfidf.fit_transform(corpus)\n",
    "\n",
    "    print(f'{text} for {ngram}-grams')\n",
    "\n",
    "    for i, _ in enumerate(corpus[:5]):\n",
    "        print(f'Keyword for doc# {i}:', end=' ')\n",
    "        print(find_key_word(i, tfidf, tf_matrix))"
   ]
  },
  {
   "cell_type": "markdown",
   "id": "1183a01a-d367-469e-8633-26ef88f4e0f7",
   "metadata": {},
   "source": [
    "- Unigrams positive reviews"
   ]
  },
  {
   "cell_type": "code",
   "execution_count": 51,
   "id": "a9f52817-b395-420f-a6bb-301714ec78dc",
   "metadata": {},
   "outputs": [
    {
     "name": "stdout",
     "output_type": "stream",
     "text": [
      "Positive reviews for 1-grams\n",
      "Keyword for doc# 0: выдачей\n",
      "Keyword for doc# 1: дудс\n",
      "Keyword for doc# 2: вузовский\n",
      "Keyword for doc# 3: кредитном\n",
      "Keyword for doc# 4: тула\n"
     ]
    }
   ],
   "source": [
    "show_kwords_example('Positive reviews', corpus_5s, 1)"
   ]
  },
  {
   "cell_type": "markdown",
   "id": "bbaf9b9a-e645-4639-a1b3-2b720fe63af5",
   "metadata": {},
   "source": [
    "- Unigrams negative reviews"
   ]
  },
  {
   "cell_type": "code",
   "execution_count": 52,
   "id": "6cd1a5af-7636-449b-9ff7-d78bfa1a259a",
   "metadata": {},
   "outputs": [
    {
     "name": "stdout",
     "output_type": "stream",
     "text": [
      "Negative reviews for 1-grams\n",
      "Keyword for doc# 0: расследование\n",
      "Keyword for doc# 1: ужасно\n",
      "Keyword for doc# 2: сформировалась\n",
      "Keyword for doc# 3: отвечать\n",
      "Keyword for doc# 4: окон\n"
     ]
    }
   ],
   "source": [
    "show_kwords_example('Negative reviews', corpus_1s, 1)"
   ]
  },
  {
   "cell_type": "markdown",
   "id": "1671b87c-1422-463b-abb4-b53ad7868946",
   "metadata": {},
   "source": [
    "- Bigrams for positive reviews"
   ]
  },
  {
   "cell_type": "code",
   "execution_count": 53,
   "id": "47b3952c-0ae1-48ff-9452-3ca5e378e982",
   "metadata": {},
   "outputs": [
    {
     "name": "stdout",
     "output_type": "stream",
     "text": [
      "Positive reviews for 2-grams\n",
      "Keyword for doc# 0: выдачей кредита\n",
      "Keyword for doc# 1: более ипотекой\n",
      "Keyword for doc# 2: банку пошел\n",
      "Keyword for doc# 3: вышел полученным\n",
      "Keyword for doc# 4: россии тула\n"
     ]
    }
   ],
   "source": [
    "show_kwords_example('Positive reviews', corpus_5s, 2)"
   ]
  },
  {
   "cell_type": "markdown",
   "id": "7f6ac42d-f2e0-4141-8bf2-139aa151a684",
   "metadata": {},
   "source": [
    "- Bigrams for negative reviews"
   ]
  },
  {
   "cell_type": "code",
   "execution_count": 54,
   "id": "a41e0318-3e79-49a1-800a-c076bb69346f",
   "metadata": {},
   "outputs": [
    {
     "name": "stdout",
     "output_type": "stream",
     "text": [
      "Negative reviews for 2-grams\n",
      "Keyword for doc# 0: расследование результате\n",
      "Keyword for doc# 1: счет карты\n",
      "Keyword for doc# 2: вкладку управление\n",
      "Keyword for doc# 3: банк лиц\n",
      "Keyword for doc# 4: оценка посещение\n"
     ]
    }
   ],
   "source": [
    "show_kwords_example('Negative reviews', corpus_1s, 2)"
   ]
  },
  {
   "cell_type": "markdown",
   "id": "e72bbc61-14b7-4b40-a7f7-88034f1d58e4",
   "metadata": {},
   "source": [
    "____"
   ]
  }
 ],
 "metadata": {
  "kernelspec": {
   "display_name": "Python 3 (ipykernel)",
   "language": "python",
   "name": "python3"
  },
  "language_info": {
   "codemirror_mode": {
    "name": "ipython",
    "version": 3
   },
   "file_extension": ".py",
   "mimetype": "text/x-python",
   "name": "python",
   "nbconvert_exporter": "python",
   "pygments_lexer": "ipython3",
   "version": "3.10.9"
  }
 },
 "nbformat": 4,
 "nbformat_minor": 5
}
