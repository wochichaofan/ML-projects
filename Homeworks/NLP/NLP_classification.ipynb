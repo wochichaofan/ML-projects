{
 "cells": [
  {
   "cell_type": "code",
   "execution_count": 1,
   "id": "2de914ae-2255-429d-a452-a1c1fdcff369",
   "metadata": {
    "id": "2de914ae-2255-429d-a452-a1c1fdcff369"
   },
   "outputs": [],
   "source": [
    "import pandas as pd\n",
    "import numpy as np\n",
    "from tqdm import tqdm"
   ]
  },
  {
   "cell_type": "code",
   "execution_count": 2,
   "id": "e56e3858-dbdd-4352-b24d-b791c2139947",
   "metadata": {
    "id": "e56e3858-dbdd-4352-b24d-b791c2139947"
   },
   "outputs": [],
   "source": [
    "path = 'Constraint_Train.csv'"
   ]
  },
  {
   "cell_type": "code",
   "execution_count": 3,
   "id": "ed42fee1-1399-4fab-9241-9b5d23265b72",
   "metadata": {
    "colab": {
     "base_uri": "https://localhost:8080/",
     "height": 143
    },
    "id": "ed42fee1-1399-4fab-9241-9b5d23265b72",
    "outputId": "6f0b813e-6d73-4e43-939c-5c945ca1c12e"
   },
   "outputs": [
    {
     "data": {
      "application/vnd.google.colaboratory.intrinsic+json": {
       "summary": "{\n  \"name\": \"df\",\n  \"rows\": 6420,\n  \"fields\": [\n    {\n      \"column\": \"id\",\n      \"properties\": {\n        \"dtype\": \"number\",\n        \"std\": 1853,\n        \"min\": 1,\n        \"max\": 6420,\n        \"num_unique_values\": 6420,\n        \"samples\": [\n          325,\n          1341,\n          6026\n        ],\n        \"semantic_type\": \"\",\n        \"description\": \"\"\n      }\n    },\n    {\n      \"column\": \"tweet\",\n      \"properties\": {\n        \"dtype\": \"string\",\n        \"num_unique_values\": 6420,\n        \"samples\": [\n          \"Canada\\u2019s top BDSM doctor says wear a mask, leash, tight leather to prevent spread of COVID-19 #cdnpoli #COVID19 https://t.co/1E7yDlIGBD https://t.co/bffEps28Iy\",\n          \"There are 3 cases considered to have recovered from COVID-19 so our total number of active cases is 23 \\u2013 all remain in quarantine facilities.\\u200b \\u200b Our total number of confirmed cases remains at 1192 which is the number we report to the World Health Organization.\",\n          \"Heard about contact tracing but not sure what it is? It\\u2019s used by health departments to prevent the spread of #COVID19. Learn more: https://t.co/J3Txu3riWr. #SlowtheSpread https://t.co/3f8aEQCTuI\"\n        ],\n        \"semantic_type\": \"\",\n        \"description\": \"\"\n      }\n    },\n    {\n      \"column\": \"label\",\n      \"properties\": {\n        \"dtype\": \"category\",\n        \"num_unique_values\": 2,\n        \"samples\": [\n          \"fake\",\n          \"real\"\n        ],\n        \"semantic_type\": \"\",\n        \"description\": \"\"\n      }\n    }\n  ]\n}",
       "type": "dataframe",
       "variable_name": "df"
      },
      "text/html": [
       "\n",
       "  <div id=\"df-9c201166-446d-4c0a-91f0-59928bf3bce0\" class=\"colab-df-container\">\n",
       "    <div>\n",
       "<style scoped>\n",
       "    .dataframe tbody tr th:only-of-type {\n",
       "        vertical-align: middle;\n",
       "    }\n",
       "\n",
       "    .dataframe tbody tr th {\n",
       "        vertical-align: top;\n",
       "    }\n",
       "\n",
       "    .dataframe thead th {\n",
       "        text-align: right;\n",
       "    }\n",
       "</style>\n",
       "<table border=\"1\" class=\"dataframe\">\n",
       "  <thead>\n",
       "    <tr style=\"text-align: right;\">\n",
       "      <th></th>\n",
       "      <th>id</th>\n",
       "      <th>tweet</th>\n",
       "      <th>label</th>\n",
       "    </tr>\n",
       "  </thead>\n",
       "  <tbody>\n",
       "    <tr>\n",
       "      <th>0</th>\n",
       "      <td>1</td>\n",
       "      <td>The CDC currently reports 99031 deaths. In gen...</td>\n",
       "      <td>real</td>\n",
       "    </tr>\n",
       "    <tr>\n",
       "      <th>1</th>\n",
       "      <td>2</td>\n",
       "      <td>States reported 1121 deaths a small rise from ...</td>\n",
       "      <td>real</td>\n",
       "    </tr>\n",
       "    <tr>\n",
       "      <th>2</th>\n",
       "      <td>3</td>\n",
       "      <td>Politically Correct Woman (Almost) Uses Pandem...</td>\n",
       "      <td>fake</td>\n",
       "    </tr>\n",
       "  </tbody>\n",
       "</table>\n",
       "</div>\n",
       "    <div class=\"colab-df-buttons\">\n",
       "\n",
       "  <div class=\"colab-df-container\">\n",
       "    <button class=\"colab-df-convert\" onclick=\"convertToInteractive('df-9c201166-446d-4c0a-91f0-59928bf3bce0')\"\n",
       "            title=\"Convert this dataframe to an interactive table.\"\n",
       "            style=\"display:none;\">\n",
       "\n",
       "  <svg xmlns=\"http://www.w3.org/2000/svg\" height=\"24px\" viewBox=\"0 -960 960 960\">\n",
       "    <path d=\"M120-120v-720h720v720H120Zm60-500h600v-160H180v160Zm220 220h160v-160H400v160Zm0 220h160v-160H400v160ZM180-400h160v-160H180v160Zm440 0h160v-160H620v160ZM180-180h160v-160H180v160Zm440 0h160v-160H620v160Z\"/>\n",
       "  </svg>\n",
       "    </button>\n",
       "\n",
       "  <style>\n",
       "    .colab-df-container {\n",
       "      display:flex;\n",
       "      gap: 12px;\n",
       "    }\n",
       "\n",
       "    .colab-df-convert {\n",
       "      background-color: #E8F0FE;\n",
       "      border: none;\n",
       "      border-radius: 50%;\n",
       "      cursor: pointer;\n",
       "      display: none;\n",
       "      fill: #1967D2;\n",
       "      height: 32px;\n",
       "      padding: 0 0 0 0;\n",
       "      width: 32px;\n",
       "    }\n",
       "\n",
       "    .colab-df-convert:hover {\n",
       "      background-color: #E2EBFA;\n",
       "      box-shadow: 0px 1px 2px rgba(60, 64, 67, 0.3), 0px 1px 3px 1px rgba(60, 64, 67, 0.15);\n",
       "      fill: #174EA6;\n",
       "    }\n",
       "\n",
       "    .colab-df-buttons div {\n",
       "      margin-bottom: 4px;\n",
       "    }\n",
       "\n",
       "    [theme=dark] .colab-df-convert {\n",
       "      background-color: #3B4455;\n",
       "      fill: #D2E3FC;\n",
       "    }\n",
       "\n",
       "    [theme=dark] .colab-df-convert:hover {\n",
       "      background-color: #434B5C;\n",
       "      box-shadow: 0px 1px 3px 1px rgba(0, 0, 0, 0.15);\n",
       "      filter: drop-shadow(0px 1px 2px rgba(0, 0, 0, 0.3));\n",
       "      fill: #FFFFFF;\n",
       "    }\n",
       "  </style>\n",
       "\n",
       "    <script>\n",
       "      const buttonEl =\n",
       "        document.querySelector('#df-9c201166-446d-4c0a-91f0-59928bf3bce0 button.colab-df-convert');\n",
       "      buttonEl.style.display =\n",
       "        google.colab.kernel.accessAllowed ? 'block' : 'none';\n",
       "\n",
       "      async function convertToInteractive(key) {\n",
       "        const element = document.querySelector('#df-9c201166-446d-4c0a-91f0-59928bf3bce0');\n",
       "        const dataTable =\n",
       "          await google.colab.kernel.invokeFunction('convertToInteractive',\n",
       "                                                    [key], {});\n",
       "        if (!dataTable) return;\n",
       "\n",
       "        const docLinkHtml = 'Like what you see? Visit the ' +\n",
       "          '<a target=\"_blank\" href=https://colab.research.google.com/notebooks/data_table.ipynb>data table notebook</a>'\n",
       "          + ' to learn more about interactive tables.';\n",
       "        element.innerHTML = '';\n",
       "        dataTable['output_type'] = 'display_data';\n",
       "        await google.colab.output.renderOutput(dataTable, element);\n",
       "        const docLink = document.createElement('div');\n",
       "        docLink.innerHTML = docLinkHtml;\n",
       "        element.appendChild(docLink);\n",
       "      }\n",
       "    </script>\n",
       "  </div>\n",
       "\n",
       "\n",
       "<div id=\"df-13df7b44-ac25-4e90-9f24-dc0b51a188fc\">\n",
       "  <button class=\"colab-df-quickchart\" onclick=\"quickchart('df-13df7b44-ac25-4e90-9f24-dc0b51a188fc')\"\n",
       "            title=\"Suggest charts\"\n",
       "            style=\"display:none;\">\n",
       "\n",
       "<svg xmlns=\"http://www.w3.org/2000/svg\" height=\"24px\"viewBox=\"0 0 24 24\"\n",
       "     width=\"24px\">\n",
       "    <g>\n",
       "        <path d=\"M19 3H5c-1.1 0-2 .9-2 2v14c0 1.1.9 2 2 2h14c1.1 0 2-.9 2-2V5c0-1.1-.9-2-2-2zM9 17H7v-7h2v7zm4 0h-2V7h2v10zm4 0h-2v-4h2v4z\"/>\n",
       "    </g>\n",
       "</svg>\n",
       "  </button>\n",
       "\n",
       "<style>\n",
       "  .colab-df-quickchart {\n",
       "      --bg-color: #E8F0FE;\n",
       "      --fill-color: #1967D2;\n",
       "      --hover-bg-color: #E2EBFA;\n",
       "      --hover-fill-color: #174EA6;\n",
       "      --disabled-fill-color: #AAA;\n",
       "      --disabled-bg-color: #DDD;\n",
       "  }\n",
       "\n",
       "  [theme=dark] .colab-df-quickchart {\n",
       "      --bg-color: #3B4455;\n",
       "      --fill-color: #D2E3FC;\n",
       "      --hover-bg-color: #434B5C;\n",
       "      --hover-fill-color: #FFFFFF;\n",
       "      --disabled-bg-color: #3B4455;\n",
       "      --disabled-fill-color: #666;\n",
       "  }\n",
       "\n",
       "  .colab-df-quickchart {\n",
       "    background-color: var(--bg-color);\n",
       "    border: none;\n",
       "    border-radius: 50%;\n",
       "    cursor: pointer;\n",
       "    display: none;\n",
       "    fill: var(--fill-color);\n",
       "    height: 32px;\n",
       "    padding: 0;\n",
       "    width: 32px;\n",
       "  }\n",
       "\n",
       "  .colab-df-quickchart:hover {\n",
       "    background-color: var(--hover-bg-color);\n",
       "    box-shadow: 0 1px 2px rgba(60, 64, 67, 0.3), 0 1px 3px 1px rgba(60, 64, 67, 0.15);\n",
       "    fill: var(--button-hover-fill-color);\n",
       "  }\n",
       "\n",
       "  .colab-df-quickchart-complete:disabled,\n",
       "  .colab-df-quickchart-complete:disabled:hover {\n",
       "    background-color: var(--disabled-bg-color);\n",
       "    fill: var(--disabled-fill-color);\n",
       "    box-shadow: none;\n",
       "  }\n",
       "\n",
       "  .colab-df-spinner {\n",
       "    border: 2px solid var(--fill-color);\n",
       "    border-color: transparent;\n",
       "    border-bottom-color: var(--fill-color);\n",
       "    animation:\n",
       "      spin 1s steps(1) infinite;\n",
       "  }\n",
       "\n",
       "  @keyframes spin {\n",
       "    0% {\n",
       "      border-color: transparent;\n",
       "      border-bottom-color: var(--fill-color);\n",
       "      border-left-color: var(--fill-color);\n",
       "    }\n",
       "    20% {\n",
       "      border-color: transparent;\n",
       "      border-left-color: var(--fill-color);\n",
       "      border-top-color: var(--fill-color);\n",
       "    }\n",
       "    30% {\n",
       "      border-color: transparent;\n",
       "      border-left-color: var(--fill-color);\n",
       "      border-top-color: var(--fill-color);\n",
       "      border-right-color: var(--fill-color);\n",
       "    }\n",
       "    40% {\n",
       "      border-color: transparent;\n",
       "      border-right-color: var(--fill-color);\n",
       "      border-top-color: var(--fill-color);\n",
       "    }\n",
       "    60% {\n",
       "      border-color: transparent;\n",
       "      border-right-color: var(--fill-color);\n",
       "    }\n",
       "    80% {\n",
       "      border-color: transparent;\n",
       "      border-right-color: var(--fill-color);\n",
       "      border-bottom-color: var(--fill-color);\n",
       "    }\n",
       "    90% {\n",
       "      border-color: transparent;\n",
       "      border-bottom-color: var(--fill-color);\n",
       "    }\n",
       "  }\n",
       "</style>\n",
       "\n",
       "  <script>\n",
       "    async function quickchart(key) {\n",
       "      const quickchartButtonEl =\n",
       "        document.querySelector('#' + key + ' button');\n",
       "      quickchartButtonEl.disabled = true;  // To prevent multiple clicks.\n",
       "      quickchartButtonEl.classList.add('colab-df-spinner');\n",
       "      try {\n",
       "        const charts = await google.colab.kernel.invokeFunction(\n",
       "            'suggestCharts', [key], {});\n",
       "      } catch (error) {\n",
       "        console.error('Error during call to suggestCharts:', error);\n",
       "      }\n",
       "      quickchartButtonEl.classList.remove('colab-df-spinner');\n",
       "      quickchartButtonEl.classList.add('colab-df-quickchart-complete');\n",
       "    }\n",
       "    (() => {\n",
       "      let quickchartButtonEl =\n",
       "        document.querySelector('#df-13df7b44-ac25-4e90-9f24-dc0b51a188fc button');\n",
       "      quickchartButtonEl.style.display =\n",
       "        google.colab.kernel.accessAllowed ? 'block' : 'none';\n",
       "    })();\n",
       "  </script>\n",
       "</div>\n",
       "    </div>\n",
       "  </div>\n"
      ],
      "text/plain": [
       "   id                                              tweet label\n",
       "0   1  The CDC currently reports 99031 deaths. In gen...  real\n",
       "1   2  States reported 1121 deaths a small rise from ...  real\n",
       "2   3  Politically Correct Woman (Almost) Uses Pandem...  fake"
      ]
     },
     "execution_count": 3,
     "metadata": {},
     "output_type": "execute_result"
    }
   ],
   "source": [
    "df = pd.read_csv(path)\n",
    "df.head(3)"
   ]
  },
  {
   "cell_type": "code",
   "execution_count": 4,
   "id": "a5b202cf-b11e-4f1f-bbaf-b68e5e0f0ccc",
   "metadata": {
    "colab": {
     "base_uri": "https://localhost:8080/"
    },
    "id": "a5b202cf-b11e-4f1f-bbaf-b68e5e0f0ccc",
    "outputId": "2b47a00b-f23a-4eea-f4b9-01979e2bf43f"
   },
   "outputs": [
    {
     "data": {
      "text/plain": [
       "6420"
      ]
     },
     "execution_count": 4,
     "metadata": {},
     "output_type": "execute_result"
    }
   ],
   "source": [
    "len(df)"
   ]
  },
  {
   "cell_type": "code",
   "execution_count": 5,
   "id": "fabf77b7-f97f-4d81-8f2c-3558f540bf03",
   "metadata": {
    "colab": {
     "base_uri": "https://localhost:8080/",
     "height": 178
    },
    "id": "fabf77b7-f97f-4d81-8f2c-3558f540bf03",
    "outputId": "36ced405-adc0-4419-df5d-c450fb640b87"
   },
   "outputs": [
    {
     "data": {
      "text/html": [
       "<div>\n",
       "<style scoped>\n",
       "    .dataframe tbody tr th:only-of-type {\n",
       "        vertical-align: middle;\n",
       "    }\n",
       "\n",
       "    .dataframe tbody tr th {\n",
       "        vertical-align: top;\n",
       "    }\n",
       "\n",
       "    .dataframe thead th {\n",
       "        text-align: right;\n",
       "    }\n",
       "</style>\n",
       "<table border=\"1\" class=\"dataframe\">\n",
       "  <thead>\n",
       "    <tr style=\"text-align: right;\">\n",
       "      <th></th>\n",
       "      <th>count</th>\n",
       "    </tr>\n",
       "    <tr>\n",
       "      <th>label</th>\n",
       "      <th></th>\n",
       "    </tr>\n",
       "  </thead>\n",
       "  <tbody>\n",
       "    <tr>\n",
       "      <th>real</th>\n",
       "      <td>3360</td>\n",
       "    </tr>\n",
       "    <tr>\n",
       "      <th>fake</th>\n",
       "      <td>3060</td>\n",
       "    </tr>\n",
       "  </tbody>\n",
       "</table>\n",
       "</div><br><label><b>dtype:</b> int64</label>"
      ],
      "text/plain": [
       "label\n",
       "real    3360\n",
       "fake    3060\n",
       "Name: count, dtype: int64"
      ]
     },
     "execution_count": 5,
     "metadata": {},
     "output_type": "execute_result"
    }
   ],
   "source": [
    "df.label.value_counts()"
   ]
  },
  {
   "cell_type": "markdown",
   "id": "175ea8bf-9334-4129-a6e7-575f7a0a1263",
   "metadata": {
    "id": "175ea8bf-9334-4129-a6e7-575f7a0a1263"
   },
   "source": [
    "Окей, классы примерно сбалансированы"
   ]
  },
  {
   "cell_type": "code",
   "execution_count": 6,
   "id": "e8eb2d2c-eba9-4de7-a621-acec05ccca2b",
   "metadata": {
    "id": "e8eb2d2c-eba9-4de7-a621-acec05ccca2b"
   },
   "outputs": [],
   "source": [
    "from nltk.tokenize import TweetTokenizer\n",
    "import nltk\n",
    "tk = TweetTokenizer(preserve_case=False)"
   ]
  },
  {
   "cell_type": "code",
   "execution_count": 7,
   "id": "e5cca8f2-abce-4689-bf94-e3125882e681",
   "metadata": {
    "id": "e5cca8f2-abce-4689-bf94-e3125882e681"
   },
   "outputs": [],
   "source": [
    "tweets = [tk.tokenize(tweet) for tweet in df.tweet]"
   ]
  },
  {
   "cell_type": "markdown",
   "id": "71b89a1c-21ea-4ea2-8912-a6523a754edb",
   "metadata": {
    "id": "71b89a1c-21ea-4ea2-8912-a6523a754edb"
   },
   "source": [
    "# TopicModelling + LogisticRegression"
   ]
  },
  {
   "cell_type": "markdown",
   "id": "d1c372b4-8526-4abc-82cd-7b0418038d39",
   "metadata": {
    "id": "d1c372b4-8526-4abc-82cd-7b0418038d39"
   },
   "source": [
    "## Make a topic modelling"
   ]
  },
  {
   "cell_type": "code",
   "execution_count": 8,
   "id": "fa1343cb-ba64-4028-a071-c4c7e41f24fb",
   "metadata": {
    "id": "fa1343cb-ba64-4028-a071-c4c7e41f24fb"
   },
   "outputs": [],
   "source": [
    "from gensim.corpora import Dictionary\n",
    "from gensim.models import TfidfModel\n",
    "from gensim import similarities"
   ]
  },
  {
   "cell_type": "code",
   "execution_count": 9,
   "id": "cd27c66a-0e36-4278-a6cb-e648d2c4c68c",
   "metadata": {
    "id": "cd27c66a-0e36-4278-a6cb-e648d2c4c68c"
   },
   "outputs": [],
   "source": [
    "dictionary = Dictionary(tweets)\n",
    "gensim_corpus = [dictionary.doc2bow(tweet) for tweet in tweets]"
   ]
  },
  {
   "cell_type": "code",
   "execution_count": 10,
   "id": "e29ee980-350c-47a5-b9fa-86c65bd2056a",
   "metadata": {
    "id": "e29ee980-350c-47a5-b9fa-86c65bd2056a"
   },
   "outputs": [],
   "source": [
    "tf_idf = TfidfModel(corpus=gensim_corpus)\n",
    "tf_idf_corpus = tf_idf[gensim_corpus]"
   ]
  },
  {
   "cell_type": "code",
   "execution_count": 11,
   "id": "50646050-1f1c-42c7-9d6d-8c7cee3a8e19",
   "metadata": {
    "id": "50646050-1f1c-42c7-9d6d-8c7cee3a8e19"
   },
   "outputs": [],
   "source": [
    "from gensim.models import lsimodel"
   ]
  },
  {
   "cell_type": "code",
   "execution_count": 12,
   "id": "d944d8a2-04b0-41d4-bf85-b18629a2721c",
   "metadata": {
    "id": "d944d8a2-04b0-41d4-bf85-b18629a2721c"
   },
   "outputs": [],
   "source": [
    "lsi_matrix = lsimodel.LsiModel(corpus=tf_idf_corpus, id2word=dictionary, num_topics=300)\n",
    "\n",
    "topics = np.array([lsi_matrix[i] for i in gensim_corpus])"
   ]
  },
  {
   "cell_type": "markdown",
   "id": "62e8f9f6-9748-48cc-9ce6-51fc1f32e104",
   "metadata": {
    "id": "62e8f9f6-9748-48cc-9ce6-51fc1f32e104"
   },
   "source": [
    "## Prepare data"
   ]
  },
  {
   "cell_type": "code",
   "execution_count": 13,
   "id": "fbd001b2-6e00-4e6c-9eac-860655ce25eb",
   "metadata": {
    "id": "fbd001b2-6e00-4e6c-9eac-860655ce25eb"
   },
   "outputs": [],
   "source": [
    "X = topics[:, :, 1]\n",
    "y = (df.label == 'real').astype('int')"
   ]
  },
  {
   "cell_type": "markdown",
   "id": "71f996d5-7b3d-4dc3-8340-5287e892a8d4",
   "metadata": {
    "id": "71f996d5-7b3d-4dc3-8340-5287e892a8d4"
   },
   "source": [
    "## Work with model"
   ]
  },
  {
   "cell_type": "code",
   "execution_count": 14,
   "id": "7ea2e520-7ba6-4deb-b9f5-7397224bdb32",
   "metadata": {
    "id": "7ea2e520-7ba6-4deb-b9f5-7397224bdb32"
   },
   "outputs": [],
   "source": [
    "from sklearn.linear_model import LogisticRegression\n",
    "from sklearn.model_selection import train_test_split\n",
    "\n",
    "from sklearn.metrics import classification_report"
   ]
  },
  {
   "cell_type": "code",
   "execution_count": 15,
   "id": "1dea0696-658f-4851-a548-66a4abcf7044",
   "metadata": {
    "id": "1dea0696-658f-4851-a548-66a4abcf7044"
   },
   "outputs": [],
   "source": [
    "X_train, X_test, y_train, y_test = train_test_split(X, y, test_size=.3, random_state=12345)"
   ]
  },
  {
   "cell_type": "code",
   "execution_count": 16,
   "id": "863d9df2-1c46-420c-b1bd-413cd608e8ad",
   "metadata": {
    "id": "863d9df2-1c46-420c-b1bd-413cd608e8ad"
   },
   "outputs": [],
   "source": [
    "lr = LogisticRegression(random_state=12345)\n",
    "lr.fit(X_train, y_train)\n",
    "\n",
    "yhat = lr.predict(X_test)"
   ]
  },
  {
   "cell_type": "code",
   "execution_count": 17,
   "id": "53089d3e-e375-4a30-b08a-f72e60f5795c",
   "metadata": {
    "colab": {
     "base_uri": "https://localhost:8080/"
    },
    "id": "53089d3e-e375-4a30-b08a-f72e60f5795c",
    "outputId": "906ca30d-327c-4b2b-d481-27d95fc326b7"
   },
   "outputs": [
    {
     "name": "stdout",
     "output_type": "stream",
     "text": [
      "              precision    recall  f1-score   support\n",
      "\n",
      "           0       0.92      0.93      0.93       895\n",
      "           1       0.94      0.93      0.93      1031\n",
      "\n",
      "    accuracy                           0.93      1926\n",
      "   macro avg       0.93      0.93      0.93      1926\n",
      "weighted avg       0.93      0.93      0.93      1926\n",
      "\n"
     ]
    }
   ],
   "source": [
    "print(classification_report(y_test, yhat))"
   ]
  },
  {
   "cell_type": "markdown",
   "id": "7e41466f-1034-43e6-ba69-0b6c6a256a7d",
   "metadata": {
    "editable": true,
    "id": "7e41466f-1034-43e6-ba69-0b6c6a256a7d",
    "tags": []
   },
   "source": [
    "# w2v + CNN"
   ]
  },
  {
   "cell_type": "markdown",
   "id": "40bc3eaf-f885-4688-9545-648d16d1144b",
   "metadata": {
    "id": "40bc3eaf-f885-4688-9545-648d16d1144b"
   },
   "source": [
    "## Get text embeddings"
   ]
  },
  {
   "cell_type": "code",
   "execution_count": 18,
   "id": "67434f97-b931-4415-b191-fe085f905abe",
   "metadata": {
    "id": "67434f97-b931-4415-b191-fe085f905abe"
   },
   "outputs": [],
   "source": [
    "from gensim.models import Word2Vec"
   ]
  },
  {
   "cell_type": "code",
   "execution_count": 19,
   "id": "be05219e-d1cf-4334-a5b1-703341724e99",
   "metadata": {
    "colab": {
     "base_uri": "https://localhost:8080/"
    },
    "id": "be05219e-d1cf-4334-a5b1-703341724e99",
    "outputId": "0299017c-b5de-481d-bf99-0b112e05b40a"
   },
   "outputs": [
    {
     "name": "stdout",
     "output_type": "stream",
     "text": [
      "CPU times: user 7.57 s, sys: 5.65 s, total: 13.2 s\n",
      "Wall time: 2.46 s\n"
     ]
    }
   ],
   "source": [
    "%%time\n",
    "word_vect_size = 300\n",
    "tweet_model = Word2Vec(tweets, vector_size=word_vect_size, min_count=5, window=5, epochs=15)"
   ]
  },
  {
   "cell_type": "code",
   "execution_count": 20,
   "id": "238f9254-2385-4653-9b2f-c1c780ef3b81",
   "metadata": {
    "colab": {
     "base_uri": "https://localhost:8080/"
    },
    "id": "238f9254-2385-4653-9b2f-c1c780ef3b81",
    "outputId": "fce27868-b5af-469b-e7f2-9a7265291142"
   },
   "outputs": [
    {
     "data": {
      "text/plain": [
       "[('china', 0.878233015537262),\n",
       " ('virology', 0.8698071837425232),\n",
       " ('chinese', 0.8117592334747314),\n",
       " ('military', 0.8057734966278076),\n",
       " ('originated', 0.7962672114372253),\n",
       " ('created', 0.7806059718132019),\n",
       " ('dead', 0.7690945267677307),\n",
       " ('são', 0.7648612260818481),\n",
       " ('institute', 0.7645329833030701),\n",
       " ('paulo', 0.7627395987510681)]"
      ]
     },
     "execution_count": 20,
     "metadata": {},
     "output_type": "execute_result"
    }
   ],
   "source": [
    "tweet_model.wv.most_similar('wuhan')"
   ]
  },
  {
   "cell_type": "code",
   "execution_count": 21,
   "id": "81ba1f57-a967-43db-ad21-ea0f99b39749",
   "metadata": {
    "id": "81ba1f57-a967-43db-ad21-ea0f99b39749"
   },
   "outputs": [],
   "source": [
    "from collections import Counter"
   ]
  },
  {
   "cell_type": "code",
   "execution_count": 22,
   "id": "b2828fe1-743c-4225-a1f8-b69cd6ce37e2",
   "metadata": {
    "id": "b2828fe1-743c-4225-a1f8-b69cd6ce37e2"
   },
   "outputs": [],
   "source": [
    "lens = Counter(len(tweet) for tweet in tweets)"
   ]
  },
  {
   "cell_type": "code",
   "execution_count": 23,
   "id": "2119fa9a-e3cb-47ac-85e4-0943ac1d285c",
   "metadata": {
    "id": "2119fa9a-e3cb-47ac-85e4-0943ac1d285c"
   },
   "outputs": [],
   "source": [
    "def get_embeddings(tokens, max_len=100):\n",
    "    result = []\n",
    "    for i in range(max_len):\n",
    "        if i < len(tokens):\n",
    "            word = tokens[i]\n",
    "            if word in tweet_model.wv:\n",
    "                result.append(tweet_model.wv[word])\n",
    "            else:\n",
    "                result.append(np.zeros(word_vect_size))\n",
    "        else:\n",
    "            result.append(np.zeros(word_vect_size))\n",
    "    return result"
   ]
  },
  {
   "cell_type": "code",
   "execution_count": 24,
   "id": "1d0af2f1-1b00-46a7-b7db-342961900c14",
   "metadata": {
    "colab": {
     "base_uri": "https://localhost:8080/"
    },
    "id": "1d0af2f1-1b00-46a7-b7db-342961900c14",
    "outputId": "a482ec0a-6d63-48b3-94d8-1f6bf216e008"
   },
   "outputs": [
    {
     "name": "stderr",
     "output_type": "stream",
     "text": [
      "100%|██████████| 6420/6420 [00:01<00:00, 5270.97it/s]\n"
     ]
    }
   ],
   "source": [
    "tweet_embeddings = np.array([get_embeddings(tweet) for tweet in tqdm(tweets)])"
   ]
  },
  {
   "cell_type": "code",
   "execution_count": 25,
   "id": "4aa865d9-2455-45c3-bc83-86b8493aa00a",
   "metadata": {
    "colab": {
     "base_uri": "https://localhost:8080/"
    },
    "id": "4aa865d9-2455-45c3-bc83-86b8493aa00a",
    "outputId": "9b797a6e-d76a-4b32-a1ad-82b793ba7112"
   },
   "outputs": [
    {
     "data": {
      "text/plain": [
       "(6420, 100, 300)"
      ]
     },
     "execution_count": 25,
     "metadata": {},
     "output_type": "execute_result"
    }
   ],
   "source": [
    "tweet_embeddings.shape"
   ]
  },
  {
   "cell_type": "markdown",
   "id": "e5f20845-0492-4d8b-8c47-203e68240e3d",
   "metadata": {
    "id": "e5f20845-0492-4d8b-8c47-203e68240e3d"
   },
   "source": [
    "## Prepare data"
   ]
  },
  {
   "cell_type": "code",
   "execution_count": 26,
   "id": "27e77f3a-760e-489e-8e4e-0b3fd8047327",
   "metadata": {
    "id": "27e77f3a-760e-489e-8e4e-0b3fd8047327"
   },
   "outputs": [],
   "source": [
    "import torch"
   ]
  },
  {
   "cell_type": "code",
   "execution_count": 27,
   "id": "f6639fda-e82f-4204-8f3a-72425f1e5f6a",
   "metadata": {
    "id": "f6639fda-e82f-4204-8f3a-72425f1e5f6a"
   },
   "outputs": [],
   "source": [
    "X_train, X_test, y_train, y_test = train_test_split(tweet_embeddings, y, test_size=.3, random_state=12345)"
   ]
  },
  {
   "cell_type": "code",
   "execution_count": 28,
   "id": "d8ecf0c2-80a5-47f7-90db-18c5f01da203",
   "metadata": {
    "id": "d8ecf0c2-80a5-47f7-90db-18c5f01da203"
   },
   "outputs": [],
   "source": [
    "in_data = torch.tensor(X_train).float()\n",
    "targets = torch.tensor(y_train.values).float()\n",
    "\n",
    "in_data_test = torch.tensor(X_test).float()\n",
    "targets_test = torch.tensor(y_test.values).float()"
   ]
  },
  {
   "cell_type": "markdown",
   "id": "fdf45378-5e1a-43c5-90d9-49e53ebf233e",
   "metadata": {
    "id": "fdf45378-5e1a-43c5-90d9-49e53ebf233e"
   },
   "source": [
    "## Build a model"
   ]
  },
  {
   "cell_type": "code",
   "execution_count": 29,
   "id": "1bc47876-a527-4e4b-a6b5-f165ed671c52",
   "metadata": {
    "id": "1bc47876-a527-4e4b-a6b5-f165ed671c52"
   },
   "outputs": [],
   "source": [
    "import torch\n",
    "import torch.nn as nn\n",
    "import torch.optim as optim\n",
    "import torch.nn.functional as F"
   ]
  },
  {
   "cell_type": "code",
   "execution_count": 30,
   "id": "9eced9fa-5a76-407b-92d0-0adabd0ebb61",
   "metadata": {
    "id": "9eced9fa-5a76-407b-92d0-0adabd0ebb61"
   },
   "outputs": [],
   "source": [
    "class my_CNN(nn.Module):\n",
    "    def __init__(self, word_vect_size, batch_size):\n",
    "        super(my_CNN, self).__init__()\n",
    "        self.batch_size = batch_size\n",
    "        self.conv2 = nn.Conv2d(in_channels=1, out_channels=2, kernel_size=(2, word_vect_size))\n",
    "        self.conv3 = nn.Conv2d(in_channels=1, out_channels=2, kernel_size=(3, word_vect_size))\n",
    "        self.conv4 = nn.Conv2d(in_channels=1, out_channels=2, kernel_size=(4, word_vect_size))\n",
    "        self.drop = nn.Dropout(.3)\n",
    "        self.softmax = nn.Softmax(-1)\n",
    "        self.out = nn.Linear(6, 1)\n",
    "        # self.sigm = nn.Sigmoid()\n",
    "\n",
    "    def pooling(self, x):\n",
    "        pool = nn.MaxPool2d((x.shape[2], 1))(x).reshape((x.shape[0], 2))\n",
    "        # res = torch.cat([pool[0], pool[1]])\n",
    "        return pool\n",
    "\n",
    "    def forward(self, x):\n",
    "        # self.x = x\n",
    "        x = x.reshape((x.shape[0], 1, x.shape[1], word_vect_size))\n",
    "        x1 = self.pooling(F.relu(self.conv2(x)))\n",
    "        x2 = self.pooling(F.relu(self.conv3(x)))\n",
    "        x3 = self.pooling(F.relu(self.conv4(x)))\n",
    "        concat_ = torch.cat((x1, x2, x3), dim=1)\n",
    "        solved = self.out(self.softmax(self.drop(concat_)))\n",
    "\n",
    "        return solved\n",
    "\n",
    "net = my_CNN(300, 16)"
   ]
  },
  {
   "cell_type": "code",
   "execution_count": 31,
   "id": "4d8e04d1-620d-4f88-b16b-2cf872a0999a",
   "metadata": {
    "colab": {
     "base_uri": "https://localhost:8080/"
    },
    "id": "4d8e04d1-620d-4f88-b16b-2cf872a0999a",
    "outputId": "3192c21d-b210-4e53-e425-c4858a13746c"
   },
   "outputs": [
    {
     "name": "stdout",
     "output_type": "stream",
     "text": [
      "my_CNN(\n",
      "  (conv2): Conv2d(1, 2, kernel_size=(2, 300), stride=(1, 1))\n",
      "  (conv3): Conv2d(1, 2, kernel_size=(3, 300), stride=(1, 1))\n",
      "  (conv4): Conv2d(1, 2, kernel_size=(4, 300), stride=(1, 1))\n",
      "  (drop): Dropout(p=0.3, inplace=False)\n",
      "  (softmax): Softmax(dim=-1)\n",
      "  (out): Linear(in_features=6, out_features=1, bias=True)\n",
      ")\n"
     ]
    }
   ],
   "source": [
    "print(net)"
   ]
  },
  {
   "cell_type": "markdown",
   "id": "c0c321d2-b8cb-49fa-a6ec-274e672db306",
   "metadata": {
    "id": "c0c321d2-b8cb-49fa-a6ec-274e672db306"
   },
   "source": [
    "## Define learning algorythm"
   ]
  },
  {
   "cell_type": "code",
   "execution_count": 32,
   "id": "713fdbd0-9ea9-4020-a34c-a4caf32171f4",
   "metadata": {
    "id": "713fdbd0-9ea9-4020-a34c-a4caf32171f4"
   },
   "outputs": [],
   "source": [
    "optimizer = optim.NAdam(net.parameters(), lr=0.01)\n",
    "criterion = nn.BCEWithLogitsLoss()"
   ]
  },
  {
   "cell_type": "code",
   "execution_count": 33,
   "id": "545b05ff-c5f7-475e-8103-891c969748e9",
   "metadata": {
    "id": "545b05ff-c5f7-475e-8103-891c969748e9"
   },
   "outputs": [],
   "source": [
    "def train_epoch(model, X_train, y_train, batch_size=16, criterion=None, optimizer=None):\n",
    "    for i in tqdm(range(0, in_data.shape[0], batch_size)):\n",
    "        batch_x = X_train[i:i+batch_size]\n",
    "        batch_y = y_train[i:i+batch_size]\n",
    "        optimizer.zero_grad()\n",
    "        output = model(batch_x)\n",
    "        loss = criterion(output.reshape(-1), batch_y)\n",
    "        loss.backward()\n",
    "        optimizer.step()\n",
    "    return loss\n",
    "\n",
    "def train_model(model, in_data, targets, n_epochs=40, criterion=criterion, optimizer=optimizer):\n",
    "    for ep in range(1, n_epochs+1):\n",
    "        print(f'Training epoch {ep}')\n",
    "        loss = train_epoch(model, in_data, targets, criterion=criterion, optimizer=optimizer)\n",
    "        print('Loss function result:', loss.data.tolist())\n",
    "\n",
    "def eval_model(model, in_data_test, targets_test):\n",
    "    with torch.no_grad():\n",
    "        output = model(in_data_test).squeeze(1)\n",
    "\n",
    "    result = np.array((output > 0.5) == targets_test).astype(int)\n",
    "    print(classification_report(targets_test, result))"
   ]
  },
  {
   "cell_type": "markdown",
   "id": "25217e82-3142-4a49-aefa-19bdf4e77e53",
   "metadata": {
    "id": "25217e82-3142-4a49-aefa-19bdf4e77e53"
   },
   "source": [
    "## Train and eval model"
   ]
  },
  {
   "cell_type": "code",
   "execution_count": 34,
   "id": "a1c96643-bc0c-42c5-a672-528e581b800e",
   "metadata": {
    "colab": {
     "base_uri": "https://localhost:8080/"
    },
    "collapsed": true,
    "id": "a1c96643-bc0c-42c5-a672-528e581b800e",
    "jupyter": {
     "outputs_hidden": true
    },
    "outputId": "9d8014c6-84fd-4cf0-94d9-86a1c1fc4055",
    "scrolled": true
   },
   "outputs": [
    {
     "name": "stdout",
     "output_type": "stream",
     "text": [
      "Training epoch 1\n"
     ]
    },
    {
     "name": "stderr",
     "output_type": "stream",
     "text": [
      "100%|██████████| 281/281 [00:02<00:00, 134.82it/s]\n"
     ]
    },
    {
     "name": "stdout",
     "output_type": "stream",
     "text": [
      "Loss function result: 0.45328661799430847\n",
      "Training epoch 2\n"
     ]
    },
    {
     "name": "stderr",
     "output_type": "stream",
     "text": [
      "100%|██████████| 281/281 [00:02<00:00, 123.45it/s]\n"
     ]
    },
    {
     "name": "stdout",
     "output_type": "stream",
     "text": [
      "Loss function result: 0.39669105410575867\n",
      "Training epoch 3\n"
     ]
    },
    {
     "name": "stderr",
     "output_type": "stream",
     "text": [
      "100%|██████████| 281/281 [00:02<00:00, 123.96it/s]\n"
     ]
    },
    {
     "name": "stdout",
     "output_type": "stream",
     "text": [
      "Loss function result: 0.48157167434692383\n",
      "Training epoch 4\n"
     ]
    },
    {
     "name": "stderr",
     "output_type": "stream",
     "text": [
      "100%|██████████| 281/281 [00:02<00:00, 125.03it/s]\n"
     ]
    },
    {
     "name": "stdout",
     "output_type": "stream",
     "text": [
      "Loss function result: 0.3018181324005127\n",
      "Training epoch 5\n"
     ]
    },
    {
     "name": "stderr",
     "output_type": "stream",
     "text": [
      "100%|██████████| 281/281 [00:02<00:00, 129.49it/s]\n"
     ]
    },
    {
     "name": "stdout",
     "output_type": "stream",
     "text": [
      "Loss function result: 0.5316572189331055\n",
      "Training epoch 6\n"
     ]
    },
    {
     "name": "stderr",
     "output_type": "stream",
     "text": [
      "100%|██████████| 281/281 [00:02<00:00, 132.88it/s]\n"
     ]
    },
    {
     "name": "stdout",
     "output_type": "stream",
     "text": [
      "Loss function result: 0.3860326409339905\n",
      "Training epoch 7\n"
     ]
    },
    {
     "name": "stderr",
     "output_type": "stream",
     "text": [
      "100%|██████████| 281/281 [00:02<00:00, 128.54it/s]\n"
     ]
    },
    {
     "name": "stdout",
     "output_type": "stream",
     "text": [
      "Loss function result: 0.5292941927909851\n",
      "Training epoch 8\n"
     ]
    },
    {
     "name": "stderr",
     "output_type": "stream",
     "text": [
      "100%|██████████| 281/281 [00:02<00:00, 123.10it/s]\n"
     ]
    },
    {
     "name": "stdout",
     "output_type": "stream",
     "text": [
      "Loss function result: 0.2994154989719391\n",
      "Training epoch 9\n"
     ]
    },
    {
     "name": "stderr",
     "output_type": "stream",
     "text": [
      "100%|██████████| 281/281 [00:02<00:00, 133.35it/s]\n"
     ]
    },
    {
     "name": "stdout",
     "output_type": "stream",
     "text": [
      "Loss function result: 0.6257075071334839\n",
      "Training epoch 10\n"
     ]
    },
    {
     "name": "stderr",
     "output_type": "stream",
     "text": [
      "100%|██████████| 281/281 [00:02<00:00, 123.42it/s]\n"
     ]
    },
    {
     "name": "stdout",
     "output_type": "stream",
     "text": [
      "Loss function result: 0.5919832587242126\n",
      "Training epoch 11\n"
     ]
    },
    {
     "name": "stderr",
     "output_type": "stream",
     "text": [
      "100%|██████████| 281/281 [00:02<00:00, 123.91it/s]\n"
     ]
    },
    {
     "name": "stdout",
     "output_type": "stream",
     "text": [
      "Loss function result: 0.29603487253189087\n",
      "Training epoch 12\n"
     ]
    },
    {
     "name": "stderr",
     "output_type": "stream",
     "text": [
      "100%|██████████| 281/281 [00:02<00:00, 109.81it/s]\n"
     ]
    },
    {
     "name": "stdout",
     "output_type": "stream",
     "text": [
      "Loss function result: 0.5589989423751831\n",
      "Training epoch 13\n"
     ]
    },
    {
     "name": "stderr",
     "output_type": "stream",
     "text": [
      "100%|██████████| 281/281 [00:02<00:00, 109.21it/s]\n"
     ]
    },
    {
     "name": "stdout",
     "output_type": "stream",
     "text": [
      "Loss function result: 0.46713122725486755\n",
      "Training epoch 14\n"
     ]
    },
    {
     "name": "stderr",
     "output_type": "stream",
     "text": [
      "100%|██████████| 281/281 [00:02<00:00, 109.25it/s]\n"
     ]
    },
    {
     "name": "stdout",
     "output_type": "stream",
     "text": [
      "Loss function result: 0.5273116230964661\n",
      "Training epoch 15\n"
     ]
    },
    {
     "name": "stderr",
     "output_type": "stream",
     "text": [
      "100%|██████████| 281/281 [00:02<00:00, 129.62it/s]\n"
     ]
    },
    {
     "name": "stdout",
     "output_type": "stream",
     "text": [
      "Loss function result: 0.5859057307243347\n",
      "Training epoch 16\n"
     ]
    },
    {
     "name": "stderr",
     "output_type": "stream",
     "text": [
      "100%|██████████| 281/281 [00:02<00:00, 135.52it/s]\n"
     ]
    },
    {
     "name": "stdout",
     "output_type": "stream",
     "text": [
      "Loss function result: 0.4303719997406006\n",
      "Training epoch 17\n"
     ]
    },
    {
     "name": "stderr",
     "output_type": "stream",
     "text": [
      "100%|██████████| 281/281 [00:02<00:00, 133.83it/s]\n"
     ]
    },
    {
     "name": "stdout",
     "output_type": "stream",
     "text": [
      "Loss function result: 0.5293723940849304\n",
      "Training epoch 18\n"
     ]
    },
    {
     "name": "stderr",
     "output_type": "stream",
     "text": [
      "100%|██████████| 281/281 [00:02<00:00, 129.22it/s]\n"
     ]
    },
    {
     "name": "stdout",
     "output_type": "stream",
     "text": [
      "Loss function result: 0.42361336946487427\n",
      "Training epoch 19\n"
     ]
    },
    {
     "name": "stderr",
     "output_type": "stream",
     "text": [
      "100%|██████████| 281/281 [00:02<00:00, 122.45it/s]\n"
     ]
    },
    {
     "name": "stdout",
     "output_type": "stream",
     "text": [
      "Loss function result: 0.43287625908851624\n",
      "Training epoch 20\n"
     ]
    },
    {
     "name": "stderr",
     "output_type": "stream",
     "text": [
      "100%|██████████| 281/281 [00:02<00:00, 136.11it/s]\n"
     ]
    },
    {
     "name": "stdout",
     "output_type": "stream",
     "text": [
      "Loss function result: 0.5594396591186523\n",
      "Training epoch 21\n"
     ]
    },
    {
     "name": "stderr",
     "output_type": "stream",
     "text": [
      "100%|██████████| 281/281 [00:02<00:00, 137.84it/s]\n"
     ]
    },
    {
     "name": "stdout",
     "output_type": "stream",
     "text": [
      "Loss function result: 0.3284465968608856\n",
      "Training epoch 22\n"
     ]
    },
    {
     "name": "stderr",
     "output_type": "stream",
     "text": [
      "100%|██████████| 281/281 [00:02<00:00, 136.64it/s]\n"
     ]
    },
    {
     "name": "stdout",
     "output_type": "stream",
     "text": [
      "Loss function result: 0.4505043625831604\n",
      "Training epoch 23\n"
     ]
    },
    {
     "name": "stderr",
     "output_type": "stream",
     "text": [
      "100%|██████████| 281/281 [00:02<00:00, 134.93it/s]\n"
     ]
    },
    {
     "name": "stdout",
     "output_type": "stream",
     "text": [
      "Loss function result: 0.3835628628730774\n",
      "Training epoch 24\n"
     ]
    },
    {
     "name": "stderr",
     "output_type": "stream",
     "text": [
      "100%|██████████| 281/281 [00:02<00:00, 126.26it/s]\n"
     ]
    },
    {
     "name": "stdout",
     "output_type": "stream",
     "text": [
      "Loss function result: 0.36022406816482544\n",
      "Training epoch 25\n"
     ]
    },
    {
     "name": "stderr",
     "output_type": "stream",
     "text": [
      "100%|██████████| 281/281 [00:02<00:00, 115.88it/s]\n"
     ]
    },
    {
     "name": "stdout",
     "output_type": "stream",
     "text": [
      "Loss function result: 0.11595787107944489\n",
      "Training epoch 26\n"
     ]
    },
    {
     "name": "stderr",
     "output_type": "stream",
     "text": [
      "100%|██████████| 281/281 [00:02<00:00, 134.90it/s]\n"
     ]
    },
    {
     "name": "stdout",
     "output_type": "stream",
     "text": [
      "Loss function result: 0.27766457200050354\n",
      "Training epoch 27\n"
     ]
    },
    {
     "name": "stderr",
     "output_type": "stream",
     "text": [
      "100%|██████████| 281/281 [00:02<00:00, 137.54it/s]\n"
     ]
    },
    {
     "name": "stdout",
     "output_type": "stream",
     "text": [
      "Loss function result: 0.3457057476043701\n",
      "Training epoch 28\n"
     ]
    },
    {
     "name": "stderr",
     "output_type": "stream",
     "text": [
      "100%|██████████| 281/281 [00:02<00:00, 135.21it/s]\n"
     ]
    },
    {
     "name": "stdout",
     "output_type": "stream",
     "text": [
      "Loss function result: 0.48455366492271423\n",
      "Training epoch 29\n"
     ]
    },
    {
     "name": "stderr",
     "output_type": "stream",
     "text": [
      "100%|██████████| 281/281 [00:02<00:00, 135.05it/s]\n"
     ]
    },
    {
     "name": "stdout",
     "output_type": "stream",
     "text": [
      "Loss function result: 0.36052390933036804\n",
      "Training epoch 30\n"
     ]
    },
    {
     "name": "stderr",
     "output_type": "stream",
     "text": [
      "100%|██████████| 281/281 [00:02<00:00, 122.00it/s]\n"
     ]
    },
    {
     "name": "stdout",
     "output_type": "stream",
     "text": [
      "Loss function result: 0.3704860508441925\n",
      "Training epoch 31\n"
     ]
    },
    {
     "name": "stderr",
     "output_type": "stream",
     "text": [
      "100%|██████████| 281/281 [00:02<00:00, 132.31it/s]\n"
     ]
    },
    {
     "name": "stdout",
     "output_type": "stream",
     "text": [
      "Loss function result: 0.11072523891925812\n",
      "Training epoch 32\n"
     ]
    },
    {
     "name": "stderr",
     "output_type": "stream",
     "text": [
      "100%|██████████| 281/281 [00:02<00:00, 133.31it/s]\n"
     ]
    },
    {
     "name": "stdout",
     "output_type": "stream",
     "text": [
      "Loss function result: 0.21962495148181915\n",
      "Training epoch 33\n"
     ]
    },
    {
     "name": "stderr",
     "output_type": "stream",
     "text": [
      "100%|██████████| 281/281 [00:02<00:00, 131.59it/s]\n"
     ]
    },
    {
     "name": "stdout",
     "output_type": "stream",
     "text": [
      "Loss function result: 0.4505220353603363\n",
      "Training epoch 34\n"
     ]
    },
    {
     "name": "stderr",
     "output_type": "stream",
     "text": [
      "100%|██████████| 281/281 [00:02<00:00, 128.01it/s]\n"
     ]
    },
    {
     "name": "stdout",
     "output_type": "stream",
     "text": [
      "Loss function result: 0.13483406603336334\n",
      "Training epoch 35\n"
     ]
    },
    {
     "name": "stderr",
     "output_type": "stream",
     "text": [
      "100%|██████████| 281/281 [00:02<00:00, 131.87it/s]\n"
     ]
    },
    {
     "name": "stdout",
     "output_type": "stream",
     "text": [
      "Loss function result: 0.2658945620059967\n",
      "Training epoch 36\n"
     ]
    },
    {
     "name": "stderr",
     "output_type": "stream",
     "text": [
      "100%|██████████| 281/281 [00:02<00:00, 130.63it/s]\n"
     ]
    },
    {
     "name": "stdout",
     "output_type": "stream",
     "text": [
      "Loss function result: 0.2964777946472168\n",
      "Training epoch 37\n"
     ]
    },
    {
     "name": "stderr",
     "output_type": "stream",
     "text": [
      "100%|██████████| 281/281 [00:02<00:00, 133.19it/s]\n"
     ]
    },
    {
     "name": "stdout",
     "output_type": "stream",
     "text": [
      "Loss function result: 0.13124389946460724\n",
      "Training epoch 38\n"
     ]
    },
    {
     "name": "stderr",
     "output_type": "stream",
     "text": [
      "100%|██████████| 281/281 [00:02<00:00, 137.93it/s]\n"
     ]
    },
    {
     "name": "stdout",
     "output_type": "stream",
     "text": [
      "Loss function result: 0.19545602798461914\n",
      "Training epoch 39\n"
     ]
    },
    {
     "name": "stderr",
     "output_type": "stream",
     "text": [
      "100%|██████████| 281/281 [00:02<00:00, 137.10it/s]\n"
     ]
    },
    {
     "name": "stdout",
     "output_type": "stream",
     "text": [
      "Loss function result: 0.32014307379722595\n",
      "Training epoch 40\n"
     ]
    },
    {
     "name": "stderr",
     "output_type": "stream",
     "text": [
      "100%|██████████| 281/281 [00:02<00:00, 136.40it/s]"
     ]
    },
    {
     "name": "stdout",
     "output_type": "stream",
     "text": [
      "Loss function result: 0.20660655200481415\n"
     ]
    },
    {
     "name": "stderr",
     "output_type": "stream",
     "text": [
      "\n"
     ]
    }
   ],
   "source": [
    "train_model(net, in_data, targets)"
   ]
  },
  {
   "cell_type": "code",
   "execution_count": 35,
   "id": "72f037b1-efe8-48cb-9982-41493ba76029",
   "metadata": {
    "colab": {
     "base_uri": "https://localhost:8080/"
    },
    "id": "72f037b1-efe8-48cb-9982-41493ba76029",
    "outputId": "907b3205-eec7-48ae-d2a3-3aa61992549a"
   },
   "outputs": [
    {
     "name": "stdout",
     "output_type": "stream",
     "text": [
      "              precision    recall  f1-score   support\n",
      "\n",
      "         0.0       0.42      0.13      0.19       895\n",
      "         1.0       0.53      0.85      0.65      1031\n",
      "\n",
      "    accuracy                           0.51      1926\n",
      "   macro avg       0.48      0.49      0.42      1926\n",
      "weighted avg       0.48      0.51      0.44      1926\n",
      "\n"
     ]
    }
   ],
   "source": [
    "eval_model(net, in_data_test, targets_test)"
   ]
  },
  {
   "cell_type": "markdown",
   "id": "e357c585-bbb4-4719-ab51-6d9019a057b5",
   "metadata": {
    "id": "e357c585-bbb4-4719-ab51-6d9019a057b5"
   },
   "source": [
    "# w2v + 2way LSTM"
   ]
  },
  {
   "cell_type": "markdown",
   "id": "e81af4ca-63aa-4e32-bf99-12a49c702d14",
   "metadata": {
    "id": "e81af4ca-63aa-4e32-bf99-12a49c702d14"
   },
   "source": [
    "Lets leave out our last embeddings"
   ]
  },
  {
   "cell_type": "code",
   "execution_count": 36,
   "id": "367fde5e-c5f2-43f0-9ff6-b562fee6ff34",
   "metadata": {
    "id": "367fde5e-c5f2-43f0-9ff6-b562fee6ff34"
   },
   "outputs": [],
   "source": [
    "X = tweet_embeddings\n",
    "y = np.array((df.label == 'real')).astype(int)"
   ]
  },
  {
   "cell_type": "code",
   "execution_count": 37,
   "id": "5b70c5e0-34f6-4532-9684-42e5714dff4c",
   "metadata": {
    "colab": {
     "base_uri": "https://localhost:8080/"
    },
    "id": "5b70c5e0-34f6-4532-9684-42e5714dff4c",
    "outputId": "f485e298-2a1b-4892-b5d4-24ffb7287a0b"
   },
   "outputs": [
    {
     "data": {
      "text/plain": [
       "True"
      ]
     },
     "execution_count": 37,
     "metadata": {},
     "output_type": "execute_result"
    }
   ],
   "source": [
    "X.shape[0] == y.shape[0]"
   ]
  },
  {
   "cell_type": "markdown",
   "id": "4b0d34b0-b308-4b48-b853-7e08a45cf106",
   "metadata": {
    "id": "4b0d34b0-b308-4b48-b853-7e08a45cf106"
   },
   "source": [
    "## Prepare data"
   ]
  },
  {
   "cell_type": "code",
   "execution_count": 38,
   "id": "546ccca0-73e6-434a-ad86-77d0bad56100",
   "metadata": {
    "id": "546ccca0-73e6-434a-ad86-77d0bad56100"
   },
   "outputs": [],
   "source": [
    "X_train, X_test, y_train, y_test = train_test_split(X, y, test_size=.3, random_state=15)"
   ]
  },
  {
   "cell_type": "code",
   "execution_count": 39,
   "id": "847abd6d-7a0d-4db8-9439-995b28e72c89",
   "metadata": {
    "id": "847abd6d-7a0d-4db8-9439-995b28e72c89"
   },
   "outputs": [],
   "source": [
    "in_data = torch.tensor(X_train).float()\n",
    "targets = torch.tensor(y_train).float()\n",
    "\n",
    "in_data_test = torch.tensor(X_test).float()\n",
    "targets_test = torch.tensor(y_test).float()"
   ]
  },
  {
   "cell_type": "markdown",
   "id": "76799f41-2cb5-43e1-8853-869d5f8c2b3b",
   "metadata": {
    "id": "76799f41-2cb5-43e1-8853-869d5f8c2b3b"
   },
   "source": [
    "## Build model"
   ]
  },
  {
   "cell_type": "code",
   "execution_count": 40,
   "id": "bb1f7a32-8bb5-46d2-97d9-a5d97c847f76",
   "metadata": {
    "id": "bb1f7a32-8bb5-46d2-97d9-a5d97c847f76"
   },
   "outputs": [],
   "source": [
    "class seryozny_RNN(nn.Module):\n",
    "    def __init__(self):\n",
    "        super(seryozny_RNN, self).__init__()\n",
    "        # self.lstm1 = nn.LSTM(300, 150, 2, dropout=.25)\n",
    "        self.lstm2 = nn.LSTM(300, 150, bidirectional=True)\n",
    "\n",
    "        self.pool = nn.MaxPool2d(kernel_size=(1, 300))\n",
    "\n",
    "        self.dense1 = nn.Linear(100, 1)\n",
    "        # self.dense2 = nn.Linear(50, 25)\n",
    "        # self.dense3 = nn.Linear(25, 1)\n",
    "        self.drop = nn.Dropout(.5)\n",
    "        self.sigm = nn.Sigmoid()\n",
    "        # self.res_solver = nn.Linear(100, 1)\n",
    "\n",
    "    def forward(self, x):\n",
    "        h0 = torch.randn(2, 100, 150)\n",
    "        c0 = torch.randn(2, 100, 150)\n",
    "\n",
    "        # embed, (h1, c1) = self.lstm1(x, (h0, c0))\n",
    "        embed1, (h2, c2) = self.lstm2(x, (h0, c0))\n",
    "\n",
    "        x_out = self.pool(embed1).reshape((x.shape[0], 100))\n",
    "\n",
    "        x_out = self.dense1(x_out)\n",
    "        # x_out = self.sigm(self.res_solver(x_out.reshape(16, 100)))\n",
    "\n",
    "        return self.sigm(x_out)\n",
    "        #\n",
    "\n",
    "net2 = seryozny_RNN()"
   ]
  },
  {
   "cell_type": "markdown",
   "id": "f79ae101-b7cc-4659-b44a-df050fba0d33",
   "metadata": {
    "id": "f79ae101-b7cc-4659-b44a-df050fba0d33"
   },
   "source": [
    "## Train and eval data"
   ]
  },
  {
   "cell_type": "code",
   "execution_count": 41,
   "id": "28f7f359-7a1e-446b-a308-d5955670db16",
   "metadata": {
    "id": "28f7f359-7a1e-446b-a308-d5955670db16"
   },
   "outputs": [],
   "source": [
    "optimizer1 = optim.Adam(net2.parameters(), lr=0.01)\n",
    "criterion1 = nn.BCEWithLogitsLoss()"
   ]
  },
  {
   "cell_type": "code",
   "execution_count": 42,
   "id": "7a3c89ad-6fa1-4058-811c-f0561029a433",
   "metadata": {
    "colab": {
     "base_uri": "https://localhost:8080/"
    },
    "collapsed": true,
    "id": "7a3c89ad-6fa1-4058-811c-f0561029a433",
    "jupyter": {
     "outputs_hidden": true
    },
    "outputId": "0a4ce327-007b-48ad-8d00-dc00ce8c258d"
   },
   "outputs": [
    {
     "name": "stdout",
     "output_type": "stream",
     "text": [
      "Training epoch 1\n"
     ]
    },
    {
     "name": "stderr",
     "output_type": "stream",
     "text": [
      "100%|██████████| 281/281 [00:04<00:00, 59.24it/s]\n"
     ]
    },
    {
     "name": "stdout",
     "output_type": "stream",
     "text": [
      "Loss function result: 0.5388667583465576\n",
      "Training epoch 2\n"
     ]
    },
    {
     "name": "stderr",
     "output_type": "stream",
     "text": [
      "100%|██████████| 281/281 [00:04<00:00, 58.92it/s]\n"
     ]
    },
    {
     "name": "stdout",
     "output_type": "stream",
     "text": [
      "Loss function result: 0.5370286703109741\n",
      "Training epoch 3\n"
     ]
    },
    {
     "name": "stderr",
     "output_type": "stream",
     "text": [
      "100%|██████████| 281/281 [00:04<00:00, 61.09it/s]\n"
     ]
    },
    {
     "name": "stdout",
     "output_type": "stream",
     "text": [
      "Loss function result: 0.5319088101387024\n",
      "Training epoch 4\n"
     ]
    },
    {
     "name": "stderr",
     "output_type": "stream",
     "text": [
      "100%|██████████| 281/281 [00:04<00:00, 60.32it/s]\n"
     ]
    },
    {
     "name": "stdout",
     "output_type": "stream",
     "text": [
      "Loss function result: 0.5358630418777466\n",
      "Training epoch 5\n"
     ]
    },
    {
     "name": "stderr",
     "output_type": "stream",
     "text": [
      "100%|██████████| 281/281 [00:04<00:00, 61.86it/s]\n"
     ]
    },
    {
     "name": "stdout",
     "output_type": "stream",
     "text": [
      "Loss function result: 0.5273175835609436\n",
      "Training epoch 6\n"
     ]
    },
    {
     "name": "stderr",
     "output_type": "stream",
     "text": [
      "100%|██████████| 281/281 [00:04<00:00, 61.11it/s]\n"
     ]
    },
    {
     "name": "stdout",
     "output_type": "stream",
     "text": [
      "Loss function result: 0.5294984579086304\n",
      "Training epoch 7\n"
     ]
    },
    {
     "name": "stderr",
     "output_type": "stream",
     "text": [
      "100%|██████████| 281/281 [00:04<00:00, 57.00it/s]\n"
     ]
    },
    {
     "name": "stdout",
     "output_type": "stream",
     "text": [
      "Loss function result: 0.5293110013008118\n",
      "Training epoch 8\n"
     ]
    },
    {
     "name": "stderr",
     "output_type": "stream",
     "text": [
      "100%|██████████| 281/281 [00:05<00:00, 54.93it/s]\n"
     ]
    },
    {
     "name": "stdout",
     "output_type": "stream",
     "text": [
      "Loss function result: 0.5327244400978088\n",
      "Training epoch 9\n"
     ]
    },
    {
     "name": "stderr",
     "output_type": "stream",
     "text": [
      "100%|██████████| 281/281 [00:05<00:00, 53.89it/s]\n"
     ]
    },
    {
     "name": "stdout",
     "output_type": "stream",
     "text": [
      "Loss function result: 0.5303908586502075\n",
      "Training epoch 10\n"
     ]
    },
    {
     "name": "stderr",
     "output_type": "stream",
     "text": [
      "100%|██████████| 281/281 [00:05<00:00, 54.17it/s]\n"
     ]
    },
    {
     "name": "stdout",
     "output_type": "stream",
     "text": [
      "Loss function result: 0.5278099179267883\n",
      "Training epoch 11\n"
     ]
    },
    {
     "name": "stderr",
     "output_type": "stream",
     "text": [
      "100%|██████████| 281/281 [00:05<00:00, 52.12it/s]\n"
     ]
    },
    {
     "name": "stdout",
     "output_type": "stream",
     "text": [
      "Loss function result: 0.5303411483764648\n",
      "Training epoch 12\n"
     ]
    },
    {
     "name": "stderr",
     "output_type": "stream",
     "text": [
      "100%|██████████| 281/281 [00:05<00:00, 47.37it/s]\n"
     ]
    },
    {
     "name": "stdout",
     "output_type": "stream",
     "text": [
      "Loss function result: 0.5306784510612488\n",
      "Training epoch 13\n"
     ]
    },
    {
     "name": "stderr",
     "output_type": "stream",
     "text": [
      "100%|██████████| 281/281 [00:05<00:00, 48.89it/s]\n"
     ]
    },
    {
     "name": "stdout",
     "output_type": "stream",
     "text": [
      "Loss function result: 0.5199688076972961\n",
      "Training epoch 14\n"
     ]
    },
    {
     "name": "stderr",
     "output_type": "stream",
     "text": [
      "100%|██████████| 281/281 [00:05<00:00, 46.99it/s]\n"
     ]
    },
    {
     "name": "stdout",
     "output_type": "stream",
     "text": [
      "Loss function result: 0.5310918688774109\n",
      "Training epoch 15\n"
     ]
    },
    {
     "name": "stderr",
     "output_type": "stream",
     "text": [
      "100%|██████████| 281/281 [00:06<00:00, 46.47it/s]\n"
     ]
    },
    {
     "name": "stdout",
     "output_type": "stream",
     "text": [
      "Loss function result: 0.5304362177848816\n",
      "Training epoch 16\n"
     ]
    },
    {
     "name": "stderr",
     "output_type": "stream",
     "text": [
      "100%|██████████| 281/281 [00:06<00:00, 44.22it/s]\n"
     ]
    },
    {
     "name": "stdout",
     "output_type": "stream",
     "text": [
      "Loss function result: 0.5302203893661499\n",
      "Training epoch 17\n"
     ]
    },
    {
     "name": "stderr",
     "output_type": "stream",
     "text": [
      "100%|██████████| 281/281 [00:06<00:00, 43.38it/s]\n"
     ]
    },
    {
     "name": "stdout",
     "output_type": "stream",
     "text": [
      "Loss function result: 0.5304835438728333\n",
      "Training epoch 18\n"
     ]
    },
    {
     "name": "stderr",
     "output_type": "stream",
     "text": [
      "100%|██████████| 281/281 [00:06<00:00, 41.35it/s]\n"
     ]
    },
    {
     "name": "stdout",
     "output_type": "stream",
     "text": [
      "Loss function result: 0.5352168679237366\n",
      "Training epoch 19\n"
     ]
    },
    {
     "name": "stderr",
     "output_type": "stream",
     "text": [
      "100%|██████████| 281/281 [00:06<00:00, 41.33it/s]\n"
     ]
    },
    {
     "name": "stdout",
     "output_type": "stream",
     "text": [
      "Loss function result: 0.530795156955719\n",
      "Training epoch 20\n"
     ]
    },
    {
     "name": "stderr",
     "output_type": "stream",
     "text": [
      "100%|██████████| 281/281 [00:07<00:00, 39.35it/s]\n"
     ]
    },
    {
     "name": "stdout",
     "output_type": "stream",
     "text": [
      "Loss function result: 0.5315490365028381\n",
      "Training epoch 21\n"
     ]
    },
    {
     "name": "stderr",
     "output_type": "stream",
     "text": [
      "100%|██████████| 281/281 [00:07<00:00, 39.07it/s]\n"
     ]
    },
    {
     "name": "stdout",
     "output_type": "stream",
     "text": [
      "Loss function result: 0.5505733489990234\n",
      "Training epoch 22\n"
     ]
    },
    {
     "name": "stderr",
     "output_type": "stream",
     "text": [
      "100%|██████████| 281/281 [00:07<00:00, 36.82it/s]\n"
     ]
    },
    {
     "name": "stdout",
     "output_type": "stream",
     "text": [
      "Loss function result: 0.5360298752784729\n",
      "Training epoch 23\n"
     ]
    },
    {
     "name": "stderr",
     "output_type": "stream",
     "text": [
      "100%|██████████| 281/281 [00:07<00:00, 36.77it/s]\n"
     ]
    },
    {
     "name": "stdout",
     "output_type": "stream",
     "text": [
      "Loss function result: 0.528559148311615\n",
      "Training epoch 24\n"
     ]
    },
    {
     "name": "stderr",
     "output_type": "stream",
     "text": [
      "100%|██████████| 281/281 [00:07<00:00, 36.43it/s]\n"
     ]
    },
    {
     "name": "stdout",
     "output_type": "stream",
     "text": [
      "Loss function result: 0.5331501364707947\n",
      "Training epoch 25\n"
     ]
    },
    {
     "name": "stderr",
     "output_type": "stream",
     "text": [
      "100%|██████████| 281/281 [00:07<00:00, 35.40it/s]\n"
     ]
    },
    {
     "name": "stdout",
     "output_type": "stream",
     "text": [
      "Loss function result: 0.5397530794143677\n",
      "Training epoch 26\n"
     ]
    },
    {
     "name": "stderr",
     "output_type": "stream",
     "text": [
      "100%|██████████| 281/281 [00:07<00:00, 35.33it/s]\n"
     ]
    },
    {
     "name": "stdout",
     "output_type": "stream",
     "text": [
      "Loss function result: 0.5340901613235474\n",
      "Training epoch 27\n"
     ]
    },
    {
     "name": "stderr",
     "output_type": "stream",
     "text": [
      "100%|██████████| 281/281 [00:08<00:00, 33.98it/s]\n"
     ]
    },
    {
     "name": "stdout",
     "output_type": "stream",
     "text": [
      "Loss function result: 0.5244712233543396\n",
      "Training epoch 28\n"
     ]
    },
    {
     "name": "stderr",
     "output_type": "stream",
     "text": [
      "100%|██████████| 281/281 [00:08<00:00, 33.79it/s]\n"
     ]
    },
    {
     "name": "stdout",
     "output_type": "stream",
     "text": [
      "Loss function result: 0.5293012261390686\n",
      "Training epoch 29\n"
     ]
    },
    {
     "name": "stderr",
     "output_type": "stream",
     "text": [
      "100%|██████████| 281/281 [00:08<00:00, 33.76it/s]\n"
     ]
    },
    {
     "name": "stdout",
     "output_type": "stream",
     "text": [
      "Loss function result: 0.5297016501426697\n",
      "Training epoch 30\n"
     ]
    },
    {
     "name": "stderr",
     "output_type": "stream",
     "text": [
      "100%|██████████| 281/281 [00:08<00:00, 32.59it/s]\n"
     ]
    },
    {
     "name": "stdout",
     "output_type": "stream",
     "text": [
      "Loss function result: 0.5284325480461121\n",
      "Training epoch 31\n"
     ]
    },
    {
     "name": "stderr",
     "output_type": "stream",
     "text": [
      "100%|██████████| 281/281 [00:08<00:00, 32.21it/s]\n"
     ]
    },
    {
     "name": "stdout",
     "output_type": "stream",
     "text": [
      "Loss function result: 0.5298836827278137\n",
      "Training epoch 32\n"
     ]
    },
    {
     "name": "stderr",
     "output_type": "stream",
     "text": [
      "100%|██████████| 281/281 [00:08<00:00, 32.51it/s]\n"
     ]
    },
    {
     "name": "stdout",
     "output_type": "stream",
     "text": [
      "Loss function result: 0.5288249254226685\n",
      "Training epoch 33\n"
     ]
    },
    {
     "name": "stderr",
     "output_type": "stream",
     "text": [
      "100%|██████████| 281/281 [00:09<00:00, 31.20it/s]\n"
     ]
    },
    {
     "name": "stdout",
     "output_type": "stream",
     "text": [
      "Loss function result: 0.5301772952079773\n",
      "Training epoch 34\n"
     ]
    },
    {
     "name": "stderr",
     "output_type": "stream",
     "text": [
      "100%|██████████| 281/281 [00:08<00:00, 31.32it/s]\n"
     ]
    },
    {
     "name": "stdout",
     "output_type": "stream",
     "text": [
      "Loss function result: 0.5301278829574585\n",
      "Training epoch 35\n"
     ]
    },
    {
     "name": "stderr",
     "output_type": "stream",
     "text": [
      "100%|██████████| 281/281 [00:08<00:00, 31.93it/s]\n"
     ]
    },
    {
     "name": "stdout",
     "output_type": "stream",
     "text": [
      "Loss function result: 0.5316230058670044\n",
      "Training epoch 36\n"
     ]
    },
    {
     "name": "stderr",
     "output_type": "stream",
     "text": [
      "100%|██████████| 281/281 [00:08<00:00, 31.28it/s]\n"
     ]
    },
    {
     "name": "stdout",
     "output_type": "stream",
     "text": [
      "Loss function result: 0.5201858878135681\n",
      "Training epoch 37\n"
     ]
    },
    {
     "name": "stderr",
     "output_type": "stream",
     "text": [
      "100%|██████████| 281/281 [00:09<00:00, 30.29it/s]\n"
     ]
    },
    {
     "name": "stdout",
     "output_type": "stream",
     "text": [
      "Loss function result: 0.5259977579116821\n",
      "Training epoch 38\n"
     ]
    },
    {
     "name": "stderr",
     "output_type": "stream",
     "text": [
      "100%|██████████| 281/281 [00:09<00:00, 30.96it/s]\n"
     ]
    },
    {
     "name": "stdout",
     "output_type": "stream",
     "text": [
      "Loss function result: 0.5307155251502991\n",
      "Training epoch 39\n"
     ]
    },
    {
     "name": "stderr",
     "output_type": "stream",
     "text": [
      "100%|██████████| 281/281 [00:09<00:00, 29.73it/s]\n"
     ]
    },
    {
     "name": "stdout",
     "output_type": "stream",
     "text": [
      "Loss function result: 0.5297655463218689\n",
      "Training epoch 40\n"
     ]
    },
    {
     "name": "stderr",
     "output_type": "stream",
     "text": [
      "100%|██████████| 281/281 [00:09<00:00, 29.90it/s]"
     ]
    },
    {
     "name": "stdout",
     "output_type": "stream",
     "text": [
      "Loss function result: 0.5302874445915222\n"
     ]
    },
    {
     "name": "stderr",
     "output_type": "stream",
     "text": [
      "\n"
     ]
    }
   ],
   "source": [
    "train_model(net2, in_data, targets, n_epochs=40, criterion=criterion1, optimizer=optimizer1)"
   ]
  },
  {
   "cell_type": "code",
   "execution_count": 43,
   "id": "3c13d4a6-12fa-4d0d-8378-d73cb96e5a43",
   "metadata": {
    "colab": {
     "base_uri": "https://localhost:8080/"
    },
    "id": "3c13d4a6-12fa-4d0d-8378-d73cb96e5a43",
    "outputId": "7fb918ec-47a7-4f75-d95f-90d1fe26bbe9"
   },
   "outputs": [
    {
     "name": "stdout",
     "output_type": "stream",
     "text": [
      "              precision    recall  f1-score   support\n",
      "\n",
      "         0.0       0.35      0.08      0.12       910\n",
      "         1.0       0.51      0.87      0.65      1016\n",
      "\n",
      "    accuracy                           0.50      1926\n",
      "   macro avg       0.43      0.47      0.39      1926\n",
      "weighted avg       0.43      0.50      0.40      1926\n",
      "\n"
     ]
    }
   ],
   "source": [
    "eval_model(net2, in_data_test, targets_test)"
   ]
  }
 ],
 "metadata": {
  "accelerator": "TPU",
  "colab": {
   "gpuType": "V28",
   "provenance": []
  },
  "kernelspec": {
   "display_name": "Python 3 (ipykernel)",
   "language": "python",
   "name": "python3"
  },
  "language_info": {
   "codemirror_mode": {
    "name": "ipython",
    "version": 3
   },
   "file_extension": ".py",
   "mimetype": "text/x-python",
   "name": "python",
   "nbconvert_exporter": "python",
   "pygments_lexer": "ipython3",
   "version": "3.10.9"
  }
 },
 "nbformat": 4,
 "nbformat_minor": 5
}
