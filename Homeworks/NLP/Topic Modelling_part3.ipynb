{
 "cells": [
  {
   "cell_type": "markdown",
   "id": "7203a242-cc6c-4de5-bdb2-1ff51a43ca80",
   "metadata": {},
   "source": [
    "# Part 3. Classification"
   ]
  },
  {
   "cell_type": "markdown",
   "id": "791e148b-82aa-42a1-907e-4be684eb0350",
   "metadata": {},
   "source": [
    "## 1. Data preparation"
   ]
  },
  {
   "cell_type": "code",
   "execution_count": 1,
   "id": "3450dcf9-e05f-4ada-97dd-ea9bd59edb87",
   "metadata": {},
   "outputs": [],
   "source": [
    "import bz2, json\n",
    "import tqdm\n",
    "import pandas as pd\n",
    "import numpy as np"
   ]
  },
  {
   "cell_type": "code",
   "execution_count": 2,
   "id": "7513b001-d4e6-4e89-9929-328025289efa",
   "metadata": {},
   "outputs": [
    {
     "name": "stderr",
     "output_type": "stream",
     "text": [
      "201030it [02:11, 1533.16it/s]\n"
     ]
    }
   ],
   "source": [
    "path = 'banki_responses.json.bz2'\n",
    "\n",
    "with bz2.open(path, 'rt') as bzinput:\n",
    "    lines = []\n",
    "    for i, cont in tqdm.tqdm(enumerate(bzinput)):\n",
    "        tweets = json.loads(cont)\n",
    "        lines.append(tweets)"
   ]
  },
  {
   "cell_type": "code",
   "execution_count": 3,
   "id": "a0d45262-0bc9-499c-b780-b6c82e0f22bc",
   "metadata": {
    "scrolled": true
   },
   "outputs": [
    {
     "data": {
      "text/html": [
       "<div>\n",
       "<style scoped>\n",
       "    .dataframe tbody tr th:only-of-type {\n",
       "        vertical-align: middle;\n",
       "    }\n",
       "\n",
       "    .dataframe tbody tr th {\n",
       "        vertical-align: top;\n",
       "    }\n",
       "\n",
       "    .dataframe thead th {\n",
       "        text-align: right;\n",
       "    }\n",
       "</style>\n",
       "<table border=\"1\" class=\"dataframe\">\n",
       "  <thead>\n",
       "    <tr style=\"text-align: right;\">\n",
       "      <th></th>\n",
       "      <th>city</th>\n",
       "      <th>rating_not_checked</th>\n",
       "      <th>title</th>\n",
       "      <th>num_comments</th>\n",
       "      <th>bank_license</th>\n",
       "      <th>author</th>\n",
       "      <th>bank_name</th>\n",
       "      <th>datetime</th>\n",
       "      <th>text</th>\n",
       "      <th>rating_grade</th>\n",
       "    </tr>\n",
       "  </thead>\n",
       "  <tbody>\n",
       "    <tr>\n",
       "      <th>0</th>\n",
       "      <td>г. Воронеж</td>\n",
       "      <td>True</td>\n",
       "      <td>Ипотека на 5+</td>\n",
       "      <td>0</td>\n",
       "      <td>лицензия № 1623</td>\n",
       "      <td>e.novikova</td>\n",
       "      <td>ВТБ 24</td>\n",
       "      <td>2015-06-08 11:06:56</td>\n",
       "      <td>Здравствуйте!  Хотелось бы выразить благодарно...</td>\n",
       "      <td>5.0</td>\n",
       "    </tr>\n",
       "    <tr>\n",
       "      <th>1</th>\n",
       "      <td>г. Казань</td>\n",
       "      <td>True</td>\n",
       "      <td>ЗВОНКИ СОСЕДЯМ</td>\n",
       "      <td>0</td>\n",
       "      <td>лицензия № 2289</td>\n",
       "      <td>KZN\\Vorontsova_NA</td>\n",
       "      <td>Русский Стандарт</td>\n",
       "      <td>2015-06-06 18:17:52</td>\n",
       "      <td>Уважаемые представители департамента по работе...</td>\n",
       "      <td>2.0</td>\n",
       "    </tr>\n",
       "    <tr>\n",
       "      <th>2</th>\n",
       "      <td>г. Санкт-Петербург</td>\n",
       "      <td>True</td>\n",
       "      <td>Ложная информация!!!!</td>\n",
       "      <td>0</td>\n",
       "      <td>лицензия № 2307</td>\n",
       "      <td>Evgenia15</td>\n",
       "      <td>Союз</td>\n",
       "      <td>2015-06-07 19:08:33</td>\n",
       "      <td>Здравствуйте. Столкнулась с такой ситуацией. в...</td>\n",
       "      <td>2.0</td>\n",
       "    </tr>\n",
       "  </tbody>\n",
       "</table>\n",
       "</div>"
      ],
      "text/plain": [
       "                 city  rating_not_checked                  title  \\\n",
       "0          г. Воронеж                True          Ипотека на 5+   \n",
       "1           г. Казань                True         ЗВОНКИ СОСЕДЯМ   \n",
       "2  г. Санкт-Петербург                True  Ложная информация!!!!   \n",
       "\n",
       "   num_comments     bank_license             author         bank_name  \\\n",
       "0             0  лицензия № 1623         e.novikova            ВТБ 24   \n",
       "1             0  лицензия № 2289  KZN\\Vorontsova_NA  Русский Стандарт   \n",
       "2             0  лицензия № 2307          Evgenia15              Союз   \n",
       "\n",
       "              datetime                                               text  \\\n",
       "0  2015-06-08 11:06:56  Здравствуйте!  Хотелось бы выразить благодарно...   \n",
       "1  2015-06-06 18:17:52  Уважаемые представители департамента по работе...   \n",
       "2  2015-06-07 19:08:33  Здравствуйте. Столкнулась с такой ситуацией. в...   \n",
       "\n",
       "   rating_grade  \n",
       "0           5.0  \n",
       "1           2.0  \n",
       "2           2.0  "
      ]
     },
     "execution_count": 3,
     "metadata": {},
     "output_type": "execute_result"
    }
   ],
   "source": [
    "df = pd.DataFrame(lines)\n",
    "df.head(3)"
   ]
  },
  {
   "cell_type": "code",
   "execution_count": 4,
   "id": "1523e769-5ae8-40eb-9957-659926109be8",
   "metadata": {},
   "outputs": [],
   "source": [
    "import pymorphy3, re, nltk"
   ]
  },
  {
   "cell_type": "code",
   "execution_count": 5,
   "id": "5dc9f98c-3208-42d6-81de-db3449b067b6",
   "metadata": {},
   "outputs": [],
   "source": [
    "morph = pymorphy3.MorphAnalyzer()\n",
    "ru_words = re.compile(r\"[А-Яа-я]+\")\n",
    "stops = nltk.corpus.stopwords.words('russian')\n",
    "\n",
    "def preprocess_text(text):\n",
    "    \n",
    "    def check_stop_words(text):\n",
    "        return filter(lambda x: x not in stops, text)\n",
    "    \n",
    "    def lemmatize(text):\n",
    "        return map(lambda x: morph.parse(x)[0].normal_form, text)\n",
    "    \n",
    "    def words_only(text):\n",
    "        return ru_words.findall(text.lower())\n",
    "\n",
    "    return ' '.join(lemmatize(check_stop_words(words_only(text))))"
   ]
  },
  {
   "cell_type": "markdown",
   "id": "9c0615c8-44dd-4fc9-9e35-9feb3efec438",
   "metadata": {},
   "source": [
    "### Make a train-test dataset\n",
    "\n",
    "- Lets make a DS little less but with an original ratio"
   ]
  },
  {
   "cell_type": "code",
   "execution_count": 6,
   "id": "1fde3a73-0230-4d5d-9c93-2141c06495dd",
   "metadata": {},
   "outputs": [],
   "source": [
    "from sklearn.model_selection import train_test_split"
   ]
  },
  {
   "cell_type": "code",
   "execution_count": 7,
   "id": "4c6b9afd-b050-4808-bdbb-1c7329703077",
   "metadata": {},
   "outputs": [],
   "source": [
    "shorten = lambda x, y=10: x[:len(x)//y]\n",
    "\n",
    "rating_5 = shorten(df[df['rating_grade'] == 5], 50)\n",
    "rating_1 = shorten(df[df['rating_grade'] == 1], 50)"
   ]
  },
  {
   "cell_type": "code",
   "execution_count": 8,
   "id": "b979d736-b3f5-49e8-a446-cfceca61718a",
   "metadata": {},
   "outputs": [],
   "source": [
    "train_test_ds = pd.concat([rating_1, rating_5])\n",
    "\n",
    "X = train_test_ds.drop('rating_grade', axis=1)['text'].apply(preprocess_text)\n",
    "y = train_test_ds['rating_grade']"
   ]
  },
  {
   "cell_type": "code",
   "execution_count": 9,
   "id": "2f7efa61-34b6-4ec7-94fc-24a549990d06",
   "metadata": {},
   "outputs": [],
   "source": [
    "X_train, X_test, y_train, y_test = train_test_split(X, y, test_size=.2, random_state=15)"
   ]
  },
  {
   "cell_type": "code",
   "execution_count": 10,
   "id": "c5958aa2-4e6c-4720-a9b1-7889008f3a26",
   "metadata": {},
   "outputs": [
    {
     "data": {
      "text/plain": [
       "2662    год пользоваться платиновый дебетовый карта сб...\n",
       "800     создать система пара шаблон оплата коммуналка ...\n",
       "241     иметь банк кредит причём кредит наличные креди...\n",
       "3284    г открыть вклад год победа войковский довольно...\n",
       "712     хотеть сказать большой спасибо сотрудник банк ...\n",
       "                              ...                        \n",
       "4816    хороший банк широкий спектр услуга немой неско...\n",
       "1323    добрый день уважаемый читатель отзыв начать де...\n",
       "4924    пользоваться банк москва год который разубежда...\n",
       "3431    уехать неделя родитель санкт петербург помогат...\n",
       "345     добрый день весь взаимодействовать несколькими...\n",
       "Name: text, Length: 1584, dtype: object"
      ]
     },
     "execution_count": 10,
     "metadata": {},
     "output_type": "execute_result"
    }
   ],
   "source": [
    "X_train"
   ]
  },
  {
   "cell_type": "markdown",
   "id": "07149113-89f1-471b-ace2-5516e576a5f5",
   "metadata": {},
   "source": [
    "## 2. Baseline model"
   ]
  },
  {
   "cell_type": "code",
   "execution_count": 11,
   "id": "da361ee9-1b62-4b7e-921d-8281203311f6",
   "metadata": {},
   "outputs": [],
   "source": [
    "from sklearn.feature_extraction.text import CountVectorizer\n",
    "from sklearn.pipeline import Pipeline\n",
    "from sklearn.linear_model import LogisticRegression"
   ]
  },
  {
   "cell_type": "code",
   "execution_count": 12,
   "id": "dd92b586-6521-44e2-821f-588b242b9e97",
   "metadata": {},
   "outputs": [],
   "source": [
    "from sklearn.metrics import f1_score, accuracy_score"
   ]
  },
  {
   "cell_type": "code",
   "execution_count": 13,
   "id": "3a8cf5ab-1b09-4896-9ef4-cd4a6a9c39e7",
   "metadata": {},
   "outputs": [],
   "source": [
    "def eval_model(setup_pipe, name=None, verbose=True):\n",
    "    setup_pipe.fit(X_train, y_train)\n",
    "    yhat = setup_pipe.predict(X_test)\n",
    "    acc, f1 = map(lambda x: round(x, 2), (accuracy_score(y_test, yhat), f1_score(y_test, yhat)))\n",
    "    if verbose:\n",
    "        print('accuracy:', acc)\n",
    "        print('f1-score:', f1)\n",
    "    else:\n",
    "        return [name, acc, f1]\n",
    "    # print(classification_report(y_test, yhat))"
   ]
  },
  {
   "cell_type": "markdown",
   "id": "025e8004-d472-43fa-9459-87b705d0892f",
   "metadata": {},
   "source": [
    "#### Unigram"
   ]
  },
  {
   "cell_type": "code",
   "execution_count": 14,
   "id": "7ec2bac4-8394-43d6-9d56-028122c2fc68",
   "metadata": {},
   "outputs": [],
   "source": [
    "baseline = Pipeline([\n",
    "    ('cv', CountVectorizer(ngram_range=(1,1))),\n",
    "    ('clf', LogisticRegression())\n",
    "])"
   ]
  },
  {
   "cell_type": "code",
   "execution_count": 15,
   "id": "3120b3a2-b16e-417f-884b-6335d579e146",
   "metadata": {},
   "outputs": [
    {
     "name": "stdout",
     "output_type": "stream",
     "text": [
      "accuracy: 0.93\n",
      "f1-score: 0.95\n"
     ]
    }
   ],
   "source": [
    "eval_model(baseline)"
   ]
  },
  {
   "cell_type": "markdown",
   "id": "c0fae64f-6812-4add-a78a-94305238c611",
   "metadata": {},
   "source": [
    "#### 2-gram"
   ]
  },
  {
   "cell_type": "code",
   "execution_count": 16,
   "id": "7b111e2f-556b-4611-bbc9-27b9aff2680a",
   "metadata": {},
   "outputs": [],
   "source": [
    "baseline_2gram = Pipeline([\n",
    "    ('cv', CountVectorizer(ngram_range=(2,2))),\n",
    "    ('clf', LogisticRegression())\n",
    "])"
   ]
  },
  {
   "cell_type": "code",
   "execution_count": 17,
   "id": "8ffc9fc1-0e92-4f8a-ac5e-6ae990b63657",
   "metadata": {},
   "outputs": [
    {
     "name": "stdout",
     "output_type": "stream",
     "text": [
      "accuracy: 0.87\n",
      "f1-score: 0.92\n"
     ]
    }
   ],
   "source": [
    "eval_model(baseline_2gram)"
   ]
  },
  {
   "cell_type": "markdown",
   "id": "572c09aa-bfa3-4829-82e2-47733dfb18fa",
   "metadata": {},
   "source": [
    "#### 3-grams"
   ]
  },
  {
   "cell_type": "code",
   "execution_count": 18,
   "id": "42efdb07-9316-4430-b618-e99762854f0a",
   "metadata": {},
   "outputs": [],
   "source": [
    "baseline_3gram = Pipeline([\n",
    "    ('cv', CountVectorizer(ngram_range=(3,3))),\n",
    "    ('clf', LogisticRegression())\n",
    "])"
   ]
  },
  {
   "cell_type": "code",
   "execution_count": 19,
   "id": "9c92ae1e-23ae-47e7-a14d-0a6425d0581b",
   "metadata": {},
   "outputs": [
    {
     "name": "stdout",
     "output_type": "stream",
     "text": [
      "accuracy: 0.77\n",
      "f1-score: 0.86\n"
     ]
    }
   ],
   "source": [
    "eval_model(baseline_3gram)"
   ]
  },
  {
   "cell_type": "markdown",
   "id": "d9afc6c4-2f11-480e-841d-6863113690b6",
   "metadata": {},
   "source": [
    "#### mean N of symbols/word -grams"
   ]
  },
  {
   "cell_type": "code",
   "execution_count": 20,
   "id": "5cf2b6e1-550c-4b38-93ff-775ef1fe0c6b",
   "metadata": {},
   "outputs": [],
   "source": [
    "word_count = lambda x: int(len(x)/len(x.split()))"
   ]
  },
  {
   "cell_type": "code",
   "execution_count": 21,
   "id": "271ef8fa-2fad-4afd-814a-b06cb0d710b3",
   "metadata": {},
   "outputs": [
    {
     "data": {
      "text/plain": [
       "7.444444444444445"
      ]
     },
     "execution_count": 21,
     "metadata": {},
     "output_type": "execute_result"
    }
   ],
   "source": [
    "np.mean(X.apply(word_count))"
   ]
  },
  {
   "cell_type": "markdown",
   "id": "15418d17-0ca6-498d-9a53-a5df24e194ae",
   "metadata": {},
   "source": [
    "- So words have a mean range of 7-8 symbols"
   ]
  },
  {
   "cell_type": "code",
   "execution_count": 22,
   "id": "cbd98a3e-d815-422a-be6b-520752461321",
   "metadata": {},
   "outputs": [],
   "source": [
    "baseline_symgram = Pipeline([\n",
    "    ('cv', CountVectorizer(ngram_range=(7,8), analyzer='char')),\n",
    "    ('clf', LogisticRegression())\n",
    "])"
   ]
  },
  {
   "cell_type": "code",
   "execution_count": 23,
   "id": "e380327a-53b2-49d1-bbf2-e04fea6671db",
   "metadata": {},
   "outputs": [
    {
     "name": "stdout",
     "output_type": "stream",
     "text": [
      "accuracy: 0.95\n",
      "f1-score: 0.97\n"
     ]
    }
   ],
   "source": [
    "eval_model(baseline_symgram)"
   ]
  },
  {
   "cell_type": "markdown",
   "id": "beb9a90f-e070-48e7-99e4-4cba04581e03",
   "metadata": {},
   "source": [
    "- Wow!"
   ]
  },
  {
   "cell_type": "markdown",
   "id": "e1cd3f5d-4cec-4bcc-b42a-0b6148754acd",
   "metadata": {},
   "source": [
    "## 3. Topic modelling"
   ]
  },
  {
   "cell_type": "markdown",
   "id": "717da231-c28e-42e5-8e5d-424c6c52e66a",
   "metadata": {},
   "source": [
    "### 3.1 TfIdf + LSA"
   ]
  },
  {
   "cell_type": "code",
   "execution_count": 24,
   "id": "7b18b5ba-8fa0-475c-aa84-afb8686cc15e",
   "metadata": {},
   "outputs": [],
   "source": [
    "from sklearn.feature_extraction.text import TfidfTransformer\n",
    "from sklearn.decomposition import TruncatedSVD"
   ]
  },
  {
   "cell_type": "code",
   "execution_count": 25,
   "id": "e5d704b4-58bb-4356-818f-a4cfa7dbe480",
   "metadata": {},
   "outputs": [],
   "source": [
    "LSA_pipe = Pipeline([\n",
    "    ('cv', CountVectorizer()),\n",
    "    ('tfidf', TfidfTransformer()),\n",
    "    ('lsa', TruncatedSVD(n_components=20, random_state=5)),\n",
    "    ('clf', LogisticRegression())\n",
    "])"
   ]
  },
  {
   "cell_type": "code",
   "execution_count": 26,
   "id": "28eb68e3-9fdb-40be-9d12-7a8fe771cb63",
   "metadata": {},
   "outputs": [
    {
     "name": "stdout",
     "output_type": "stream",
     "text": [
      "accuracy: 0.9\n",
      "f1-score: 0.94\n"
     ]
    }
   ],
   "source": [
    "eval_model(LSA_pipe)"
   ]
  },
  {
   "cell_type": "markdown",
   "id": "d9b772bc-95a3-48eb-aec7-596dafd442cb",
   "metadata": {},
   "source": [
    "### 3.2 LDA"
   ]
  },
  {
   "cell_type": "code",
   "execution_count": 27,
   "id": "8eebfe5d-f22a-4e57-867c-5001abf3de57",
   "metadata": {},
   "outputs": [],
   "source": [
    "from sklearn.decomposition import LatentDirichletAllocation as LDA"
   ]
  },
  {
   "cell_type": "code",
   "execution_count": 28,
   "id": "e2c61c59-474a-4f0f-a79d-a73db1615cd2",
   "metadata": {},
   "outputs": [],
   "source": [
    "LDA_pipe = Pipeline([\n",
    "    ('cv', CountVectorizer()),\n",
    "    ('lda', LDA(n_components=10, random_state=0)),\n",
    "    ('clf', LogisticRegression())\n",
    "])"
   ]
  },
  {
   "cell_type": "code",
   "execution_count": 29,
   "id": "55b1f538-48d3-45bb-b177-41d5583e4d6e",
   "metadata": {},
   "outputs": [
    {
     "name": "stdout",
     "output_type": "stream",
     "text": [
      "accuracy: 0.9\n",
      "f1-score: 0.94\n"
     ]
    }
   ],
   "source": [
    "eval_model(LDA_pipe)"
   ]
  },
  {
   "cell_type": "markdown",
   "id": "66589292-a6a7-492b-9bba-ccd4e48f878a",
   "metadata": {},
   "source": [
    "# Summary"
   ]
  },
  {
   "cell_type": "code",
   "execution_count": 30,
   "id": "744e2185-1bc9-48a3-94f7-d7e3ffc96c1b",
   "metadata": {},
   "outputs": [],
   "source": [
    "models = ('baseline_unigram', 'bigram', '3gram', 'chargram', 'LSA', 'LDA')\n",
    "pipes = (baseline, baseline_2gram, baseline_3gram, baseline_symgram, LSA_pipe, LDA_pipe)"
   ]
  },
  {
   "cell_type": "code",
   "execution_count": 31,
   "id": "1b7aa9d6-17bf-4497-8e12-7c29920dc57f",
   "metadata": {},
   "outputs": [],
   "source": [
    "res = [eval_model(model, name, False) for name, model in zip(models, pipes)]"
   ]
  },
  {
   "cell_type": "code",
   "execution_count": 32,
   "id": "173b6b27-eb0f-485b-aa7b-cf52f5256190",
   "metadata": {},
   "outputs": [
    {
     "data": {
      "text/html": [
       "<div>\n",
       "<style scoped>\n",
       "    .dataframe tbody tr th:only-of-type {\n",
       "        vertical-align: middle;\n",
       "    }\n",
       "\n",
       "    .dataframe tbody tr th {\n",
       "        vertical-align: top;\n",
       "    }\n",
       "\n",
       "    .dataframe thead th {\n",
       "        text-align: right;\n",
       "    }\n",
       "</style>\n",
       "<table border=\"1\" class=\"dataframe\">\n",
       "  <thead>\n",
       "    <tr style=\"text-align: right;\">\n",
       "      <th></th>\n",
       "      <th>accuracy</th>\n",
       "      <th>f1-score</th>\n",
       "    </tr>\n",
       "    <tr>\n",
       "      <th>0</th>\n",
       "      <th></th>\n",
       "      <th></th>\n",
       "    </tr>\n",
       "  </thead>\n",
       "  <tbody>\n",
       "    <tr>\n",
       "      <th>baseline_unigram</th>\n",
       "      <td>0.93</td>\n",
       "      <td>0.95</td>\n",
       "    </tr>\n",
       "    <tr>\n",
       "      <th>bigram</th>\n",
       "      <td>0.87</td>\n",
       "      <td>0.92</td>\n",
       "    </tr>\n",
       "    <tr>\n",
       "      <th>3gram</th>\n",
       "      <td>0.77</td>\n",
       "      <td>0.86</td>\n",
       "    </tr>\n",
       "    <tr>\n",
       "      <th>chargram</th>\n",
       "      <td>0.95</td>\n",
       "      <td>0.97</td>\n",
       "    </tr>\n",
       "    <tr>\n",
       "      <th>LSA</th>\n",
       "      <td>0.90</td>\n",
       "      <td>0.94</td>\n",
       "    </tr>\n",
       "    <tr>\n",
       "      <th>LDA</th>\n",
       "      <td>0.90</td>\n",
       "      <td>0.94</td>\n",
       "    </tr>\n",
       "  </tbody>\n",
       "</table>\n",
       "</div>"
      ],
      "text/plain": [
       "                  accuracy  f1-score\n",
       "0                                   \n",
       "baseline_unigram      0.93      0.95\n",
       "bigram                0.87      0.92\n",
       "3gram                 0.77      0.86\n",
       "chargram              0.95      0.97\n",
       "LSA                   0.90      0.94\n",
       "LDA                   0.90      0.94"
      ]
     },
     "execution_count": 32,
     "metadata": {},
     "output_type": "execute_result"
    }
   ],
   "source": [
    "res_df = pd.DataFrame(res).set_index(0)\n",
    "res_df.rename({0: 'model', 1:'accuracy', 2:'f1-score'}, axis=1)"
   ]
  }
 ],
 "metadata": {
  "kernelspec": {
   "display_name": "Python 3 (ipykernel)",
   "language": "python",
   "name": "python3"
  },
  "language_info": {
   "codemirror_mode": {
    "name": "ipython",
    "version": 3
   },
   "file_extension": ".py",
   "mimetype": "text/x-python",
   "name": "python",
   "nbconvert_exporter": "python",
   "pygments_lexer": "ipython3",
   "version": "3.10.9"
  }
 },
 "nbformat": 4,
 "nbformat_minor": 5
}
