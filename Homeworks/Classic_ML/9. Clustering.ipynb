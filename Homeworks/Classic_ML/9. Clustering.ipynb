{
 "cells": [
  {
   "cell_type": "markdown",
   "id": "3a11790f",
   "metadata": {},
   "source": [
    "- 1) [x] Получите данные и загрузите их в рабочую среду (Jupyter Notebook или другую).\n",
    "\n",
    "- a) Для отображения картинки воспользуйтесь вспомогательной функцией:"
   ]
  },
  {
   "cell_type": "code",
   "execution_count": null,
   "id": "5e711bd2",
   "metadata": {},
   "outputs": [],
   "source": [
    "import matplotlib.pyplot as plt\n",
    "import cv2\n",
    "from skimage.metrics import structural_similarity as ssim\n",
    "import skimage\n",
    "from PIL import Image\n",
    "\n",
    "import pandas as pd\n",
    "import numpy as np"
   ]
  },
  {
   "cell_type": "code",
   "execution_count": null,
   "id": "a6c0f923",
   "metadata": {},
   "outputs": [],
   "source": [
    "def draw_picture(image, title, bgr=False):\n",
    "    plt.figure(figsize=(7, 5))\n",
    "    plt.imshow(image)\n",
    "    plt.title(title)\n",
    "    plt.show()\n",
    "\n",
    "def rgb_split(image):\n",
    "    b, g, r = cv2.split(image)\n",
    "    return cv2.merge([r, g, b])\n",
    "    \n",
    "def shape2d(old_array, array):\n",
    "    return array.reshape((old_array.shape[0] * old_array.shape[1], 3))\n",
    "\n",
    "def reshape(old_array, array):\n",
    "    return array.reshape((old_array.shape[0], old_array.shape[1], 3))\n",
    "\n",
    "def ssim_scorer(old_image, model_result):\n",
    "    return round(ssim(old_image, model_result, channel_axis=2), 2)"
   ]
  },
  {
   "cell_type": "code",
   "execution_count": null,
   "id": "2a40069a",
   "metadata": {},
   "outputs": [],
   "source": [
    "# accessing image\n",
    "bgr_img = cv2.imread('Picture2.jpg')\n",
    "# bgr_img = cv2.resize(bgr_img, (128, 128))\n",
    "# reshaping into correct rgb pixels array\n",
    "rgb_image = rgb_split(bgr_img)\n",
    "\n",
    "# drawing a pic\n",
    "draw_picture(rgb_image, 'Picture')\n",
    "\n",
    "# converting image to 2D-array [n_pixels, [R, G, B]]\n",
    "array2d = shape2d(bgr_img, rgb_image)"
   ]
  },
  {
   "cell_type": "markdown",
   "id": "89cc01f6",
   "metadata": {},
   "source": [
    "- 2) [x] Реализуйте три модели кластеризации:"
   ]
  },
  {
   "cell_type": "code",
   "execution_count": null,
   "id": "762d2935",
   "metadata": {},
   "outputs": [],
   "source": [
    "from sklearn.cluster import KMeans\n",
    "from sklearn.cluster import DBSCAN\n",
    "from sklearn.cluster import AgglomerativeClustering"
   ]
  },
  {
   "cell_type": "markdown",
   "id": "6ff4ec89",
   "metadata": {},
   "source": [
    "- a) KMeans. Рассмотрите число кластеров K = 2, 5, 10, 20."
   ]
  },
  {
   "cell_type": "code",
   "execution_count": null,
   "id": "dd6ebadf",
   "metadata": {},
   "outputs": [],
   "source": [
    "def KMeans_model(n_clusters):\n",
    "    kmeans = KMeans(n_clusters=n_clusters,\n",
    "                        random_state=3,\n",
    "                        n_init=10\n",
    "                       ).fit(array2d)\n",
    "\n",
    "    kcenters = [[int(n) for n in i] for i in kmeans.cluster_centers_]\n",
    "\n",
    "    yhat = kmeans.predict(array2d)\n",
    "    l = [kcenters[i] for i in yhat]\n",
    "\n",
    "    clust_img = reshape(rgb_image, np.array(l)).astype(np.uint8)\n",
    "    return clust_img"
   ]
  },
  {
   "cell_type": "markdown",
   "id": "d9a43341",
   "metadata": {},
   "source": [
    "- b) DBSCAN"
   ]
  },
  {
   "cell_type": "code",
   "execution_count": null,
   "id": "1418fa4b",
   "metadata": {},
   "outputs": [],
   "source": [
    "db_model = DBSCAN(eps=0.001,\n",
    "                  metric='euclidean', \n",
    "                  metric_params=None, \n",
    "                  algorithm='auto', \n",
    "                  p=None,\n",
    "                 n_jobs=10)\n",
    "\n",
    "yhat = db_model.fit_predict(array2d)"
   ]
  },
  {
   "cell_type": "code",
   "execution_count": null,
   "id": "36b2e4a8",
   "metadata": {},
   "outputs": [],
   "source": [
    "df = pd.DataFrame(array2d)\n",
    "df['cluster'] = yhat\n",
    "db_array = []\n",
    "\n",
    "outer = np.array([int(i) for i in df.loc[df['cluster'] == -1].mean()][:-1])\n",
    "\n",
    "for i in range(len(yhat)):\n",
    "    db_array.append(outer) if yhat[i] == -1 else ''\n",
    "    \n",
    "for ind, val in zip(db_model.core_sample_indices_, db_model.components_):\n",
    "    db_array.insert(ind, val)\n",
    "    \n",
    "db_array = np.array(db_array).astype(np.uint8)"
   ]
  },
  {
   "cell_type": "markdown",
   "id": "e3b25bab",
   "metadata": {},
   "source": [
    "- c) AgglomerativeClustering. Рассмотрите число кластеров K = 2, 5, 10, 20."
   ]
  },
  {
   "cell_type": "code",
   "execution_count": null,
   "id": "d392541b",
   "metadata": {},
   "outputs": [],
   "source": [
    "from sklearn.neighbors import NearestCentroid"
   ]
  },
  {
   "cell_type": "code",
   "execution_count": null,
   "id": "f6b5153e",
   "metadata": {},
   "outputs": [],
   "source": [
    "def Aggclust_model(n_clusters):\n",
    "    yhat = AgglomerativeClustering(n_clusters=n_clusters,\n",
    "                       ).fit_predict(array2d)\n",
    "    \n",
    "    nc = NearestCentroid()\n",
    "    nc.fit(array2d, yhat)\n",
    "    \n",
    "    kcenters = [[int(n) for n in i] for i in nc.centroids_]\n",
    "\n",
    "    l = [kcenters[i] for i in yhat]\n",
    "\n",
    "    clust_img = reshape(rgb_image, np.array(l)).astype(np.uint8)\n",
    "    return clust_img"
   ]
  },
  {
   "cell_type": "markdown",
   "id": "204227f5",
   "metadata": {},
   "source": [
    "\n",
    "- 3) [x] Для каждой модели оцените потери от уменьшения цветов при помощи метрики SSIM."
   ]
  },
  {
   "cell_type": "code",
   "execution_count": null,
   "id": "284e1d7c",
   "metadata": {},
   "outputs": [],
   "source": [
    "fig, ((ax1, ax2), (ax3, ax4)) = plt.subplots(nrows=2, ncols=2, sharex=True, sharey=True, figsize=(12,7))\n",
    "fig.suptitle('KMeans clustering')\n",
    "\n",
    "fig = plt.figure(figsize=(10,5))\n",
    "\n",
    "for ax, n in zip((ax1, ax2, ax3, ax4), [2, 5, 10, 20]):\n",
    "    model = KMeans_model(n)\n",
    "    ax.imshow(model)\n",
    "    ax.set_title(f'{n} clusters / ssim:{ssim_scorer(rgb_image, model)}')\n",
    "\n",
    "plt.show()"
   ]
  },
  {
   "cell_type": "markdown",
   "id": "142cb9c4",
   "metadata": {},
   "source": [
    "<center>DBSCCAN - \"Что-то пошло не так!\"</center>"
   ]
  },
  {
   "cell_type": "code",
   "execution_count": null,
   "id": "c3ebebd5",
   "metadata": {},
   "outputs": [],
   "source": [
    "db_pick = reshape(rgb_image, db_array)\n",
    "plt.imshow(db_pick)\n",
    "plt.title(f'{len(set(yhat))} clusters / ssim:{ssim_scorer(rgb_image, db_pick)}')\n",
    "plt.suptitle('DBSCAN')\n",
    "plt.show()"
   ]
  },
  {
   "cell_type": "code",
   "execution_count": null,
   "id": "1f08995c",
   "metadata": {},
   "outputs": [],
   "source": [
    "fig, ((ax1, ax2), (ax3, ax4)) = plt.subplots(nrows=2, ncols=2, sharex=True, sharey=True, figsize=(12,7))\n",
    "fig.suptitle('Agglomerative clustering')\n",
    "\n",
    "fig = plt.figure(figsize=(10,5))\n",
    "\n",
    "for ax, n in zip((ax1, ax2, ax3, ax4), [2, 5, 10, 20]):\n",
    "    model = Aggclust_model(n)\n",
    "    ax.imshow(model)\n",
    "    ax.set_title(f'{n} clusters / ssim:{ssim_scorer(rgb_image, model)}')\n",
    "\n",
    "plt.show()"
   ]
  },
  {
   "cell_type": "markdown",
   "id": "73dabdcf",
   "metadata": {},
   "source": [
    "- 4) [ч] Сформулируйте выводы по проделанной работе.\n",
    "\n",
    "a) Какая модель показала лучший результат?"
   ]
  },
  {
   "cell_type": "markdown",
   "id": "593c2fa9",
   "metadata": {},
   "source": [
    "- 1) В данной задаче лучшую метрику показала KMeans. Худшую - DBSCAN.\n",
    "- 2) Картинка у кластеризаторов вышла лучше качества, чем даже оригинал :)\n",
    "- 3) Задача очень интересная, спасибо. Сначала разозлися, потому что обработки изображений ни разу не касался. Пришлось посидеть и почитать стороннюю документацию, переписать код много раз, но в итоге поймал себя на мысли, что это очень интересно, в голову даже пришли идеи для пары проектов. Такие задачи вдохновляют.<b> Спасибо!</b>"
   ]
  },
  {
   "cell_type": "markdown",
   "id": "2a382f9c",
   "metadata": {},
   "source": [
    "# Вопросы\n",
    "\n",
    "- Почему ДБСКАН так плохо сработал? Я пробывал крутить метрики и значения констант, но точность только ухудшалась, в какую бы сторону изменения ни шли\n",
    "- У меня есть две мысли: \n",
    "    1) засилье цветов синего спектра на картинке заставило модель считать все остальные выбросными\n",
    "    2) ДБСКАН строил свои окружности и центроиды начиная сверху изображения. (Не правильно, проверил. С какой бы стороны ДБСКАН \"не начинал\", большинство точек всё равно получаются выбросными)"
   ]
  }
 ],
 "metadata": {
  "kernelspec": {
   "display_name": "Python 3 (ipykernel)",
   "language": "python",
   "name": "python3"
  },
  "language_info": {
   "codemirror_mode": {
    "name": "ipython",
    "version": 3
   },
   "file_extension": ".py",
   "mimetype": "text/x-python",
   "name": "python",
   "nbconvert_exporter": "python",
   "pygments_lexer": "ipython3",
   "version": "3.10.9"
  }
 },
 "nbformat": 4,
 "nbformat_minor": 5
}
