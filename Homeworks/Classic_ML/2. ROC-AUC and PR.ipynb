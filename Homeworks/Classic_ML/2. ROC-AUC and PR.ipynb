{
 "cells": [
  {
   "cell_type": "markdown",
   "id": "ed24c5de-0adc-4b8b-a624-0b1b9fd92e1b",
   "metadata": {},
   "source": [
    "# TASKS:\n",
    "1) Conduct and EDA on athletes.csv\n",
    "2) Handle nan values however you like\n",
    "3) Train any model on the dataset\n",
    "4) Look at the ROC-AUC and PR-curve metrics\n",
    "5) Try to build your own ROC and PR curves"
   ]
  },
  {
   "cell_type": "code",
   "execution_count": 1,
   "id": "3589fcac",
   "metadata": {},
   "outputs": [],
   "source": [
    "import pandas as pd\n",
    "import numpy as np"
   ]
  },
  {
   "cell_type": "code",
   "execution_count": 2,
   "id": "7a541b33-5a74-4ff3-a435-67347015cd79",
   "metadata": {},
   "outputs": [],
   "source": [
    "def see_df_stats(data):\n",
    "    print(f'{\"column name\":^12} | {\"unique\":^10} | missing')\n",
    "    print('-'*36)\n",
    "\n",
    "    for i in data.columns:\n",
    "        print(f'{i:^12} | {data[i].nunique():^10} | {sum(data[i].isna()):^10}')"
   ]
  },
  {
   "cell_type": "code",
   "execution_count": 3,
   "id": "609c06a5",
   "metadata": {},
   "outputs": [],
   "source": [
    "backup = pd.read_csv('Data/athletes.csv')"
   ]
  },
  {
   "cell_type": "code",
   "execution_count": 4,
   "id": "635c02d4",
   "metadata": {},
   "outputs": [],
   "source": [
    "df = backup.copy()"
   ]
  },
  {
   "cell_type": "markdown",
   "id": "a9463d6d",
   "metadata": {},
   "source": [
    "# EDA"
   ]
  },
  {
   "cell_type": "markdown",
   "id": "14d6800b",
   "metadata": {},
   "source": [
    "- Categorical - nationality, sex, sport, gold, silver, bronze\n",
    "\n",
    "- Numeric - dob, height, weight\n",
    "\n",
    "- Meaningless - id, name "
   ]
  },
  {
   "cell_type": "code",
   "execution_count": 5,
   "id": "04a649b4",
   "metadata": {
    "scrolled": true
   },
   "outputs": [
    {
     "data": {
      "text/html": [
       "<div>\n",
       "<style scoped>\n",
       "    .dataframe tbody tr th:only-of-type {\n",
       "        vertical-align: middle;\n",
       "    }\n",
       "\n",
       "    .dataframe tbody tr th {\n",
       "        vertical-align: top;\n",
       "    }\n",
       "\n",
       "    .dataframe thead th {\n",
       "        text-align: right;\n",
       "    }\n",
       "</style>\n",
       "<table border=\"1\" class=\"dataframe\">\n",
       "  <thead>\n",
       "    <tr style=\"text-align: right;\">\n",
       "      <th></th>\n",
       "      <th>id</th>\n",
       "      <th>name</th>\n",
       "      <th>nationality</th>\n",
       "      <th>sex</th>\n",
       "      <th>dob</th>\n",
       "      <th>height</th>\n",
       "      <th>weight</th>\n",
       "      <th>sport</th>\n",
       "      <th>gold</th>\n",
       "      <th>silver</th>\n",
       "      <th>bronze</th>\n",
       "    </tr>\n",
       "  </thead>\n",
       "  <tbody>\n",
       "    <tr>\n",
       "      <th>0</th>\n",
       "      <td>736041664</td>\n",
       "      <td>A Jesus Garcia</td>\n",
       "      <td>ESP</td>\n",
       "      <td>male</td>\n",
       "      <td>10/17/69</td>\n",
       "      <td>1.72</td>\n",
       "      <td>64.0</td>\n",
       "      <td>athletics</td>\n",
       "      <td>0</td>\n",
       "      <td>0</td>\n",
       "      <td>0</td>\n",
       "    </tr>\n",
       "    <tr>\n",
       "      <th>1</th>\n",
       "      <td>532037425</td>\n",
       "      <td>A Lam Shin</td>\n",
       "      <td>KOR</td>\n",
       "      <td>female</td>\n",
       "      <td>9/23/86</td>\n",
       "      <td>1.68</td>\n",
       "      <td>56.0</td>\n",
       "      <td>fencing</td>\n",
       "      <td>0</td>\n",
       "      <td>0</td>\n",
       "      <td>0</td>\n",
       "    </tr>\n",
       "    <tr>\n",
       "      <th>2</th>\n",
       "      <td>435962603</td>\n",
       "      <td>Aaron Brown</td>\n",
       "      <td>CAN</td>\n",
       "      <td>male</td>\n",
       "      <td>5/27/92</td>\n",
       "      <td>1.98</td>\n",
       "      <td>79.0</td>\n",
       "      <td>athletics</td>\n",
       "      <td>0</td>\n",
       "      <td>0</td>\n",
       "      <td>1</td>\n",
       "    </tr>\n",
       "    <tr>\n",
       "      <th>3</th>\n",
       "      <td>521041435</td>\n",
       "      <td>Aaron Cook</td>\n",
       "      <td>MDA</td>\n",
       "      <td>male</td>\n",
       "      <td>1/2/91</td>\n",
       "      <td>1.83</td>\n",
       "      <td>80.0</td>\n",
       "      <td>taekwondo</td>\n",
       "      <td>0</td>\n",
       "      <td>0</td>\n",
       "      <td>0</td>\n",
       "    </tr>\n",
       "    <tr>\n",
       "      <th>4</th>\n",
       "      <td>33922579</td>\n",
       "      <td>Aaron Gate</td>\n",
       "      <td>NZL</td>\n",
       "      <td>male</td>\n",
       "      <td>11/26/90</td>\n",
       "      <td>1.81</td>\n",
       "      <td>71.0</td>\n",
       "      <td>cycling</td>\n",
       "      <td>0</td>\n",
       "      <td>0</td>\n",
       "      <td>0</td>\n",
       "    </tr>\n",
       "  </tbody>\n",
       "</table>\n",
       "</div>"
      ],
      "text/plain": [
       "          id            name nationality     sex       dob  height  weight  \\\n",
       "0  736041664  A Jesus Garcia         ESP    male  10/17/69    1.72    64.0   \n",
       "1  532037425      A Lam Shin         KOR  female   9/23/86    1.68    56.0   \n",
       "2  435962603     Aaron Brown         CAN    male   5/27/92    1.98    79.0   \n",
       "3  521041435      Aaron Cook         MDA    male    1/2/91    1.83    80.0   \n",
       "4   33922579      Aaron Gate         NZL    male  11/26/90    1.81    71.0   \n",
       "\n",
       "       sport  gold  silver  bronze  \n",
       "0  athletics     0       0       0  \n",
       "1    fencing     0       0       0  \n",
       "2  athletics     0       0       1  \n",
       "3  taekwondo     0       0       0  \n",
       "4    cycling     0       0       0  "
      ]
     },
     "execution_count": 5,
     "metadata": {},
     "output_type": "execute_result"
    }
   ],
   "source": [
    "df.head()"
   ]
  },
  {
   "cell_type": "code",
   "execution_count": 6,
   "id": "d15744c3",
   "metadata": {},
   "outputs": [
    {
     "name": "stdout",
     "output_type": "stream",
     "text": [
      "<class 'pandas.core.frame.DataFrame'>\n",
      "RangeIndex: 11538 entries, 0 to 11537\n",
      "Data columns (total 11 columns):\n",
      " #   Column       Non-Null Count  Dtype  \n",
      "---  ------       --------------  -----  \n",
      " 0   id           11538 non-null  int64  \n",
      " 1   name         11538 non-null  object \n",
      " 2   nationality  11538 non-null  object \n",
      " 3   sex          11538 non-null  object \n",
      " 4   dob          11537 non-null  object \n",
      " 5   height       11208 non-null  float64\n",
      " 6   weight       10879 non-null  float64\n",
      " 7   sport        11538 non-null  object \n",
      " 8   gold         11538 non-null  int64  \n",
      " 9   silver       11538 non-null  int64  \n",
      " 10  bronze       11538 non-null  int64  \n",
      "dtypes: float64(2), int64(4), object(5)\n",
      "memory usage: 991.7+ KB\n"
     ]
    }
   ],
   "source": [
    "df.info()"
   ]
  },
  {
   "cell_type": "code",
   "execution_count": 7,
   "id": "ee42a25f-2687-4013-ac0a-c9f175f574aa",
   "metadata": {},
   "outputs": [
    {
     "name": "stdout",
     "output_type": "stream",
     "text": [
      "column name  |   unique   | missing\n",
      "------------------------------------\n",
      "     id      |   11538    |     0     \n",
      "    name     |   11517    |     0     \n",
      "nationality  |    207     |     0     \n",
      "    sex      |     2      |     0     \n",
      "    dob      |    5595    |     1     \n",
      "   height    |     82     |    330    \n",
      "   weight    |    123     |    659    \n",
      "   sport     |     28     |     0     \n",
      "    gold     |     6      |     0     \n",
      "   silver    |     3      |     0     \n",
      "   bronze    |     3      |     0     \n"
     ]
    }
   ],
   "source": [
    "see_df_stats(df)"
   ]
  },
  {
   "cell_type": "markdown",
   "id": "153c86e8",
   "metadata": {},
   "source": [
    "# Data handling"
   ]
  },
  {
   "cell_type": "markdown",
   "id": "ebbbdbcf",
   "metadata": {},
   "source": [
    "### Translating dob into 'age'"
   ]
  },
  {
   "cell_type": "code",
   "execution_count": 8,
   "id": "3017f9d8",
   "metadata": {},
   "outputs": [],
   "source": [
    "from datetime import datetime\n",
    "\n",
    "df.loc[df['dob'].isnull(), 'dob'] = '12/25/87' # Date of Birth of Pavel Sozykin\n",
    "\n",
    "olympics_date = datetime(2016, 8, 21)\n",
    "y_o = lambda dob: int((olympics_date - datetime.strptime(dob, '%m/%d/%y')).days // 366)\n",
    "\n",
    "df['dob'] = [y_o(dob) for dob in df['dob']]\n",
    "df = df.rename({'dob':'age'}, axis=1)"
   ]
  },
  {
   "cell_type": "markdown",
   "id": "ae5507e6",
   "metadata": {},
   "source": [
    "### Handling height & weight with a simple mean inserting"
   ]
  },
  {
   "cell_type": "code",
   "execution_count": 9,
   "id": "f7282b5e",
   "metadata": {},
   "outputs": [],
   "source": [
    "for i in df['age'].unique():\n",
    "    df.loc[(df['age']==i) & (df['weight'].isna()), 'weight'] = df.loc[df['age'] == i, 'weight'].mean()\n",
    "    df.loc[(df['age']==i) & (df['height'].isna()), 'height'] = df.loc[df['age'] == i, 'height'].mean()"
   ]
  },
  {
   "cell_type": "code",
   "execution_count": 10,
   "id": "436b8318",
   "metadata": {},
   "outputs": [
    {
     "name": "stdout",
     "output_type": "stream",
     "text": [
      "column name  |   unique   | missing\n",
      "------------------------------------\n",
      "     id      |   11538    |     0     \n",
      "    name     |   11517    |     0     \n",
      "nationality  |    207     |     0     \n",
      "    sex      |     2      |     0     \n",
      "    age      |     50     |     0     \n",
      "   height    |    109     |     0     \n",
      "   weight    |    152     |     0     \n",
      "   sport     |     28     |     0     \n",
      "    gold     |     6      |     0     \n",
      "   silver    |     3      |     0     \n",
      "   bronze    |     3      |     0     \n"
     ]
    }
   ],
   "source": [
    "see_df_stats(df)"
   ]
  },
  {
   "cell_type": "markdown",
   "id": "08bfd5ff",
   "metadata": {},
   "source": [
    "# Prediction"
   ]
  },
  {
   "cell_type": "code",
   "execution_count": 11,
   "id": "cf2883b4",
   "metadata": {},
   "outputs": [],
   "source": [
    "from sklearn.preprocessing import MinMaxScaler, LabelEncoder\n",
    "\n",
    "from sklearn.linear_model import LogisticRegression\n",
    "\n",
    "from sklearn.model_selection import train_test_split\n",
    "\n",
    "from sklearn.metrics import roc_curve, precision_recall_curve, roc_auc_score"
   ]
  },
  {
   "cell_type": "markdown",
   "id": "dc2c0712",
   "metadata": {},
   "source": [
    "## With scaling and dummies"
   ]
  },
  {
   "cell_type": "markdown",
   "id": "58b65e84",
   "metadata": {},
   "source": [
    "- Encoding categorical values"
   ]
  },
  {
   "cell_type": "code",
   "execution_count": 12,
   "id": "f6183a14",
   "metadata": {},
   "outputs": [],
   "source": [
    "enc = LabelEncoder()\n",
    "\n",
    "for i in ('nationality', 'sex', 'sport', 'gold', 'silver', 'bronze'):\n",
    "    df[i] = enc.fit_transform(df[i])"
   ]
  },
  {
   "cell_type": "markdown",
   "id": "805df01f",
   "metadata": {},
   "source": [
    "- Scaling numerical values from 0 to 1"
   ]
  },
  {
   "cell_type": "code",
   "execution_count": 13,
   "id": "9724a62d",
   "metadata": {},
   "outputs": [],
   "source": [
    "scl = MinMaxScaler()\n",
    "model = LogisticRegression(random_state=15, max_iter=1000)\n",
    "\n",
    "df[['height', 'age', 'weight']] = scl.fit_transform(df[['height', 'age', 'weight']])"
   ]
  },
  {
   "cell_type": "markdown",
   "id": "32106c98",
   "metadata": {},
   "source": [
    "- Separating X and y values, splitting into train and test"
   ]
  },
  {
   "cell_type": "code",
   "execution_count": 14,
   "id": "e860b861",
   "metadata": {},
   "outputs": [],
   "source": [
    "X_data = ('nationality', 'sport', 'gold', 'silver', 'bronze', 'height', 'weight')\n",
    "\n",
    "X = pd.get_dummies(df.drop(columns=['id', 'sex', 'name'], axis=1), columns=[i for i in X_data if not 'ght' in i])\n",
    "y = np.array(df['sex'])\n",
    "\n",
    "X_train, X_test, y_train, y_test = train_test_split(X, y, test_size=0.3, random_state=5)"
   ]
  },
  {
   "cell_type": "markdown",
   "id": "7194d7a4",
   "metadata": {},
   "source": [
    "- Launching model, getting predicted values and probabilities"
   ]
  },
  {
   "cell_type": "code",
   "execution_count": 15,
   "id": "8928633c",
   "metadata": {},
   "outputs": [],
   "source": [
    "model.fit(X_train, y_train)\n",
    "\n",
    "yhat = model.predict(X_test)\n",
    "yproba = model.predict_proba(X_test)"
   ]
  },
  {
   "cell_type": "markdown",
   "id": "87987053",
   "metadata": {},
   "source": [
    "- Computing results and metrics"
   ]
  },
  {
   "cell_type": "code",
   "execution_count": 16,
   "id": "c53babf3",
   "metadata": {
    "scrolled": true
   },
   "outputs": [
    {
     "data": {
      "text/plain": [
       "0.8246678220681687"
      ]
     },
     "execution_count": 16,
     "metadata": {},
     "output_type": "execute_result"
    }
   ],
   "source": [
    "model.score(X_test, y_test)"
   ]
  },
  {
   "cell_type": "markdown",
   "id": "aea31195",
   "metadata": {},
   "source": [
    "- All the same for different model (predicting sex only by numeric values)"
   ]
  },
  {
   "cell_type": "code",
   "execution_count": 17,
   "id": "882b3349",
   "metadata": {},
   "outputs": [],
   "source": [
    "X1 = df[['height', 'age', 'weight']]\n",
    "y1 = np.array(df['sex'])\n",
    "\n",
    "X_train_1, X_test_1, y_train_1, y_test_1 = train_test_split(X1, y1, test_size=0.2, random_state=5)"
   ]
  },
  {
   "cell_type": "code",
   "execution_count": 18,
   "id": "5441bbb4",
   "metadata": {},
   "outputs": [],
   "source": [
    "model.fit(X_train_1, y_train_1)\n",
    "\n",
    "yhat1 = model.predict(X_test_1)\n",
    "yproba1 = model.predict_proba(X_test_1)"
   ]
  },
  {
   "cell_type": "code",
   "execution_count": 19,
   "id": "1d61e595-560f-4f64-bcd6-048d0437753a",
   "metadata": {},
   "outputs": [
    {
     "data": {
      "text/plain": [
       "0.7603986135181976"
      ]
     },
     "execution_count": 19,
     "metadata": {},
     "output_type": "execute_result"
    }
   ],
   "source": [
    "model.score(X_test_1, y_test_1)"
   ]
  },
  {
   "cell_type": "markdown",
   "id": "6b34a55b",
   "metadata": {},
   "source": [
    "- Calculating FPR, TPR metrics\n",
    "- Building a plot"
   ]
  },
  {
   "cell_type": "code",
   "execution_count": 20,
   "id": "20347d8c",
   "metadata": {},
   "outputs": [],
   "source": [
    "fpr, tpr, thresholds = roc_curve(y_test, yproba[:, 1])"
   ]
  },
  {
   "cell_type": "code",
   "execution_count": 21,
   "id": "3dbe73ef",
   "metadata": {},
   "outputs": [],
   "source": [
    "fpr1, tpr1, thresholds1 = roc_curve(y_test_1, yproba1[:, 1])"
   ]
  },
  {
   "cell_type": "code",
   "execution_count": 22,
   "id": "c44b9891-29f5-4fd7-b60b-69471c34210b",
   "metadata": {},
   "outputs": [],
   "source": [
    "import matplotlib.pyplot as plt"
   ]
  },
  {
   "cell_type": "code",
   "execution_count": 23,
   "id": "1ef02836",
   "metadata": {},
   "outputs": [
    {
     "data": {
      "text/plain": [
       "<matplotlib.legend.Legend at 0x168bb53f2b0>"
      ]
     },
     "execution_count": 23,
     "metadata": {},
     "output_type": "execute_result"
    },
    {
     "data": {
      "image/png": "[encoded data removed]",
      "text/plain": [
       "<Figure size 640x480 with 1 Axes>"
      ]
     },
     "metadata": {},
     "output_type": "display_data"
    }
   ],
   "source": [
    "plt.plot(fpr, tpr, label='all columns')\n",
    "plt.plot(fpr1, tpr1, label='height and weight')\n",
    "plt.grid()\n",
    "plt.legend()"
   ]
  },
  {
   "cell_type": "code",
   "execution_count": 24,
   "id": "f82d06d0",
   "metadata": {},
   "outputs": [
    {
     "name": "stdout",
     "output_type": "stream",
     "text": [
      "ROC AUC score for all columns: 0.9012381536343197\n",
      "\n",
      "ROC AUC score only on numeric cols: 0.8453587001405478\n"
     ]
    }
   ],
   "source": [
    "roc_auc = roc_auc_score(y_test, yproba[:, 1])\n",
    "roc_auc1 = roc_auc_score(y_test_1, yproba1[:, 1])\n",
    "\n",
    "print(f'ROC AUC score for all columns: {roc_auc}\\n')\n",
    "print(f'ROC AUC score only on numeric cols: {roc_auc1}')"
   ]
  },
  {
   "cell_type": "markdown",
   "id": "6a72a816",
   "metadata": {},
   "source": [
    "# My own cruves with blackjack and defs"
   ]
  },
  {
   "cell_type": "markdown",
   "id": "fc3ce39c-2b84-44ad-9114-cd4b45883e6f",
   "metadata": {},
   "source": [
    "### ROC-AUC"
   ]
  },
  {
   "cell_type": "code",
   "execution_count": 25,
   "id": "7583dee5",
   "metadata": {},
   "outputs": [],
   "source": [
    "d = sorted({i : n for i, n in zip(yproba1[:,1], y_test_1)}.items(), reverse=True)"
   ]
  },
  {
   "cell_type": "code",
   "execution_count": 26,
   "id": "97a5f04f",
   "metadata": {},
   "outputs": [],
   "source": [
    "def f(test, proba, thresh=0.5, f='roc'):\n",
    "    \n",
    "    tp, fp, tn, fn = [0 for _ in range(4)]\n",
    "    \n",
    "    for actual, prob in zip(test, proba):\n",
    "        pred = 1 if prob >= thresh else 0\n",
    "        if pred == 1:\n",
    "            if actual == 1:\n",
    "                tp += 1\n",
    "            else:\n",
    "                fp += 1\n",
    "        else:\n",
    "            if actual == 1:\n",
    "                fn += 1\n",
    "            else:\n",
    "                tn += 1\n",
    "    \n",
    "    fpr = fp / (fp + tn)\n",
    "    tpr = tp / (tp + fn)\n",
    "    prec = tp / (tp + fp)\n",
    "    recall = tp / (tp + fn)\n",
    "    \n",
    "    if f =='roc':\n",
    "        return fpr, tpr\n",
    "    elif f == 'PR':\n",
    "        return prec, recall"
   ]
  },
  {
   "cell_type": "code",
   "execution_count": 27,
   "id": "165d26b2",
   "metadata": {},
   "outputs": [],
   "source": [
    "def roc():\n",
    "    n = d[0][1]\n",
    "\n",
    "    FPRs = []\n",
    "    TPRs = []\n",
    "\n",
    "    for i in range(len(d)):\n",
    "        if i == 0:\n",
    "            FPRs.append(0)\n",
    "            TPRs.append(0)\n",
    "        elif i == len(d)-1:\n",
    "            FPRs.append(1)\n",
    "            TPRs.append(1)\n",
    "\n",
    "        if d[i][1] != n:\n",
    "            FPRs.append(f(y_test_1, yproba1[:,1], thresh=d[i-1][0])[0])\n",
    "            TPRs.append(f(y_test_1, yproba1[:,1], thresh=d[i-1][0])[1])\n",
    "            if n == 0:\n",
    "                n += 1\n",
    "            elif n ==1:\n",
    "                n -= 1\n",
    "    return FPRs, TPRs"
   ]
  },
  {
   "cell_type": "code",
   "execution_count": 28,
   "id": "e4c7f9a0",
   "metadata": {},
   "outputs": [],
   "source": [
    "FPRs, TPRs = roc()"
   ]
  },
  {
   "cell_type": "code",
   "execution_count": 29,
   "id": "e993c792",
   "metadata": {},
   "outputs": [
    {
     "data": {
      "text/plain": [
       "<matplotlib.legend.Legend at 0x168bb7dfc10>"
      ]
     },
     "execution_count": 29,
     "metadata": {},
     "output_type": "execute_result"
    },
    {
     "data": {
      "image/png": "[encoded data removed]",
      "text/plain": [
       "<Figure size 640x480 with 1 Axes>"
      ]
     },
     "metadata": {},
     "output_type": "display_data"
    }
   ],
   "source": [
    "plt.plot(FPRs, TPRs, linewidth=5, label='my curve')\n",
    "plt.plot(fpr1, tpr1, label='sklearn curve')\n",
    "plt.grid()\n",
    "plt.legend()"
   ]
  },
  {
   "cell_type": "markdown",
   "id": "59190839",
   "metadata": {},
   "source": [
    "### PR-curve"
   ]
  },
  {
   "cell_type": "code",
   "execution_count": 30,
   "id": "37176150",
   "metadata": {},
   "outputs": [],
   "source": [
    "prec, recall, threshholds = precision_recall_curve(y_test_1, yproba1[:, 1])"
   ]
  },
  {
   "cell_type": "code",
   "execution_count": 31,
   "id": "c459c43c",
   "metadata": {},
   "outputs": [],
   "source": [
    "def PR_curve():\n",
    "    prec = []\n",
    "    recall = []\n",
    "\n",
    "    for i in range(len(d)):\n",
    "        prec.append(f(y_test_1, yproba1[:,1], thresh=d[i][0], f='PR')[0])\n",
    "        recall.append(f(y_test_1, yproba1[:,1], thresh=d[i][0], f='PR')[1])\n",
    "                \n",
    "    return prec, recall"
   ]
  },
  {
   "cell_type": "code",
   "execution_count": 32,
   "id": "3af53d78",
   "metadata": {},
   "outputs": [],
   "source": [
    "my_prec, my_recall = PR_curve()"
   ]
  },
  {
   "cell_type": "code",
   "execution_count": 33,
   "id": "8066b399",
   "metadata": {},
   "outputs": [
    {
     "data": {
      "text/plain": [
       "<matplotlib.legend.Legend at 0x168bb8e1e70>"
      ]
     },
     "execution_count": 33,
     "metadata": {},
     "output_type": "execute_result"
    },
    {
     "data": {
      "image/png": "[encoded data removed]",
      "text/plain": [
       "<Figure size 640x480 with 1 Axes>"
      ]
     },
     "metadata": {},
     "output_type": "display_data"
    }
   ],
   "source": [
    "plt.plot(recall, prec, linewidth=5, label='sklearn curve')\n",
    "plt.plot(my_recall, my_prec, label='sklearn curve')\n",
    "plt.grid()\n",
    "plt.legend()"
   ]
  }
 ],
 "metadata": {
  "kernelspec": {
   "display_name": "Python 3 (ipykernel)",
   "language": "python",
   "name": "python3"
  },
  "language_info": {
   "codemirror_mode": {
    "name": "ipython",
    "version": 3
   },
   "file_extension": ".py",
   "mimetype": "text/x-python",
   "name": "python",
   "nbconvert_exporter": "python",
   "pygments_lexer": "ipython3",
   "version": "3.10.9"
  }
 },
 "nbformat": 4,
 "nbformat_minor": 5
}
