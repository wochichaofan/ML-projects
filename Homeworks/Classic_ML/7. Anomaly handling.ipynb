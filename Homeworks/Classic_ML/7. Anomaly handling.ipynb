{
 "cells": [
  {
   "cell_type": "code",
   "execution_count": 1,
   "id": "4ea0837d",
   "metadata": {},
   "outputs": [],
   "source": [
    "import pandas as pd\n",
    "import numpy as np\n",
    "import matplotlib.pyplot as plt\n",
    "import seaborn as sns"
   ]
  },
  {
   "cell_type": "markdown",
   "id": "a2312347",
   "metadata": {},
   "source": [
    "<h1><center>Steps 1-3</center></h1>\n",
    "\n",
    "1) [x] Получите данные и загрузите их в рабочую среду (Jupyter Notebook или другую).\n",
    "2) [x] Проведите первичный анализ.\n",
    "- а) Проверьте количество записей для каждого класса. Сделайте вывод.\n",
    "3) [x] Разделите выборку на обучающее и тестовое подмножество. 80% данных оставить на обучающее множество, 20% на тестовое."
   ]
  },
  {
   "cell_type": "code",
   "execution_count": 2,
   "id": "5fb1bcf8",
   "metadata": {},
   "outputs": [],
   "source": [
    "df = pd.read_csv('glass.csv')"
   ]
  },
  {
   "cell_type": "markdown",
   "id": "a863a7fc",
   "metadata": {},
   "source": [
    "<center><b>EDA</b></center>"
   ]
  },
  {
   "cell_type": "code",
   "execution_count": 4,
   "id": "f4d76b8f",
   "metadata": {},
   "outputs": [
    {
     "data": {
      "text/html": [
       "<div>\n",
       "<style scoped>\n",
       "    .dataframe tbody tr th:only-of-type {\n",
       "        vertical-align: middle;\n",
       "    }\n",
       "\n",
       "    .dataframe tbody tr th {\n",
       "        vertical-align: top;\n",
       "    }\n",
       "\n",
       "    .dataframe thead th {\n",
       "        text-align: right;\n",
       "    }\n",
       "</style>\n",
       "<table border=\"1\" class=\"dataframe\">\n",
       "  <thead>\n",
       "    <tr style=\"text-align: right;\">\n",
       "      <th></th>\n",
       "      <th>RI</th>\n",
       "      <th>Na</th>\n",
       "      <th>Mg</th>\n",
       "      <th>Al</th>\n",
       "      <th>Si</th>\n",
       "      <th>K</th>\n",
       "      <th>Ca</th>\n",
       "      <th>Ba</th>\n",
       "      <th>Fe</th>\n",
       "      <th>Type</th>\n",
       "    </tr>\n",
       "  </thead>\n",
       "  <tbody>\n",
       "    <tr>\n",
       "      <th>0</th>\n",
       "      <td>1.52101</td>\n",
       "      <td>13.64</td>\n",
       "      <td>4.49</td>\n",
       "      <td>1.10</td>\n",
       "      <td>71.78</td>\n",
       "      <td>0.06</td>\n",
       "      <td>8.75</td>\n",
       "      <td>0.0</td>\n",
       "      <td>0.0</td>\n",
       "      <td>1</td>\n",
       "    </tr>\n",
       "    <tr>\n",
       "      <th>1</th>\n",
       "      <td>1.51761</td>\n",
       "      <td>13.89</td>\n",
       "      <td>3.60</td>\n",
       "      <td>1.36</td>\n",
       "      <td>72.73</td>\n",
       "      <td>0.48</td>\n",
       "      <td>7.83</td>\n",
       "      <td>0.0</td>\n",
       "      <td>0.0</td>\n",
       "      <td>1</td>\n",
       "    </tr>\n",
       "    <tr>\n",
       "      <th>2</th>\n",
       "      <td>1.51618</td>\n",
       "      <td>13.53</td>\n",
       "      <td>3.55</td>\n",
       "      <td>1.54</td>\n",
       "      <td>72.99</td>\n",
       "      <td>0.39</td>\n",
       "      <td>7.78</td>\n",
       "      <td>0.0</td>\n",
       "      <td>0.0</td>\n",
       "      <td>1</td>\n",
       "    </tr>\n",
       "    <tr>\n",
       "      <th>3</th>\n",
       "      <td>1.51766</td>\n",
       "      <td>13.21</td>\n",
       "      <td>3.69</td>\n",
       "      <td>1.29</td>\n",
       "      <td>72.61</td>\n",
       "      <td>0.57</td>\n",
       "      <td>8.22</td>\n",
       "      <td>0.0</td>\n",
       "      <td>0.0</td>\n",
       "      <td>1</td>\n",
       "    </tr>\n",
       "    <tr>\n",
       "      <th>4</th>\n",
       "      <td>1.51742</td>\n",
       "      <td>13.27</td>\n",
       "      <td>3.62</td>\n",
       "      <td>1.24</td>\n",
       "      <td>73.08</td>\n",
       "      <td>0.55</td>\n",
       "      <td>8.07</td>\n",
       "      <td>0.0</td>\n",
       "      <td>0.0</td>\n",
       "      <td>1</td>\n",
       "    </tr>\n",
       "  </tbody>\n",
       "</table>\n",
       "</div>"
      ],
      "text/plain": [
       "        RI     Na    Mg    Al     Si     K    Ca   Ba   Fe  Type\n",
       "0  1.52101  13.64  4.49  1.10  71.78  0.06  8.75  0.0  0.0     1\n",
       "1  1.51761  13.89  3.60  1.36  72.73  0.48  7.83  0.0  0.0     1\n",
       "2  1.51618  13.53  3.55  1.54  72.99  0.39  7.78  0.0  0.0     1\n",
       "3  1.51766  13.21  3.69  1.29  72.61  0.57  8.22  0.0  0.0     1\n",
       "4  1.51742  13.27  3.62  1.24  73.08  0.55  8.07  0.0  0.0     1"
      ]
     },
     "execution_count": 4,
     "metadata": {},
     "output_type": "execute_result"
    }
   ],
   "source": [
    "df.head(5)"
   ]
  },
  {
   "cell_type": "code",
   "execution_count": 5,
   "id": "321a0de9",
   "metadata": {},
   "outputs": [
    {
     "name": "stdout",
     "output_type": "stream",
     "text": [
      "<class 'pandas.core.frame.DataFrame'>\n",
      "RangeIndex: 214 entries, 0 to 213\n",
      "Data columns (total 10 columns):\n",
      " #   Column  Non-Null Count  Dtype  \n",
      "---  ------  --------------  -----  \n",
      " 0   RI      214 non-null    float64\n",
      " 1   Na      214 non-null    float64\n",
      " 2   Mg      214 non-null    float64\n",
      " 3   Al      214 non-null    float64\n",
      " 4   Si      214 non-null    float64\n",
      " 5   K       214 non-null    float64\n",
      " 6   Ca      214 non-null    float64\n",
      " 7   Ba      214 non-null    float64\n",
      " 8   Fe      214 non-null    float64\n",
      " 9   Type    214 non-null    int64  \n",
      "dtypes: float64(9), int64(1)\n",
      "memory usage: 16.8 KB\n"
     ]
    }
   ],
   "source": [
    "df.info()"
   ]
  },
  {
   "cell_type": "code",
   "execution_count": 6,
   "id": "f124ff53",
   "metadata": {},
   "outputs": [
    {
     "data": {
      "text/html": [
       "<div>\n",
       "<style scoped>\n",
       "    .dataframe tbody tr th:only-of-type {\n",
       "        vertical-align: middle;\n",
       "    }\n",
       "\n",
       "    .dataframe tbody tr th {\n",
       "        vertical-align: top;\n",
       "    }\n",
       "\n",
       "    .dataframe thead th {\n",
       "        text-align: right;\n",
       "    }\n",
       "</style>\n",
       "<table border=\"1\" class=\"dataframe\">\n",
       "  <thead>\n",
       "    <tr style=\"text-align: right;\">\n",
       "      <th></th>\n",
       "      <th>RI</th>\n",
       "      <th>Na</th>\n",
       "      <th>Mg</th>\n",
       "      <th>Al</th>\n",
       "      <th>Si</th>\n",
       "      <th>K</th>\n",
       "      <th>Ca</th>\n",
       "      <th>Ba</th>\n",
       "      <th>Fe</th>\n",
       "      <th>Type</th>\n",
       "    </tr>\n",
       "  </thead>\n",
       "  <tbody>\n",
       "    <tr>\n",
       "      <th>count</th>\n",
       "      <td>214.000000</td>\n",
       "      <td>214.000000</td>\n",
       "      <td>214.000000</td>\n",
       "      <td>214.000000</td>\n",
       "      <td>214.000000</td>\n",
       "      <td>214.000000</td>\n",
       "      <td>214.000000</td>\n",
       "      <td>214.000000</td>\n",
       "      <td>214.000000</td>\n",
       "      <td>214.000000</td>\n",
       "    </tr>\n",
       "    <tr>\n",
       "      <th>mean</th>\n",
       "      <td>1.518365</td>\n",
       "      <td>13.407850</td>\n",
       "      <td>2.684533</td>\n",
       "      <td>1.444907</td>\n",
       "      <td>72.650935</td>\n",
       "      <td>0.497056</td>\n",
       "      <td>8.956963</td>\n",
       "      <td>0.175047</td>\n",
       "      <td>0.057009</td>\n",
       "      <td>2.780374</td>\n",
       "    </tr>\n",
       "    <tr>\n",
       "      <th>std</th>\n",
       "      <td>0.003037</td>\n",
       "      <td>0.816604</td>\n",
       "      <td>1.442408</td>\n",
       "      <td>0.499270</td>\n",
       "      <td>0.774546</td>\n",
       "      <td>0.652192</td>\n",
       "      <td>1.423153</td>\n",
       "      <td>0.497219</td>\n",
       "      <td>0.097439</td>\n",
       "      <td>2.103739</td>\n",
       "    </tr>\n",
       "    <tr>\n",
       "      <th>min</th>\n",
       "      <td>1.511150</td>\n",
       "      <td>10.730000</td>\n",
       "      <td>0.000000</td>\n",
       "      <td>0.290000</td>\n",
       "      <td>69.810000</td>\n",
       "      <td>0.000000</td>\n",
       "      <td>5.430000</td>\n",
       "      <td>0.000000</td>\n",
       "      <td>0.000000</td>\n",
       "      <td>1.000000</td>\n",
       "    </tr>\n",
       "    <tr>\n",
       "      <th>25%</th>\n",
       "      <td>1.516522</td>\n",
       "      <td>12.907500</td>\n",
       "      <td>2.115000</td>\n",
       "      <td>1.190000</td>\n",
       "      <td>72.280000</td>\n",
       "      <td>0.122500</td>\n",
       "      <td>8.240000</td>\n",
       "      <td>0.000000</td>\n",
       "      <td>0.000000</td>\n",
       "      <td>1.000000</td>\n",
       "    </tr>\n",
       "    <tr>\n",
       "      <th>50%</th>\n",
       "      <td>1.517680</td>\n",
       "      <td>13.300000</td>\n",
       "      <td>3.480000</td>\n",
       "      <td>1.360000</td>\n",
       "      <td>72.790000</td>\n",
       "      <td>0.555000</td>\n",
       "      <td>8.600000</td>\n",
       "      <td>0.000000</td>\n",
       "      <td>0.000000</td>\n",
       "      <td>2.000000</td>\n",
       "    </tr>\n",
       "    <tr>\n",
       "      <th>75%</th>\n",
       "      <td>1.519157</td>\n",
       "      <td>13.825000</td>\n",
       "      <td>3.600000</td>\n",
       "      <td>1.630000</td>\n",
       "      <td>73.087500</td>\n",
       "      <td>0.610000</td>\n",
       "      <td>9.172500</td>\n",
       "      <td>0.000000</td>\n",
       "      <td>0.100000</td>\n",
       "      <td>3.000000</td>\n",
       "    </tr>\n",
       "    <tr>\n",
       "      <th>max</th>\n",
       "      <td>1.533930</td>\n",
       "      <td>17.380000</td>\n",
       "      <td>4.490000</td>\n",
       "      <td>3.500000</td>\n",
       "      <td>75.410000</td>\n",
       "      <td>6.210000</td>\n",
       "      <td>16.190000</td>\n",
       "      <td>3.150000</td>\n",
       "      <td>0.510000</td>\n",
       "      <td>7.000000</td>\n",
       "    </tr>\n",
       "  </tbody>\n",
       "</table>\n",
       "</div>"
      ],
      "text/plain": [
       "               RI          Na          Mg          Al          Si           K  \\\n",
       "count  214.000000  214.000000  214.000000  214.000000  214.000000  214.000000   \n",
       "mean     1.518365   13.407850    2.684533    1.444907   72.650935    0.497056   \n",
       "std      0.003037    0.816604    1.442408    0.499270    0.774546    0.652192   \n",
       "min      1.511150   10.730000    0.000000    0.290000   69.810000    0.000000   \n",
       "25%      1.516522   12.907500    2.115000    1.190000   72.280000    0.122500   \n",
       "50%      1.517680   13.300000    3.480000    1.360000   72.790000    0.555000   \n",
       "75%      1.519157   13.825000    3.600000    1.630000   73.087500    0.610000   \n",
       "max      1.533930   17.380000    4.490000    3.500000   75.410000    6.210000   \n",
       "\n",
       "               Ca          Ba          Fe        Type  \n",
       "count  214.000000  214.000000  214.000000  214.000000  \n",
       "mean     8.956963    0.175047    0.057009    2.780374  \n",
       "std      1.423153    0.497219    0.097439    2.103739  \n",
       "min      5.430000    0.000000    0.000000    1.000000  \n",
       "25%      8.240000    0.000000    0.000000    1.000000  \n",
       "50%      8.600000    0.000000    0.000000    2.000000  \n",
       "75%      9.172500    0.000000    0.100000    3.000000  \n",
       "max     16.190000    3.150000    0.510000    7.000000  "
      ]
     },
     "execution_count": 6,
     "metadata": {},
     "output_type": "execute_result"
    }
   ],
   "source": [
    "df.describe()"
   ]
  },
  {
   "cell_type": "code",
   "execution_count": 7,
   "id": "097306af",
   "metadata": {},
   "outputs": [
    {
     "data": {
      "text/html": [
       "<div>\n",
       "<style scoped>\n",
       "    .dataframe tbody tr th:only-of-type {\n",
       "        vertical-align: middle;\n",
       "    }\n",
       "\n",
       "    .dataframe tbody tr th {\n",
       "        vertical-align: top;\n",
       "    }\n",
       "\n",
       "    .dataframe thead th {\n",
       "        text-align: right;\n",
       "    }\n",
       "</style>\n",
       "<table border=\"1\" class=\"dataframe\">\n",
       "  <thead>\n",
       "    <tr style=\"text-align: right;\">\n",
       "      <th></th>\n",
       "      <th>Count</th>\n",
       "    </tr>\n",
       "  </thead>\n",
       "  <tbody>\n",
       "    <tr>\n",
       "      <th>1</th>\n",
       "      <td>70</td>\n",
       "    </tr>\n",
       "    <tr>\n",
       "      <th>2</th>\n",
       "      <td>76</td>\n",
       "    </tr>\n",
       "    <tr>\n",
       "      <th>3</th>\n",
       "      <td>17</td>\n",
       "    </tr>\n",
       "    <tr>\n",
       "      <th>5</th>\n",
       "      <td>13</td>\n",
       "    </tr>\n",
       "    <tr>\n",
       "      <th>6</th>\n",
       "      <td>9</td>\n",
       "    </tr>\n",
       "    <tr>\n",
       "      <th>7</th>\n",
       "      <td>29</td>\n",
       "    </tr>\n",
       "  </tbody>\n",
       "</table>\n",
       "</div>"
      ],
      "text/plain": [
       "   Count\n",
       "1     70\n",
       "2     76\n",
       "3     17\n",
       "5     13\n",
       "6      9\n",
       "7     29"
      ]
     },
     "execution_count": 7,
     "metadata": {},
     "output_type": "execute_result"
    }
   ],
   "source": [
    "l = [len(df[df[\"Type\"] == i]) for i in df['Type'].unique()]\n",
    "pd.DataFrame(data=l, index=df['Type'].unique(), columns=['Count'])"
   ]
  },
  {
   "cell_type": "markdown",
   "id": "1e0b46e7",
   "metadata": {},
   "source": [
    "<h1><center>Steps 4-5</center></h1>\n",
    "\n",
    "4) [x] Обучите модель дерева решений RandomForestClassifier на обучающем множестве.\n",
    "5) [x] Для тестового множества предскажите тип стекла и сравните с истинным значением, посчитав точность предсказания модели (accuracy)."
   ]
  },
  {
   "cell_type": "code",
   "execution_count": 8,
   "id": "b6c9a183",
   "metadata": {},
   "outputs": [],
   "source": [
    "from sklearn.model_selection import train_test_split\n",
    "\n",
    "from sklearn.ensemble import RandomForestClassifier as forest\n",
    "\n",
    "from sklearn.metrics import accuracy_score as acc"
   ]
  },
  {
   "cell_type": "code",
   "execution_count": 9,
   "id": "5890b4bc",
   "metadata": {},
   "outputs": [],
   "source": [
    "forest_model = forest()"
   ]
  },
  {
   "cell_type": "code",
   "execution_count": 10,
   "id": "32b6a798",
   "metadata": {},
   "outputs": [],
   "source": [
    "def model_score(data):\n",
    "    X, y = data.copy().drop('Type', axis=1), data['Type']\n",
    "    X_train, X_test, y_train, y_test = train_test_split(X, y, test_size=0.2, random_state=76)\n",
    "    \n",
    "    forest_model.fit(X_train, y_train)\n",
    "    yhat = forest_model.predict(X_test)\n",
    "\n",
    "    print(f'Accuracy of the forest is {round(acc(y_test, yhat), 4) * 100}%')"
   ]
  },
  {
   "cell_type": "code",
   "execution_count": 11,
   "id": "f778fe6b",
   "metadata": {},
   "outputs": [
    {
     "name": "stdout",
     "output_type": "stream",
     "text": [
      "Accuracy of the forest is 81.39999999999999%\n"
     ]
    }
   ],
   "source": [
    "model_score(df)"
   ]
  },
  {
   "cell_type": "markdown",
   "id": "ccfcb8db",
   "metadata": {},
   "source": [
    "<h1><center>Step 6</center></h1>\n",
    "\n",
    "6) [x] Обработайте выбросы в данных."
   ]
  },
  {
   "cell_type": "markdown",
   "id": "96be04b3",
   "metadata": {},
   "source": [
    "- а) Визуализируйте распределение значений для каждой переменной. Можно использовать функции sns.boxplot, sns.distplot. Есть ли признаки с нормальным распределением?"
   ]
  },
  {
   "cell_type": "code",
   "execution_count": 16,
   "id": "affd00c1",
   "metadata": {},
   "outputs": [],
   "source": [
    "xx, yy = df.copy().drop('Type', axis=1), df['Type']"
   ]
  },
  {
   "cell_type": "code",
   "execution_count": 17,
   "id": "81448525",
   "metadata": {},
   "outputs": [
    {
     "data": {
      "image/png": "[encoded data removed]",
      "text/plain": [
       "<Figure size 1000x600 with 9 Axes>"
      ]
     },
     "metadata": {},
     "output_type": "display_data"
    }
   ],
   "source": [
    "fig, ax = plt.subplots(nrows=3, ncols=3, figsize=(10,6))\n",
    "fig.tight_layout()\n",
    "\n",
    "for col, n in zip(xx, range(1, len(xx)+1)):\n",
    "    plt.subplot(3, 3, n)\n",
    "    sns.histplot(xx[col], kde=True)"
   ]
  },
  {
   "cell_type": "code",
   "execution_count": 19,
   "id": "ca8e97eb",
   "metadata": {},
   "outputs": [
    {
     "data": {
      "image/png": "[encoded data removed]",
      "text/plain": [
       "<Figure size 1000x600 with 9 Axes>"
      ]
     },
     "metadata": {},
     "output_type": "display_data"
    }
   ],
   "source": [
    "fig, ax = plt.subplots(nrows=3, ncols=3, figsize=(10,6))\n",
    "fig.tight_layout()\n",
    "\n",
    "for col, n in zip(xx, range(1, len(xx)+1)):\n",
    "    plt.subplot(3, 3, n)\n",
    "    sns.boxplot(xx[col])"
   ]
  },
  {
   "cell_type": "markdown",
   "id": "a1bdadb5",
   "metadata": {},
   "source": [
    "<center>Что-то похожее на нормальное распределение наблюдается у признаков:</center>\n",
    "\n",
    "- [x] RI\n",
    "- [x] Na\n",
    "- [x] Al\n",
    "- [x] Si\n",
    "- [x] Ca"
   ]
  },
  {
   "cell_type": "markdown",
   "id": "a9e19559",
   "metadata": {},
   "source": [
    "- b) Исследуйте признаки на выбросы несколькими способами."
   ]
  },
  {
   "cell_type": "markdown",
   "id": "9bb7ac80",
   "metadata": {},
   "source": [
    "Статистические тесты - Na & Si"
   ]
  },
  {
   "cell_type": "code",
   "execution_count": 21,
   "id": "9a4ac6f9",
   "metadata": {},
   "outputs": [],
   "source": [
    "# Na has the widest quantiles and its outside dots look more like abnormal\n",
    "col = xx['Na']\n",
    "q3 = col.quantile(q=0.75)\n",
    "q1 = col.quantile(q=0.25)\n",
    "Iqr = q3 - q1\n",
    "\n",
    "left = q1 - 0.5 * Iqr\n",
    "right = q3 + 0.5 * Iqr"
   ]
  },
  {
   "cell_type": "code",
   "execution_count": 22,
   "id": "c828178a",
   "metadata": {},
   "outputs": [],
   "source": [
    "drop1 = xx[(col <= left) | (col >= right)].index"
   ]
  },
  {
   "cell_type": "code",
   "execution_count": 23,
   "id": "1139c945",
   "metadata": {},
   "outputs": [],
   "source": [
    "# Has the most normal distribution\n",
    "col = xx['Si']\n",
    "sigm3 = (col.std() * 2)\n",
    "left = col.mean() - sigm3\n",
    "right = col.mean() + sigm3"
   ]
  },
  {
   "cell_type": "code",
   "execution_count": 24,
   "id": "a9771507",
   "metadata": {},
   "outputs": [],
   "source": [
    "drop2 = xx[(col <= left) | (col >= right)].index"
   ]
  },
  {
   "cell_type": "markdown",
   "id": "a70f68b8",
   "metadata": {},
   "source": [
    "Isolation Forest - RI"
   ]
  },
  {
   "cell_type": "code",
   "execution_count": 25,
   "id": "bee5b0fd",
   "metadata": {},
   "outputs": [],
   "source": [
    "from sklearn.ensemble import IsolationForest"
   ]
  },
  {
   "cell_type": "code",
   "execution_count": 27,
   "id": "477304a1",
   "metadata": {},
   "outputs": [],
   "source": [
    "iso_forest = IsolationForest(random_state=15)\n",
    "\n",
    "col = xx[['Al']]\n",
    "abnormhat = iso_forest.fit_predict(col, yy)"
   ]
  },
  {
   "cell_type": "code",
   "execution_count": 30,
   "id": "acda44a7",
   "metadata": {},
   "outputs": [],
   "source": [
    "drop3 = [ind for n, ind in zip(abnormhat, range(len(xx))) if n == -1]\n",
    "\n",
    "RI_norm = xx.copy().drop(drop3, axis=0)"
   ]
  },
  {
   "cell_type": "markdown",
   "id": "3ad755b2",
   "metadata": {},
   "source": [
    "KNN - CA"
   ]
  },
  {
   "cell_type": "code",
   "execution_count": 31,
   "id": "cd793ed7",
   "metadata": {},
   "outputs": [],
   "source": [
    "from sklearn.neighbors import LocalOutlierFactor as LOF"
   ]
  },
  {
   "cell_type": "code",
   "execution_count": 32,
   "id": "75a1b5f9",
   "metadata": {},
   "outputs": [],
   "source": [
    "lof = LOF(n_neighbors=20\n",
    "         )\n",
    "\n",
    "col = xx[['Ca']]\n",
    "abnormhat = lof.fit_predict(col, yy)"
   ]
  },
  {
   "cell_type": "code",
   "execution_count": 33,
   "id": "e7fb693a",
   "metadata": {},
   "outputs": [],
   "source": [
    "drop4 = [ind for n, ind in zip(abnormhat, range(len(xx))) if n == -1]\n",
    "\n",
    "Ca_norm = xx.copy().drop(drop4, axis=0)"
   ]
  },
  {
   "cell_type": "markdown",
   "id": "c879b3fc",
   "metadata": {},
   "source": [
    "SVM - Al"
   ]
  },
  {
   "cell_type": "code",
   "execution_count": 34,
   "id": "a477355b",
   "metadata": {},
   "outputs": [],
   "source": [
    "from sklearn.svm import OneClassSVM as OCSVM"
   ]
  },
  {
   "cell_type": "code",
   "execution_count": 35,
   "id": "0141f188",
   "metadata": {},
   "outputs": [],
   "source": [
    "svm = OCSVM(\n",
    "    kernel='sigmoid',\n",
    "    degree=3\n",
    ")\n",
    "\n",
    "col = xx[['Al']]\n",
    "abnormhat = svm.fit_predict(xx, yy)"
   ]
  },
  {
   "cell_type": "code",
   "execution_count": 36,
   "id": "78eacee7",
   "metadata": {},
   "outputs": [],
   "source": [
    "drop5 = [ind for n, ind in zip(abnormhat, range(len(xx))) if n == -1]\n",
    "\n",
    "Al_norm = xx.copy().drop(drop5, axis=0)"
   ]
  },
  {
   "cell_type": "markdown",
   "id": "f7f281de",
   "metadata": {},
   "source": [
    "- c) Удалите выбросы. *Посчитайте процент удаленных записей от общего числа записей для каждого класса.|"
   ]
  },
  {
   "cell_type": "markdown",
   "id": "1a6eaa77",
   "metadata": {},
   "source": [
    "Будем удалять только те значения, вся строка которых предсказана как выбросная. just for fun"
   ]
  },
  {
   "cell_type": "code",
   "execution_count": 37,
   "id": "9a56783d",
   "metadata": {},
   "outputs": [],
   "source": [
    "drop = drop1.intersection(drop2).intersection(drop3).intersection(drop4).intersection(drop5)"
   ]
  },
  {
   "cell_type": "code",
   "execution_count": 38,
   "id": "9e6747d6",
   "metadata": {},
   "outputs": [
    {
     "name": "stdout",
     "output_type": "stream",
     "text": [
      "0.93% данных удалится при щадящей чистке\n"
     ]
    }
   ],
   "source": [
    "easy_X = df.copy().drop(drop, axis=0)\n",
    "print(f'{round((1 - len(easy_X) / len(df)) * 100, 2)}% данных удалится при щадящей чистке')"
   ]
  },
  {
   "cell_type": "code",
   "execution_count": 39,
   "id": "059fd00c",
   "metadata": {},
   "outputs": [],
   "source": [
    "hard_X = df.drop(drop1, axis=0)\n",
    "hard_X = df.drop(drop2, axis=0)\n",
    "hard_X = df.drop(drop3, axis=0)\n",
    "hard_X = df.drop(drop4, axis=0)\n",
    "hard_X = df.drop(drop5, axis=0)"
   ]
  },
  {
   "cell_type": "code",
   "execution_count": 41,
   "id": "d5dcaa67",
   "metadata": {
    "scrolled": true
   },
   "outputs": [
    {
     "name": "stdout",
     "output_type": "stream",
     "text": [
      "50.0% данных удалится при жёсткой чистке\n"
     ]
    }
   ],
   "source": [
    "print(f'{round((1 - len(hard_X) / len(xx)) * 100, 2)}% данных удалится при жёсткой чистке')"
   ]
  },
  {
   "cell_type": "markdown",
   "id": "55aeceaf",
   "metadata": {},
   "source": [
    "<h1><center>Step 7</center></h1>\n",
    "\n",
    "7) [x] Повторите п. 4, п. 5."
   ]
  },
  {
   "cell_type": "code",
   "execution_count": 42,
   "id": "9df3497b",
   "metadata": {},
   "outputs": [
    {
     "name": "stdout",
     "output_type": "stream",
     "text": [
      "Accuracy of the forest is 76.74%\n"
     ]
    }
   ],
   "source": [
    "model_score(easy_X)"
   ]
  },
  {
   "cell_type": "code",
   "execution_count": 43,
   "id": "250a9300",
   "metadata": {},
   "outputs": [
    {
     "name": "stdout",
     "output_type": "stream",
     "text": [
      "Accuracy of the forest is 81.82000000000001%\n"
     ]
    }
   ],
   "source": [
    "model_score(hard_X)"
   ]
  },
  {
   "cell_type": "markdown",
   "id": "384b0f56",
   "metadata": {},
   "source": [
    "<h1><center>Conclusions</center></h1>\n",
    "\n",
    "8) [x] Сформулируйте выводы по проделанной работе.\n",
    "- а) Кратко опишите, какие преобразования были сделаны с данными.\n",
    "- b) Сравните точность двух моделей.\n",
    "- c) Напишите свое мнение, нужно ли исследовать данные на выбросы, для чего это делается, плюсы и минусы подхода."
   ]
  },
  {
   "cell_type": "markdown",
   "id": "966b394c",
   "metadata": {},
   "source": [
    "<h1>Выводы:</h1>"
   ]
  },
  {
   "cell_type": "markdown",
   "id": "e6835677",
   "metadata": {},
   "source": [
    "1) Была произведена очистка выбросов. Были применены почти все обсуждённые в обучении методы\n",
    "2) Реализация очистки выбросов \"вручную\" привела к уменьшению точности модели. Видимо, удалились какие-то важные данные. Подразумеваю, что из Типа №6, т.к. там очень мало входов - 6.\n",
    "- Кажется, эффективнее для очистки выбросов было бы использовать ансамбль различных моделей, или же остановиться на одной единственной.\n",
    "- Также было бы интересно проследить, в чём именно была ошибка чистки вручную\n",
    "- Ещё думаю, что точность могла упасть из-за массовой чистки выбросов различными способами. Думаю, что одна модель на разных классах справилась бы лучше.\n",
    "3) Да, в теории, определённо нужно. Однако необходимо разработать точную стратегию и точно понимать, что делается. Пока рука не набита("
   ]
  }
 ],
 "metadata": {
  "kernelspec": {
   "display_name": "Python 3 (ipykernel)",
   "language": "python",
   "name": "python3"
  },
  "language_info": {
   "codemirror_mode": {
    "name": "ipython",
    "version": 3
   },
   "file_extension": ".py",
   "mimetype": "text/x-python",
   "name": "python",
   "nbconvert_exporter": "python",
   "pygments_lexer": "ipython3",
   "version": "3.10.9"
  }
 },
 "nbformat": 4,
 "nbformat_minor": 5
}
