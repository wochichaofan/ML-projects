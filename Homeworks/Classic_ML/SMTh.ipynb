{
 "cells": [
  {
   "cell_type": "code",
   "execution_count": 1,
   "id": "5258126e",
   "metadata": {},
   "outputs": [],
   "source": [
    "import pandas as pd\n",
    "import numpy as np\n",
    "from sklearn import datasets\n",
    "import matplotlib.pyplot as plt\n",
    "import seaborn as sns\n",
    "import math\n",
    "import time"
   ]
  },
  {
   "cell_type": "markdown",
   "id": "7ef1f6f1",
   "metadata": {},
   "source": [
    "1) https://translated.turbopages.org/proxy_u/en-ru.ru.a44a2a24-65c27e99-65cf9c32-74722d776562/https/www.baeldung.com/cs/gradient-descent-logistic-regression\n",
    "\n",
    "2) https://www.evogeek.ru/articles/40066/"
   ]
  },
  {
   "cell_type": "markdown",
   "id": "4e03f73e",
   "metadata": {},
   "source": [
    "<center><h1> EDA </h1><center>"
   ]
  },
  {
   "cell_type": "code",
   "execution_count": 2,
   "id": "a6e9f729",
   "metadata": {},
   "outputs": [
    {
     "data": {
      "text/html": [
       "<div>\n",
       "<style scoped>\n",
       "    .dataframe tbody tr th:only-of-type {\n",
       "        vertical-align: middle;\n",
       "    }\n",
       "\n",
       "    .dataframe tbody tr th {\n",
       "        vertical-align: top;\n",
       "    }\n",
       "\n",
       "    .dataframe thead th {\n",
       "        text-align: right;\n",
       "    }\n",
       "</style>\n",
       "<table border=\"1\" class=\"dataframe\">\n",
       "  <thead>\n",
       "    <tr style=\"text-align: right;\">\n",
       "      <th></th>\n",
       "      <th>sepal length (cm)</th>\n",
       "      <th>sepal width (cm)</th>\n",
       "      <th>petal length (cm)</th>\n",
       "      <th>petal width (cm)</th>\n",
       "      <th>species</th>\n",
       "    </tr>\n",
       "  </thead>\n",
       "  <tbody>\n",
       "    <tr>\n",
       "      <th>50</th>\n",
       "      <td>7.0</td>\n",
       "      <td>3.2</td>\n",
       "      <td>4.7</td>\n",
       "      <td>1.4</td>\n",
       "      <td>0</td>\n",
       "    </tr>\n",
       "    <tr>\n",
       "      <th>51</th>\n",
       "      <td>6.4</td>\n",
       "      <td>3.2</td>\n",
       "      <td>4.5</td>\n",
       "      <td>1.5</td>\n",
       "      <td>0</td>\n",
       "    </tr>\n",
       "    <tr>\n",
       "      <th>52</th>\n",
       "      <td>6.9</td>\n",
       "      <td>3.1</td>\n",
       "      <td>4.9</td>\n",
       "      <td>1.5</td>\n",
       "      <td>0</td>\n",
       "    </tr>\n",
       "    <tr>\n",
       "      <th>53</th>\n",
       "      <td>5.5</td>\n",
       "      <td>2.3</td>\n",
       "      <td>4.0</td>\n",
       "      <td>1.3</td>\n",
       "      <td>0</td>\n",
       "    </tr>\n",
       "    <tr>\n",
       "      <th>54</th>\n",
       "      <td>6.5</td>\n",
       "      <td>2.8</td>\n",
       "      <td>4.6</td>\n",
       "      <td>1.5</td>\n",
       "      <td>0</td>\n",
       "    </tr>\n",
       "    <tr>\n",
       "      <th>...</th>\n",
       "      <td>...</td>\n",
       "      <td>...</td>\n",
       "      <td>...</td>\n",
       "      <td>...</td>\n",
       "      <td>...</td>\n",
       "    </tr>\n",
       "    <tr>\n",
       "      <th>145</th>\n",
       "      <td>6.7</td>\n",
       "      <td>3.0</td>\n",
       "      <td>5.2</td>\n",
       "      <td>2.3</td>\n",
       "      <td>1</td>\n",
       "    </tr>\n",
       "    <tr>\n",
       "      <th>146</th>\n",
       "      <td>6.3</td>\n",
       "      <td>2.5</td>\n",
       "      <td>5.0</td>\n",
       "      <td>1.9</td>\n",
       "      <td>1</td>\n",
       "    </tr>\n",
       "    <tr>\n",
       "      <th>147</th>\n",
       "      <td>6.5</td>\n",
       "      <td>3.0</td>\n",
       "      <td>5.2</td>\n",
       "      <td>2.0</td>\n",
       "      <td>1</td>\n",
       "    </tr>\n",
       "    <tr>\n",
       "      <th>148</th>\n",
       "      <td>6.2</td>\n",
       "      <td>3.4</td>\n",
       "      <td>5.4</td>\n",
       "      <td>2.3</td>\n",
       "      <td>1</td>\n",
       "    </tr>\n",
       "    <tr>\n",
       "      <th>149</th>\n",
       "      <td>5.9</td>\n",
       "      <td>3.0</td>\n",
       "      <td>5.1</td>\n",
       "      <td>1.8</td>\n",
       "      <td>1</td>\n",
       "    </tr>\n",
       "  </tbody>\n",
       "</table>\n",
       "<p>100 rows × 5 columns</p>\n",
       "</div>"
      ],
      "text/plain": [
       "     sepal length (cm)  sepal width (cm)  petal length (cm)  petal width (cm)  \\\n",
       "50                 7.0               3.2                4.7               1.4   \n",
       "51                 6.4               3.2                4.5               1.5   \n",
       "52                 6.9               3.1                4.9               1.5   \n",
       "53                 5.5               2.3                4.0               1.3   \n",
       "54                 6.5               2.8                4.6               1.5   \n",
       "..                 ...               ...                ...               ...   \n",
       "145                6.7               3.0                5.2               2.3   \n",
       "146                6.3               2.5                5.0               1.9   \n",
       "147                6.5               3.0                5.2               2.0   \n",
       "148                6.2               3.4                5.4               2.3   \n",
       "149                5.9               3.0                5.1               1.8   \n",
       "\n",
       "    species  \n",
       "50        0  \n",
       "51        0  \n",
       "52        0  \n",
       "53        0  \n",
       "54        0  \n",
       "..      ...  \n",
       "145       1  \n",
       "146       1  \n",
       "147       1  \n",
       "148       1  \n",
       "149       1  \n",
       "\n",
       "[100 rows x 5 columns]"
      ]
     },
     "execution_count": 2,
     "metadata": {},
     "output_type": "execute_result"
    }
   ],
   "source": [
    "iris = datasets.load_iris()\n",
    "\n",
    "df = pd.DataFrame(iris.data, columns=iris.feature_names)\n",
    "df['species'] = [iris.target_names[i] for i in iris.target] \n",
    "df = df.loc[df['species'] != 'setosa'].copy()\n",
    "# не стал подключать LabelEncoder\n",
    "df.loc[df['species'] == 'versicolor', 'species'] = 0 \n",
    "df.loc[df['species'] == 'virginica', 'species'] = 1\n",
    "\n",
    "df"
   ]
  },
  {
   "cell_type": "markdown",
   "id": "7be8bdd7",
   "metadata": {},
   "source": [
    "<center><h1> Choosing variables </h1><center>"
   ]
  },
  {
   "cell_type": "code",
   "execution_count": 3,
   "id": "15d397e8",
   "metadata": {},
   "outputs": [],
   "source": [
    "X = np.array(df[['sepal length (cm)', 'sepal width (cm)', 'petal length (cm)', 'petal width (cm)']])\n",
    "y = df['species']"
   ]
  },
  {
   "cell_type": "markdown",
   "id": "977032a8",
   "metadata": {},
   "source": [
    "<center><h1> Main functions </h1><center>"
   ]
  },
  {
   "cell_type": "code",
   "execution_count": 4,
   "id": "ef39cb0c",
   "metadata": {},
   "outputs": [],
   "source": [
    "def sigmoid(x):\n",
    "    return 1 / (1 + np.exp(-x.astype(float)))\n",
    "    \n",
    "def logloss(y, y_proba):\n",
    "    logloss_1 = np.sum(np.log(y_proba[y == 1] + 1e-50))\n",
    "    logloss_0 = np.sum(np.log(1 - y_proba[y == 0] + 1e-50))\n",
    "    logloss_total = -(logloss_0 + logloss_1) / len(y)\n",
    "    return logloss_total\n",
    "    \n",
    "def grad_logloss(X, y, theta):\n",
    "    y_proba = sigmoid(X @ theta)\n",
    "    return X.T @ (y_proba - y), y_proba\n"
   ]
  },
  {
   "cell_type": "markdown",
   "id": "672e8a54",
   "metadata": {},
   "source": [
    "<center><h1> Optimize functions </h1><center>"
   ]
  },
  {
   "cell_type": "code",
   "execution_count": 5,
   "id": "7bfc27cb",
   "metadata": {},
   "outputs": [],
   "source": [
    "class Optimize():\n",
    "    def __init__(self):\n",
    "        self = self\n",
    "    \n",
    "    def finish_checker(self, X, y, theta, i, Print_iter=False):\n",
    "        y_proba = grad_logloss(X, y, theta)[1]\n",
    "        yhat = np.where(y_proba >= 0.5, 1, 0)\n",
    "        accuracy =  (yhat == y).sum() / len(y)\n",
    "        \n",
    "        if Print_iter:\n",
    "            if i % 50 == 0:\n",
    "                print(f'Iteration: {i}')\n",
    "                print(f'LogLoss: {logloss(y, y_proba)}')\n",
    "                print(f'Accuracy: {accuracy} \\n')\n",
    "        \n",
    "        if accuracy >= 0.95:\n",
    "#             print(f'LogLoss on the last iteration: {logloss(y, y_proba)}')\n",
    "#             print(f'Iterations till 95% accuracy: {i}')\n",
    "            return True\n",
    "        \n",
    "    def gradient_descent(self, X, y, n=1000, learning_rate=0.001, eps=0.0001, Print_iter=True):\n",
    "        start_time = time.time()\n",
    "        \n",
    "        X = np.c_[np.ones(len(X)), X]\n",
    "        theta = np.random.randn(X[1].shape[0])\n",
    "        \n",
    "        for i in range(n):\n",
    "            theta = theta - learning_rate * grad_logloss(X, y, theta)[0]\n",
    "            \n",
    "            if self.finish_checker(X, y, theta, i, Print_iter):\n",
    "                break\n",
    "        return i, time.time() - start_time\n",
    "        \n",
    "    def nesterov(self, X, y, n=1000, learning_rate=0.001, eps=0.0001 ,yps=0.9, Print_iter=False):\n",
    "        start_time = time.time()\n",
    "        \n",
    "        X = np.c_[np.ones(len(X)), X]\n",
    "        theta = np.random.randn(X[1].shape[0])\n",
    "        Vt = np.zeros(X[1].shape)\n",
    "        \n",
    "        for i in range(n):\n",
    "            impulse = theta - (yps * Vt)\n",
    "            Vt = (yps * Vt) + (learning_rate * grad_logloss(X, y, impulse)[0])\n",
    "            theta = theta - Vt\n",
    "            \n",
    "            if self.finish_checker(X, y, theta, i, Print_iter):\n",
    "                break\n",
    "        return i, time.time() - start_time\n",
    "\n",
    "    def RMSProp(self, X, y, n=1000, learning_rate=0.001, eps=0.0000001 ,yps=0.9, Print_iter=False):\n",
    "        start_time = time.time()\n",
    "        \n",
    "        X = np.c_[np.ones(len(X)), X]\n",
    "        theta = np.random.randn(X[1].shape[0])\n",
    "        Egt = np.zeros(X[1].shape)\n",
    "        \n",
    "        for i in range(n):\n",
    "            g = grad_logloss(X, y, theta)[0]\n",
    "            \n",
    "            Egt = (yps * Egt) + (1 - yps) * (g**2)\n",
    "            theta = theta - (g * (learning_rate / np.sqrt(Egt.astype(float) + eps)))\n",
    "            \n",
    "            if self.finish_checker(X, y, theta, i, Print_iter):\n",
    "                break\n",
    "        return i, time.time() - start_time"
   ]
  },
  {
   "cell_type": "markdown",
   "id": "add58a50",
   "metadata": {},
   "source": [
    "<center><h1> Calling different models </h1><center>"
   ]
  },
  {
   "cell_type": "code",
   "execution_count": 6,
   "id": "bcf36fb4",
   "metadata": {},
   "outputs": [],
   "source": [
    "model = Optimize()"
   ]
  },
  {
   "cell_type": "code",
   "execution_count": 7,
   "id": "a794feb8",
   "metadata": {
    "scrolled": true
   },
   "outputs": [],
   "source": [
    "# start_time = time.time()\n",
    "gradient_descent = model.gradient_descent(X, y, n=5000, Print_iter=False)\n",
    "# print(\"\\n--- %s seconds ---\" % (time.time() - start_time))"
   ]
  },
  {
   "cell_type": "code",
   "execution_count": 8,
   "id": "a5100187",
   "metadata": {},
   "outputs": [],
   "source": [
    "nesterov = model.nesterov(X, y, n=5000, Print_iter=False)"
   ]
  },
  {
   "cell_type": "code",
   "execution_count": 30,
   "id": "3acaf362",
   "metadata": {},
   "outputs": [],
   "source": [
    "RMSProp = model.RMSProp(X, y, n=5000, yps=0.00015, Print_iter=False)"
   ]
  },
  {
   "cell_type": "markdown",
   "id": "c3319a26",
   "metadata": {},
   "source": [
    "<center><h1> DataFrame of results </h1><center>"
   ]
  },
  {
   "cell_type": "code",
   "execution_count": 31,
   "id": "f7b814ae",
   "metadata": {},
   "outputs": [
    {
     "data": {
      "text/html": [
       "<div>\n",
       "<style scoped>\n",
       "    .dataframe tbody tr th:only-of-type {\n",
       "        vertical-align: middle;\n",
       "    }\n",
       "\n",
       "    .dataframe tbody tr th {\n",
       "        vertical-align: top;\n",
       "    }\n",
       "\n",
       "    .dataframe thead th {\n",
       "        text-align: right;\n",
       "    }\n",
       "</style>\n",
       "<table border=\"1\" class=\"dataframe\">\n",
       "  <thead>\n",
       "    <tr style=\"text-align: right;\">\n",
       "      <th></th>\n",
       "      <th>Итераций до 95% точности (метрика)</th>\n",
       "      <th>Time</th>\n",
       "    </tr>\n",
       "  </thead>\n",
       "  <tbody>\n",
       "    <tr>\n",
       "      <th>GD</th>\n",
       "      <td>61</td>\n",
       "      <td>0.053053</td>\n",
       "    </tr>\n",
       "    <tr>\n",
       "      <th>RMSProp</th>\n",
       "      <td>1146</td>\n",
       "      <td>0.781521</td>\n",
       "    </tr>\n",
       "    <tr>\n",
       "      <th>Nesterov</th>\n",
       "      <td>24</td>\n",
       "      <td>0.023145</td>\n",
       "    </tr>\n",
       "  </tbody>\n",
       "</table>\n",
       "</div>"
      ],
      "text/plain": [
       "         Итераций до 95% точности (метрика)      Time\n",
       "GD                                       61  0.053053\n",
       "RMSProp                                1146  0.781521\n",
       "Nesterov                                 24  0.023145"
      ]
     },
     "execution_count": 31,
     "metadata": {},
     "output_type": "execute_result"
    }
   ],
   "source": [
    "result = pd.DataFrame(index = ('GD', 'RMSProp', 'Nesterov'), columns=('Итераций до 95% точности (метрика)', 'Time'))\n",
    "\n",
    "l = [gradient_descent, RMSProp, nesterov]\n",
    "\n",
    "for m in range(len(l)):\n",
    "    result.iloc[m] = l[m]\n",
    "    \n",
    "result"
   ]
  },
  {
   "cell_type": "markdown",
   "id": "d613bfef",
   "metadata": {},
   "source": [
    "<center><h1> Выводы </h1><center>"
   ]
  },
  {
   "cell_type": "markdown",
   "id": "d5b79817",
   "metadata": {},
   "source": [
    "1) Какая-то ерунда с RMSProp, хотя другие модели, кажется, работают, как нужно.\n",
    "2) Нестеров оказался самым быстрым и точным (подразумеваю, что это не только потому, что RMSProp не работает)\n",
    "3) Сейчас intercept занесён в матрицу иксов; в идеале, насколько я понимаю, его также рассчитывать отдельно, как и тета (aka w0)\n",
    "\n",
    "4) В ML коммюнити нет договорённостей об обозначениях переменных в уравнениях!!!!!!!\n",
    "5) Механизм прерывания цикла вышел очень кривой, нужно над этим поработать\n",
    "\n",
    "<h2> Подскажите, пожалуйста, в чём ошибка с RMSProp? </h2> Нужно было работать не с матрицами, а с раномными чанками или значениями х и у?"
   ]
  }
 ],
 "metadata": {
  "kernelspec": {
   "display_name": "Python 3 (ipykernel)",
   "language": "python",
   "name": "python3"
  },
  "language_info": {
   "codemirror_mode": {
    "name": "ipython",
    "version": 3
   },
   "file_extension": ".py",
   "mimetype": "text/x-python",
   "name": "python",
   "nbconvert_exporter": "python",
   "pygments_lexer": "ipython3",
   "version": "3.10.9"
  }
 },
 "nbformat": 4,
 "nbformat_minor": 5
}
