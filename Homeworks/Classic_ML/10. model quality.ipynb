{
 "cells": [
  {
   "cell_type": "markdown",
   "id": "3039c000",
   "metadata": {},
   "source": [
    "1) [x] Получите данные и загрузите их в рабочую среду. (Jupyter Notebook или другую)"
   ]
  },
  {
   "cell_type": "code",
   "execution_count": 3,
   "id": "dd4d66c7",
   "metadata": {},
   "outputs": [],
   "source": [
    "import pandas as pd\n",
    "import numpy as np"
   ]
  },
  {
   "cell_type": "code",
   "execution_count": 4,
   "id": "5015b42d",
   "metadata": {},
   "outputs": [],
   "source": [
    "df = pd.read_csv('heart.csv')"
   ]
  },
  {
   "cell_type": "code",
   "execution_count": 5,
   "id": "6728535c",
   "metadata": {},
   "outputs": [
    {
     "data": {
      "text/html": [
       "<div>\n",
       "<style scoped>\n",
       "    .dataframe tbody tr th:only-of-type {\n",
       "        vertical-align: middle;\n",
       "    }\n",
       "\n",
       "    .dataframe tbody tr th {\n",
       "        vertical-align: top;\n",
       "    }\n",
       "\n",
       "    .dataframe thead th {\n",
       "        text-align: right;\n",
       "    }\n",
       "</style>\n",
       "<table border=\"1\" class=\"dataframe\">\n",
       "  <thead>\n",
       "    <tr style=\"text-align: right;\">\n",
       "      <th></th>\n",
       "      <th>Age</th>\n",
       "      <th>Sex</th>\n",
       "      <th>ChestPainType</th>\n",
       "      <th>RestingBP</th>\n",
       "      <th>Cholesterol</th>\n",
       "      <th>FastingBS</th>\n",
       "      <th>RestingECG</th>\n",
       "      <th>MaxHR</th>\n",
       "      <th>ExerciseAngina</th>\n",
       "      <th>Oldpeak</th>\n",
       "      <th>ST_Slope</th>\n",
       "      <th>HeartDisease</th>\n",
       "    </tr>\n",
       "  </thead>\n",
       "  <tbody>\n",
       "    <tr>\n",
       "      <th>0</th>\n",
       "      <td>40</td>\n",
       "      <td>M</td>\n",
       "      <td>ATA</td>\n",
       "      <td>140</td>\n",
       "      <td>289</td>\n",
       "      <td>0</td>\n",
       "      <td>Normal</td>\n",
       "      <td>172</td>\n",
       "      <td>N</td>\n",
       "      <td>0.0</td>\n",
       "      <td>Up</td>\n",
       "      <td>0</td>\n",
       "    </tr>\n",
       "    <tr>\n",
       "      <th>1</th>\n",
       "      <td>49</td>\n",
       "      <td>F</td>\n",
       "      <td>NAP</td>\n",
       "      <td>160</td>\n",
       "      <td>180</td>\n",
       "      <td>0</td>\n",
       "      <td>Normal</td>\n",
       "      <td>156</td>\n",
       "      <td>N</td>\n",
       "      <td>1.0</td>\n",
       "      <td>Flat</td>\n",
       "      <td>1</td>\n",
       "    </tr>\n",
       "    <tr>\n",
       "      <th>2</th>\n",
       "      <td>37</td>\n",
       "      <td>M</td>\n",
       "      <td>ATA</td>\n",
       "      <td>130</td>\n",
       "      <td>283</td>\n",
       "      <td>0</td>\n",
       "      <td>ST</td>\n",
       "      <td>98</td>\n",
       "      <td>N</td>\n",
       "      <td>0.0</td>\n",
       "      <td>Up</td>\n",
       "      <td>0</td>\n",
       "    </tr>\n",
       "    <tr>\n",
       "      <th>3</th>\n",
       "      <td>48</td>\n",
       "      <td>F</td>\n",
       "      <td>ASY</td>\n",
       "      <td>138</td>\n",
       "      <td>214</td>\n",
       "      <td>0</td>\n",
       "      <td>Normal</td>\n",
       "      <td>108</td>\n",
       "      <td>Y</td>\n",
       "      <td>1.5</td>\n",
       "      <td>Flat</td>\n",
       "      <td>1</td>\n",
       "    </tr>\n",
       "    <tr>\n",
       "      <th>4</th>\n",
       "      <td>54</td>\n",
       "      <td>M</td>\n",
       "      <td>NAP</td>\n",
       "      <td>150</td>\n",
       "      <td>195</td>\n",
       "      <td>0</td>\n",
       "      <td>Normal</td>\n",
       "      <td>122</td>\n",
       "      <td>N</td>\n",
       "      <td>0.0</td>\n",
       "      <td>Up</td>\n",
       "      <td>0</td>\n",
       "    </tr>\n",
       "  </tbody>\n",
       "</table>\n",
       "</div>"
      ],
      "text/plain": [
       "   Age Sex ChestPainType  RestingBP  Cholesterol  FastingBS RestingECG  MaxHR  \\\n",
       "0   40   M           ATA        140          289          0     Normal    172   \n",
       "1   49   F           NAP        160          180          0     Normal    156   \n",
       "2   37   M           ATA        130          283          0         ST     98   \n",
       "3   48   F           ASY        138          214          0     Normal    108   \n",
       "4   54   M           NAP        150          195          0     Normal    122   \n",
       "\n",
       "  ExerciseAngina  Oldpeak ST_Slope  HeartDisease  \n",
       "0              N      0.0       Up             0  \n",
       "1              N      1.0     Flat             1  \n",
       "2              N      0.0       Up             0  \n",
       "3              Y      1.5     Flat             1  \n",
       "4              N      0.0       Up             0  "
      ]
     },
     "execution_count": 5,
     "metadata": {},
     "output_type": "execute_result"
    }
   ],
   "source": [
    "df.head(5)"
   ]
  },
  {
   "cell_type": "markdown",
   "id": "5cb7ed8d",
   "metadata": {},
   "source": [
    "2) [x] Подготовьте датасет к обучению моделей:\n",
    "\n",
    "a) Категориальные переменные переведите в цифровые значения. Можно использовать pd.get_dummies, preprocessing.LabelEncoder. Старайтесь не использовать для этой задачи циклы."
   ]
  },
  {
   "cell_type": "code",
   "execution_count": 6,
   "id": "8bf7be97",
   "metadata": {},
   "outputs": [],
   "source": [
    "from sklearn.preprocessing import StandardScaler\n",
    "ss = StandardScaler()"
   ]
  },
  {
   "cell_type": "code",
   "execution_count": 7,
   "id": "18b1e5e8",
   "metadata": {},
   "outputs": [],
   "source": [
    "X = df.copy().drop('HeartDisease', axis=1)\n",
    "y = df['HeartDisease']\n",
    "\n",
    "columns = [col for col, i in zip(X.columns, X.nunique()) if i < 50]\n",
    "X = pd.get_dummies(X, columns=columns)\n",
    "\n",
    "scaleX = ss.fit_transform(X)"
   ]
  },
  {
   "cell_type": "markdown",
   "id": "09857c1d",
   "metadata": {},
   "source": [
    "3) [x] Разделите выборку на обучающее и тестовое подмножество. 80% данных оставить на обучающее множество, 20% на тестовое."
   ]
  },
  {
   "cell_type": "code",
   "execution_count": 8,
   "id": "aececf53",
   "metadata": {},
   "outputs": [],
   "source": [
    "from sklearn.model_selection import train_test_split"
   ]
  },
  {
   "cell_type": "code",
   "execution_count": 9,
   "id": "6336d6c2",
   "metadata": {},
   "outputs": [],
   "source": [
    "X_train, X_test, y_train, y_test =  train_test_split(scaleX, y, test_size=.2, random_state=657)"
   ]
  },
  {
   "cell_type": "markdown",
   "id": "31c35fab",
   "metadata": {},
   "source": [
    "4) [x] Обучите модель логистической регрессии с параметрами по умолчанию."
   ]
  },
  {
   "cell_type": "code",
   "execution_count": 10,
   "id": "ce4ba677",
   "metadata": {},
   "outputs": [],
   "source": [
    "from sklearn.linear_model import LogisticRegression"
   ]
  },
  {
   "cell_type": "code",
   "execution_count": 11,
   "id": "b1e25ee6",
   "metadata": {},
   "outputs": [
    {
     "data": {
      "text/html": [
       "<style>#sk-container-id-1 {color: black;background-color: white;}#sk-container-id-1 pre{padding: 0;}#sk-container-id-1 div.sk-toggleable {background-color: white;}#sk-container-id-1 label.sk-toggleable__label {cursor: pointer;display: block;width: 100%;margin-bottom: 0;padding: 0.3em;box-sizing: border-box;text-align: center;}#sk-container-id-1 label.sk-toggleable__label-arrow:before {content: \"▸\";float: left;margin-right: 0.25em;color: #696969;}#sk-container-id-1 label.sk-toggleable__label-arrow:hover:before {color: black;}#sk-container-id-1 div.sk-estimator:hover label.sk-toggleable__label-arrow:before {color: black;}#sk-container-id-1 div.sk-toggleable__content {max-height: 0;max-width: 0;overflow: hidden;text-align: left;background-color: #f0f8ff;}#sk-container-id-1 div.sk-toggleable__content pre {margin: 0.2em;color: black;border-radius: 0.25em;background-color: #f0f8ff;}#sk-container-id-1 input.sk-toggleable__control:checked~div.sk-toggleable__content {max-height: 200px;max-width: 100%;overflow: auto;}#sk-container-id-1 input.sk-toggleable__control:checked~label.sk-toggleable__label-arrow:before {content: \"▾\";}#sk-container-id-1 div.sk-estimator input.sk-toggleable__control:checked~label.sk-toggleable__label {background-color: #d4ebff;}#sk-container-id-1 div.sk-label input.sk-toggleable__control:checked~label.sk-toggleable__label {background-color: #d4ebff;}#sk-container-id-1 input.sk-hidden--visually {border: 0;clip: rect(1px 1px 1px 1px);clip: rect(1px, 1px, 1px, 1px);height: 1px;margin: -1px;overflow: hidden;padding: 0;position: absolute;width: 1px;}#sk-container-id-1 div.sk-estimator {font-family: monospace;background-color: #f0f8ff;border: 1px dotted black;border-radius: 0.25em;box-sizing: border-box;margin-bottom: 0.5em;}#sk-container-id-1 div.sk-estimator:hover {background-color: #d4ebff;}#sk-container-id-1 div.sk-parallel-item::after {content: \"\";width: 100%;border-bottom: 1px solid gray;flex-grow: 1;}#sk-container-id-1 div.sk-label:hover label.sk-toggleable__label {background-color: #d4ebff;}#sk-container-id-1 div.sk-serial::before {content: \"\";position: absolute;border-left: 1px solid gray;box-sizing: border-box;top: 0;bottom: 0;left: 50%;z-index: 0;}#sk-container-id-1 div.sk-serial {display: flex;flex-direction: column;align-items: center;background-color: white;padding-right: 0.2em;padding-left: 0.2em;position: relative;}#sk-container-id-1 div.sk-item {position: relative;z-index: 1;}#sk-container-id-1 div.sk-parallel {display: flex;align-items: stretch;justify-content: center;background-color: white;position: relative;}#sk-container-id-1 div.sk-item::before, #sk-container-id-1 div.sk-parallel-item::before {content: \"\";position: absolute;border-left: 1px solid gray;box-sizing: border-box;top: 0;bottom: 0;left: 50%;z-index: -1;}#sk-container-id-1 div.sk-parallel-item {display: flex;flex-direction: column;z-index: 1;position: relative;background-color: white;}#sk-container-id-1 div.sk-parallel-item:first-child::after {align-self: flex-end;width: 50%;}#sk-container-id-1 div.sk-parallel-item:last-child::after {align-self: flex-start;width: 50%;}#sk-container-id-1 div.sk-parallel-item:only-child::after {width: 0;}#sk-container-id-1 div.sk-dashed-wrapped {border: 1px dashed gray;margin: 0 0.4em 0.5em 0.4em;box-sizing: border-box;padding-bottom: 0.4em;background-color: white;}#sk-container-id-1 div.sk-label label {font-family: monospace;font-weight: bold;display: inline-block;line-height: 1.2em;}#sk-container-id-1 div.sk-label-container {text-align: center;}#sk-container-id-1 div.sk-container {/* jupyter's `normalize.less` sets `[hidden] { display: none; }` but bootstrap.min.css set `[hidden] { display: none !important; }` so we also need the `!important` here to be able to override the default hidden behavior on the sphinx rendered scikit-learn.org. See: https://github.com/scikit-learn/scikit-learn/issues/21755 */display: inline-block !important;position: relative;}#sk-container-id-1 div.sk-text-repr-fallback {display: none;}</style><div id=\"sk-container-id-1\" class=\"sk-top-container\"><div class=\"sk-text-repr-fallback\"><pre>LogisticRegression(random_state=55)</pre><b>In a Jupyter environment, please rerun this cell to show the HTML representation or trust the notebook. <br />On GitHub, the HTML representation is unable to render, please try loading this page with nbviewer.org.</b></div><div class=\"sk-container\" hidden><div class=\"sk-item\"><div class=\"sk-estimator sk-toggleable\"><input class=\"sk-toggleable__control sk-hidden--visually\" id=\"sk-estimator-id-1\" type=\"checkbox\" checked><label for=\"sk-estimator-id-1\" class=\"sk-toggleable__label sk-toggleable__label-arrow\">LogisticRegression</label><div class=\"sk-toggleable__content\"><pre>LogisticRegression(random_state=55)</pre></div></div></div></div></div>"
      ],
      "text/plain": [
       "LogisticRegression(random_state=55)"
      ]
     },
     "execution_count": 11,
     "metadata": {},
     "output_type": "execute_result"
    }
   ],
   "source": [
    "LR_model = LogisticRegression(\n",
    "    random_state=55\n",
    ")\n",
    "LR_model.fit(X_train, y_train)"
   ]
  },
  {
   "cell_type": "markdown",
   "id": "73716a56",
   "metadata": {},
   "source": [
    "5) [x] Подсчитайте основные метрики модели. Используйте следующие метрики и функцию: cross_validate(…, cv=10, scoring=[‘accuracy’,‘recall’,‘precision’,‘f1’])"
   ]
  },
  {
   "cell_type": "code",
   "execution_count": 13,
   "id": "639d3792",
   "metadata": {},
   "outputs": [],
   "source": [
    "from sklearn.model_selection import cross_validate"
   ]
  },
  {
   "cell_type": "code",
   "execution_count": 145,
   "id": "4dbb74de",
   "metadata": {},
   "outputs": [],
   "source": [
    "def CV_scorer(model):\n",
    "    CrosVal = cross_validate(model, X_train, y_train, cv=10, scoring=['accuracy', 'recall', 'precision', 'f1'])\n",
    "    CrosVal = {'mean_'+key_ : val_.mean() for key_, val_ in CrosVal.items()}\n",
    "    return CrosVal"
   ]
  },
  {
   "cell_type": "code",
   "execution_count": 146,
   "id": "9790db61",
   "metadata": {},
   "outputs": [
    {
     "data": {
      "text/plain": [
       "{'mean_fit_time': 0.0039866924285888675,\n",
       " 'mean_score_time': 0.002598738670349121,\n",
       " 'mean_test_accuracy': 0.8597556460570159,\n",
       " 'mean_test_recall': 0.8895512820512821,\n",
       " 'mean_test_precision': 0.8586887778067587,\n",
       " 'mean_test_f1': 0.8731023169921018}"
      ]
     },
     "execution_count": 146,
     "metadata": {},
     "output_type": "execute_result"
    }
   ],
   "source": [
    "CV_scorer(LR_model)"
   ]
  },
  {
   "cell_type": "markdown",
   "id": "ac46f678",
   "metadata": {},
   "source": [
    "6) [x] Оптимизируйте 3-4 параметра модели:\n",
    "\n",
    "- d) Повторите п. 5 после каждого итогового изменения параметров."
   ]
  },
  {
   "cell_type": "code",
   "execution_count": 15,
   "id": "6051cecc",
   "metadata": {},
   "outputs": [],
   "source": [
    "from sklearn.model_selection import GridSearchCV\n",
    "from sklearn.model_selection import RandomizedSearchCV\n",
    "\n",
    "from sklearn.tree import DecisionTreeRegressor\n",
    "from sklearn.ensemble import RandomForestClassifier\n",
    "\n",
    "from sklearn.linear_model import LogisticRegression\n",
    "from sklearn.neighbors import KNeighborsClassifier\n",
    "\n",
    "from sklearn.ensemble import StackingClassifier\n",
    "from xgboost import XGBClassifier"
   ]
  },
  {
   "cell_type": "markdown",
   "id": "6ef7db84",
   "metadata": {},
   "source": [
    "<b>a) Используйте GridSearchCV.</b>"
   ]
  },
  {
   "cell_type": "markdown",
   "id": "7ca53112",
   "metadata": {},
   "source": [
    "- Define search models"
   ]
  },
  {
   "cell_type": "code",
   "execution_count": 115,
   "id": "80c4d11f",
   "metadata": {},
   "outputs": [],
   "source": [
    "def make_cv_search(clf_model, estimator, params):\n",
    "    if clf_model == GridSearchCV:\n",
    "        clf = clf_model(estimator, params, n_jobs=3, cv=10)\n",
    "    else:\n",
    "        clf = clf_model(estimator, params, n_jobs=3, cv=10, n_iter=50)\n",
    "    clf.fit(X_train, y_train)\n",
    "    \n",
    "    to_drop = [i for i in clf.cv_results_ if  not ('param' in i or 'test' in i)]\n",
    "    \n",
    "    return clf.best_score_, clf.best_estimator_, clf.best_params_"
   ]
  },
  {
   "cell_type": "code",
   "execution_count": 116,
   "id": "03a9f5da",
   "metadata": {},
   "outputs": [],
   "source": [
    "forest = RandomForestClassifier()\n",
    "\n",
    "params = {\n",
    "    'criterion' : ('gini', 'log_loss'),\n",
    "    'min_samples_split' : [1, 5],\n",
    "    'max_depth' : range(5, 11)\n",
    "}\n",
    "\n",
    "gsearchCV = make_cv_search(GridSearchCV, forest, params)"
   ]
  },
  {
   "cell_type": "code",
   "execution_count": 147,
   "id": "ad6dea1a",
   "metadata": {
    "scrolled": true
   },
   "outputs": [
    {
     "name": "stdout",
     "output_type": "stream",
     "text": [
      "Best score: 0.8760644205849685\n",
      "Best estimator: RandomForestClassifier(max_depth=9, min_samples_split=5)\n"
     ]
    }
   ],
   "source": [
    "print(f'Best score: {gsearchCV[0]}')\n",
    "print(f'Best estimator: {gsearchCV[1]}')"
   ]
  },
  {
   "cell_type": "code",
   "execution_count": 248,
   "id": "94471b63",
   "metadata": {},
   "outputs": [],
   "source": [
    "cv1 = CV_scorer(gsearchCV[1])"
   ]
  },
  {
   "cell_type": "markdown",
   "id": "83d57972",
   "metadata": {},
   "source": [
    "<b>b) Используйте RandomizedSearchCV.</b>"
   ]
  },
  {
   "cell_type": "markdown",
   "id": "edebfc0f",
   "metadata": {},
   "source": [
    "- c) *Добавьте в п. 6b 2-5 моделей классификации и вариации их параметров."
   ]
  },
  {
   "cell_type": "code",
   "execution_count": 182,
   "id": "4a169a26",
   "metadata": {},
   "outputs": [],
   "source": [
    "models = [\n",
    "    {'name' : 'RF', 'model': RandomForestClassifier(), 'params': {\n",
    "        'n_estimators':[1, 5, 10, 15], 'criterion':['gini', 'entropy', 'log_loss'], 'max_depth': [5, 15, 25, 50], 'min_samples_split': [.005, .01, .02, .03, .04]\n",
    "    }},\n",
    "    {'name' : 'XGB', 'model': XGBClassifier(), 'params' : {\n",
    "        'n_estimators':[1, 5, 10, 15], 'max_depth' : [1, 10, 25, 50], 'max_leaves': [0, 15, 25, 35, 55]\n",
    "    }},\n",
    "    {'name': 'KNN', 'model' : KNeighborsClassifier(), 'params' : {\n",
    "        'n_neighbors' : [1, 5, 10, 25], 'leaf_size' : [1, 5, 10, 15], 'weights' : ['uniform', 'distance'], 'p':[1, 2],\n",
    "    }}\n",
    "]"
   ]
  },
  {
   "cell_type": "code",
   "execution_count": 183,
   "id": "1c24be27",
   "metadata": {},
   "outputs": [
    {
     "name": "stdout",
     "output_type": "stream",
     "text": [
      "RF 0.8706405035172159 {'n_estimators': 15, 'min_samples_split': 0.04, 'max_depth': 5, 'criterion': 'gini'}\n",
      "XGB 0.8598111810440578 {'n_estimators': 10, 'max_leaves': 35, 'max_depth': 1}\n",
      "KNN 0.877434283598667 {'weights': 'distance', 'p': 1, 'n_neighbors': 25, 'leaf_size': 1}\n"
     ]
    }
   ],
   "source": [
    "estimators = []\n",
    "\n",
    "for v in  models:\n",
    "    cv_results = make_cv_search(RandomizedSearchCV, v['model'], v['params'])\n",
    "    estimators.append(cv_results[1])\n",
    "    print(v['name'], cv_results[0], cv_results[2])"
   ]
  },
  {
   "cell_type": "markdown",
   "id": "fb2068a8",
   "metadata": {},
   "source": [
    "- Random Forest CV"
   ]
  },
  {
   "cell_type": "code",
   "execution_count": 184,
   "id": "23c255e1",
   "metadata": {},
   "outputs": [],
   "source": [
    "cv2 = CV_scorer(estimators[0])"
   ]
  },
  {
   "cell_type": "markdown",
   "id": "e25a4fcf",
   "metadata": {},
   "source": [
    "- XGB CV"
   ]
  },
  {
   "cell_type": "code",
   "execution_count": 185,
   "id": "bf1d1919",
   "metadata": {},
   "outputs": [],
   "source": [
    "cv3 = CV_scorer(estimators[1])"
   ]
  },
  {
   "cell_type": "markdown",
   "id": "4cacd889",
   "metadata": {},
   "source": [
    "- KNN CV"
   ]
  },
  {
   "cell_type": "code",
   "execution_count": 186,
   "id": "cfd8875e",
   "metadata": {},
   "outputs": [],
   "source": [
    "cv4 = CV_scorer(estimators[2])"
   ]
  },
  {
   "cell_type": "markdown",
   "id": "8681089e",
   "metadata": {},
   "source": [
    "7) [ ] Сформулируйте выводы по проделанной работе:\n",
    "- a) Сравните метрики построенных моделей.\n",
    "- b) *Сравните с полученными результатами в домашнем задании по теме «Ансамблирование»."
   ]
  },
  {
   "cell_type": "code",
   "execution_count": 242,
   "id": "c98b8c14",
   "metadata": {},
   "outputs": [],
   "source": [
    "from sklearn.ensemble import StackingClassifier"
   ]
  },
  {
   "cell_type": "code",
   "execution_count": 245,
   "id": "84511733",
   "metadata": {},
   "outputs": [],
   "source": [
    "stack_models = []\n",
    "\n",
    "for name, est in zip(models, estimators):\n",
    "    stack_models.append((name['name'], est))\n",
    "    \n",
    "stack = StackingClassifier(stack_models)\n",
    "stack.fit(X_train, y_train)\n",
    "\n",
    "stack_cv = CV_scorer(stack)"
   ]
  },
  {
   "cell_type": "code",
   "execution_count": 249,
   "id": "1402c071",
   "metadata": {},
   "outputs": [
    {
     "data": {
      "text/html": [
       "<div>\n",
       "<style scoped>\n",
       "    .dataframe tbody tr th:only-of-type {\n",
       "        vertical-align: middle;\n",
       "    }\n",
       "\n",
       "    .dataframe tbody tr th {\n",
       "        vertical-align: top;\n",
       "    }\n",
       "\n",
       "    .dataframe thead th {\n",
       "        text-align: right;\n",
       "    }\n",
       "</style>\n",
       "<table border=\"1\" class=\"dataframe\">\n",
       "  <thead>\n",
       "    <tr style=\"text-align: right;\">\n",
       "      <th></th>\n",
       "      <th>mean_fit_time</th>\n",
       "      <th>mean_score_time</th>\n",
       "      <th>mean_test_accuracy</th>\n",
       "      <th>mean_test_recall</th>\n",
       "      <th>mean_test_precision</th>\n",
       "      <th>mean_test_f1</th>\n",
       "    </tr>\n",
       "  </thead>\n",
       "  <tbody>\n",
       "    <tr>\n",
       "      <th>LR</th>\n",
       "      <td>0.176118</td>\n",
       "      <td>0.010767</td>\n",
       "      <td>0.870622</td>\n",
       "      <td>0.912244</td>\n",
       "      <td>0.859553</td>\n",
       "      <td>0.884035</td>\n",
       "    </tr>\n",
       "    <tr>\n",
       "      <th>RF</th>\n",
       "      <td>0.025722</td>\n",
       "      <td>0.005114</td>\n",
       "      <td>0.863847</td>\n",
       "      <td>0.917308</td>\n",
       "      <td>0.845784</td>\n",
       "      <td>0.879337</td>\n",
       "    </tr>\n",
       "    <tr>\n",
       "      <th>XGB</th>\n",
       "      <td>0.008211</td>\n",
       "      <td>0.004747</td>\n",
       "      <td>0.859811</td>\n",
       "      <td>0.919744</td>\n",
       "      <td>0.839264</td>\n",
       "      <td>0.876655</td>\n",
       "    </tr>\n",
       "    <tr>\n",
       "      <th>KNN</th>\n",
       "      <td>0.001222</td>\n",
       "      <td>0.033707</td>\n",
       "      <td>0.877434</td>\n",
       "      <td>0.914744</td>\n",
       "      <td>0.868106</td>\n",
       "      <td>0.889795</td>\n",
       "    </tr>\n",
       "    <tr>\n",
       "      <th>Stack</th>\n",
       "      <td>0.388286</td>\n",
       "      <td>0.038571</td>\n",
       "      <td>0.867901</td>\n",
       "      <td>0.909679</td>\n",
       "      <td>0.857309</td>\n",
       "      <td>0.881643</td>\n",
       "    </tr>\n",
       "  </tbody>\n",
       "</table>\n",
       "</div>"
      ],
      "text/plain": [
       "       mean_fit_time  mean_score_time  mean_test_accuracy  mean_test_recall  \\\n",
       "LR          0.176118         0.010767            0.870622          0.912244   \n",
       "RF          0.025722         0.005114            0.863847          0.917308   \n",
       "XGB         0.008211         0.004747            0.859811          0.919744   \n",
       "KNN         0.001222         0.033707            0.877434          0.914744   \n",
       "Stack       0.388286         0.038571            0.867901          0.909679   \n",
       "\n",
       "       mean_test_precision  mean_test_f1  \n",
       "LR                0.859553      0.884035  \n",
       "RF                0.845784      0.879337  \n",
       "XGB               0.839264      0.876655  \n",
       "KNN               0.868106      0.889795  \n",
       "Stack             0.857309      0.881643  "
      ]
     },
     "execution_count": 249,
     "metadata": {},
     "output_type": "execute_result"
    }
   ],
   "source": [
    "for k, val in cv1.items():\n",
    "    cv1[k] = [val, cv2[k], cv3[k], cv4[k], stack_cv[k]]\n",
    "    \n",
    "res_df = pd.DataFrame().from_dict(cv1)\n",
    "res_df.index = ['LR'] + [i['name'] for i in models] + ['Stack']\n",
    "\n",
    "res_df"
   ]
  },
  {
   "cell_type": "markdown",
   "id": "b5b36d17",
   "metadata": {},
   "source": [
    "# Выводы:\n",
    "1) Метрики моделей или хуже самой простой логистической регрессии или слегка лучше по различным показателям\n",
    "2) Стэкинг оптимизированных моделей через рандомайз показал средние результаты :\\\n",
    "\n",
    "<b>Для решения проблемы недостаточного качества, предполагается, сделать следующее:</b>\n",
    " - Провести оптимизацию данных (feature engeneering)\n",
    " - Увеличить число итераций в рандомайз сёрче\n",
    " - Увеличить рэнджи значений параметров в рандомайз сёрче"
   ]
  }
 ],
 "metadata": {
  "kernelspec": {
   "display_name": "Python 3 (ipykernel)",
   "language": "python",
   "name": "python3"
  },
  "language_info": {
   "codemirror_mode": {
    "name": "ipython",
    "version": 3
   },
   "file_extension": ".py",
   "mimetype": "text/x-python",
   "name": "python",
   "nbconvert_exporter": "python",
   "pygments_lexer": "ipython3",
   "version": "3.10.9"
  }
 },
 "nbformat": 4,
 "nbformat_minor": 5
}
