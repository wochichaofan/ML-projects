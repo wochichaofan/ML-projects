{
 "cells": [
  {
   "cell_type": "code",
   "execution_count": 1,
   "id": "3589fcac",
   "metadata": {},
   "outputs": [],
   "source": [
    "import pandas as pd\n",
    "import numpy as np\n",
    "# from sklearn.\n",
    "from sklearn.metrics import roc_curve\n",
    "import matplotlib.pyplot as plt\n",
    "import seaborn as sns"
   ]
  },
  {
   "cell_type": "code",
   "execution_count": 2,
   "id": "609c06a5",
   "metadata": {},
   "outputs": [],
   "source": [
    "backup = pd.read_csv('athletes.csv')"
   ]
  },
  {
   "cell_type": "code",
   "execution_count": 3,
   "id": "635c02d4",
   "metadata": {},
   "outputs": [],
   "source": [
    "df = backup.copy()"
   ]
  },
  {
   "cell_type": "markdown",
   "id": "a9463d6d",
   "metadata": {},
   "source": [
    "# EDA"
   ]
  },
  {
   "cell_type": "markdown",
   "id": "0f3658f4",
   "metadata": {},
   "source": [
    "Датасет построен на результатах летней олимпиады в Рио-де-Жанейро в 2016 году\n",
    "\n",
    "Даты - 5-21 августа 2016"
   ]
  },
  {
   "cell_type": "markdown",
   "id": "14d6800b",
   "metadata": {},
   "source": [
    "- Категориальные признаки - nationality, sex, sport, gold, silver, bronze\n",
    "\n",
    "- Численные признаки - dob, height, weight\n",
    "\n",
    "- Предположительно незначительные признаки - id, name "
   ]
  },
  {
   "cell_type": "code",
   "execution_count": 4,
   "id": "04a649b4",
   "metadata": {
    "scrolled": true
   },
   "outputs": [
    {
     "data": {
      "text/html": [
       "<div>\n",
       "<style scoped>\n",
       "    .dataframe tbody tr th:only-of-type {\n",
       "        vertical-align: middle;\n",
       "    }\n",
       "\n",
       "    .dataframe tbody tr th {\n",
       "        vertical-align: top;\n",
       "    }\n",
       "\n",
       "    .dataframe thead th {\n",
       "        text-align: right;\n",
       "    }\n",
       "</style>\n",
       "<table border=\"1\" class=\"dataframe\">\n",
       "  <thead>\n",
       "    <tr style=\"text-align: right;\">\n",
       "      <th></th>\n",
       "      <th>id</th>\n",
       "      <th>name</th>\n",
       "      <th>nationality</th>\n",
       "      <th>sex</th>\n",
       "      <th>dob</th>\n",
       "      <th>height</th>\n",
       "      <th>weight</th>\n",
       "      <th>sport</th>\n",
       "      <th>gold</th>\n",
       "      <th>silver</th>\n",
       "      <th>bronze</th>\n",
       "    </tr>\n",
       "  </thead>\n",
       "  <tbody>\n",
       "    <tr>\n",
       "      <th>0</th>\n",
       "      <td>736041664</td>\n",
       "      <td>A Jesus Garcia</td>\n",
       "      <td>ESP</td>\n",
       "      <td>male</td>\n",
       "      <td>10/17/69</td>\n",
       "      <td>1.72</td>\n",
       "      <td>64.0</td>\n",
       "      <td>athletics</td>\n",
       "      <td>0</td>\n",
       "      <td>0</td>\n",
       "      <td>0</td>\n",
       "    </tr>\n",
       "    <tr>\n",
       "      <th>1</th>\n",
       "      <td>532037425</td>\n",
       "      <td>A Lam Shin</td>\n",
       "      <td>KOR</td>\n",
       "      <td>female</td>\n",
       "      <td>9/23/86</td>\n",
       "      <td>1.68</td>\n",
       "      <td>56.0</td>\n",
       "      <td>fencing</td>\n",
       "      <td>0</td>\n",
       "      <td>0</td>\n",
       "      <td>0</td>\n",
       "    </tr>\n",
       "    <tr>\n",
       "      <th>2</th>\n",
       "      <td>435962603</td>\n",
       "      <td>Aaron Brown</td>\n",
       "      <td>CAN</td>\n",
       "      <td>male</td>\n",
       "      <td>5/27/92</td>\n",
       "      <td>1.98</td>\n",
       "      <td>79.0</td>\n",
       "      <td>athletics</td>\n",
       "      <td>0</td>\n",
       "      <td>0</td>\n",
       "      <td>1</td>\n",
       "    </tr>\n",
       "    <tr>\n",
       "      <th>3</th>\n",
       "      <td>521041435</td>\n",
       "      <td>Aaron Cook</td>\n",
       "      <td>MDA</td>\n",
       "      <td>male</td>\n",
       "      <td>1/2/91</td>\n",
       "      <td>1.83</td>\n",
       "      <td>80.0</td>\n",
       "      <td>taekwondo</td>\n",
       "      <td>0</td>\n",
       "      <td>0</td>\n",
       "      <td>0</td>\n",
       "    </tr>\n",
       "    <tr>\n",
       "      <th>4</th>\n",
       "      <td>33922579</td>\n",
       "      <td>Aaron Gate</td>\n",
       "      <td>NZL</td>\n",
       "      <td>male</td>\n",
       "      <td>11/26/90</td>\n",
       "      <td>1.81</td>\n",
       "      <td>71.0</td>\n",
       "      <td>cycling</td>\n",
       "      <td>0</td>\n",
       "      <td>0</td>\n",
       "      <td>0</td>\n",
       "    </tr>\n",
       "  </tbody>\n",
       "</table>\n",
       "</div>"
      ],
      "text/plain": [
       "          id            name nationality     sex       dob  height  weight  \\\n",
       "0  736041664  A Jesus Garcia         ESP    male  10/17/69    1.72    64.0   \n",
       "1  532037425      A Lam Shin         KOR  female   9/23/86    1.68    56.0   \n",
       "2  435962603     Aaron Brown         CAN    male   5/27/92    1.98    79.0   \n",
       "3  521041435      Aaron Cook         MDA    male    1/2/91    1.83    80.0   \n",
       "4   33922579      Aaron Gate         NZL    male  11/26/90    1.81    71.0   \n",
       "\n",
       "       sport  gold  silver  bronze  \n",
       "0  athletics     0       0       0  \n",
       "1    fencing     0       0       0  \n",
       "2  athletics     0       0       1  \n",
       "3  taekwondo     0       0       0  \n",
       "4    cycling     0       0       0  "
      ]
     },
     "execution_count": 4,
     "metadata": {},
     "output_type": "execute_result"
    }
   ],
   "source": [
    "df.head()"
   ]
  },
  {
   "cell_type": "code",
   "execution_count": 5,
   "id": "d15744c3",
   "metadata": {},
   "outputs": [
    {
     "name": "stdout",
     "output_type": "stream",
     "text": [
      "<class 'pandas.core.frame.DataFrame'>\n",
      "RangeIndex: 11538 entries, 0 to 11537\n",
      "Data columns (total 11 columns):\n",
      " #   Column       Non-Null Count  Dtype  \n",
      "---  ------       --------------  -----  \n",
      " 0   id           11538 non-null  int64  \n",
      " 1   name         11538 non-null  object \n",
      " 2   nationality  11538 non-null  object \n",
      " 3   sex          11538 non-null  object \n",
      " 4   dob          11537 non-null  object \n",
      " 5   height       11208 non-null  float64\n",
      " 6   weight       10879 non-null  float64\n",
      " 7   sport        11538 non-null  object \n",
      " 8   gold         11538 non-null  int64  \n",
      " 9   silver       11538 non-null  int64  \n",
      " 10  bronze       11538 non-null  int64  \n",
      "dtypes: float64(2), int64(4), object(5)\n",
      "memory usage: 991.7+ KB\n"
     ]
    }
   ],
   "source": [
    "df.info()"
   ]
  },
  {
   "cell_type": "code",
   "execution_count": 6,
   "id": "b7657e95",
   "metadata": {},
   "outputs": [
    {
     "name": "stdout",
     "output_type": "stream",
     "text": [
      "nationality has 207 unique values\n",
      "\n",
      "sex has 2 unique values\n",
      "\n",
      "sport has 28 unique values\n",
      "\n",
      "gold has 6 unique values\n",
      "\n",
      "silver has 3 unique values\n",
      "\n",
      "bronze has 3 unique values\n"
     ]
    }
   ],
   "source": [
    "categories = ('nationality', 'sex', 'sport', 'gold', 'silver', 'bronze')\n",
    "\n",
    "print(*[f'{cat} has {len(df[cat].unique())} unique values' for cat in categories], sep='\\n\\n')"
   ]
  },
  {
   "cell_type": "markdown",
   "id": "153c86e8",
   "metadata": {},
   "source": [
    "# Data handling"
   ]
  },
  {
   "cell_type": "markdown",
   "id": "848f5c94",
   "metadata": {},
   "source": [
    "Missing DoB"
   ]
  },
  {
   "cell_type": "code",
   "execution_count": 7,
   "id": "8c78f915",
   "metadata": {},
   "outputs": [],
   "source": [
    "df.loc[df['dob'].isnull(), 'dob'] = '12/25/87' # Date of Birth of Pavel Sozykin"
   ]
  },
  {
   "cell_type": "markdown",
   "id": "ebbbdbcf",
   "metadata": {},
   "source": [
    "Translation dob into 'age'"
   ]
  },
  {
   "cell_type": "code",
   "execution_count": 8,
   "id": "3017f9d8",
   "metadata": {},
   "outputs": [],
   "source": [
    "from datetime import date\n",
    "dobs = df['dob'].str.split('/')"
   ]
  },
  {
   "cell_type": "code",
   "execution_count": 9,
   "id": "05618c84",
   "metadata": {
    "scrolled": true
   },
   "outputs": [],
   "source": [
    "ages = []\n",
    "for i in dobs:\n",
    "    y = int(i[2])\n",
    "    y = int(f'200{y}' if y <= 16 else f'19{y}')\n",
    "    m = int(i[0])\n",
    "    d = int(i[1])\n",
    "    ages.append((date(2016, 8, 21).year - date(y, m, d).year))"
   ]
  },
  {
   "cell_type": "code",
   "execution_count": 10,
   "id": "26805b31",
   "metadata": {},
   "outputs": [],
   "source": [
    "df.insert(4, 'age', ages)\n",
    "df = df.drop('dob', axis=1)"
   ]
  },
  {
   "cell_type": "markdown",
   "id": "ae5507e6",
   "metadata": {},
   "source": [
    "Handeling height & weight"
   ]
  },
  {
   "cell_type": "markdown",
   "id": "3262a4fb",
   "metadata": {},
   "source": [
    "Для наших целей пока что подойдёт просто вставить средние значения в пустые ячейки"
   ]
  },
  {
   "cell_type": "code",
   "execution_count": 11,
   "id": "f7282b5e",
   "metadata": {},
   "outputs": [],
   "source": [
    "for i in df['age'].unique():\n",
    "    df.loc[(df['age']==i) & (df['weight'].isna()), 'weight'] = df.loc[df['age'] == i, 'weight'].mean()\n",
    "    df.loc[(df['age']==i) & (df['height'].isna()), 'height'] = df.loc[df['age'] == i, 'height'].mean()"
   ]
  },
  {
   "cell_type": "code",
   "execution_count": 12,
   "id": "436b8318",
   "metadata": {},
   "outputs": [
    {
     "name": "stdout",
     "output_type": "stream",
     "text": [
      "<class 'pandas.core.frame.DataFrame'>\n",
      "RangeIndex: 11538 entries, 0 to 11537\n",
      "Data columns (total 11 columns):\n",
      " #   Column       Non-Null Count  Dtype  \n",
      "---  ------       --------------  -----  \n",
      " 0   id           11538 non-null  int64  \n",
      " 1   name         11538 non-null  object \n",
      " 2   nationality  11538 non-null  object \n",
      " 3   sex          11538 non-null  object \n",
      " 4   age          11538 non-null  int64  \n",
      " 5   height       11538 non-null  float64\n",
      " 6   weight       11538 non-null  float64\n",
      " 7   sport        11538 non-null  object \n",
      " 8   gold         11538 non-null  int64  \n",
      " 9   silver       11538 non-null  int64  \n",
      " 10  bronze       11538 non-null  int64  \n",
      "dtypes: float64(2), int64(5), object(4)\n",
      "memory usage: 991.7+ KB\n"
     ]
    }
   ],
   "source": [
    "df.info()"
   ]
  },
  {
   "cell_type": "markdown",
   "id": "08bfd5ff",
   "metadata": {},
   "source": [
    "# Prediction"
   ]
  },
  {
   "cell_type": "code",
   "execution_count": 73,
   "id": "cf2883b4",
   "metadata": {},
   "outputs": [],
   "source": [
    "from sklearn.preprocessing import MinMaxScaler\n",
    "from sklearn.preprocessing import LabelEncoder\n",
    "\n",
    "from sklearn.linear_model import LogisticRegression\n",
    "\n",
    "from sklearn.model_selection import train_test_split\n",
    "\n",
    "from sklearn.metrics import roc_curve\n",
    "from sklearn.metrics import precision_recall_curve\n",
    "from sklearn.metrics import roc_auc_score"
   ]
  },
  {
   "cell_type": "markdown",
   "id": "dc2c0712",
   "metadata": {},
   "source": [
    "## With scaling and dummies"
   ]
  },
  {
   "cell_type": "markdown",
   "id": "58b65e84",
   "metadata": {},
   "source": [
    "- Encoding categorical values"
   ]
  },
  {
   "cell_type": "code",
   "execution_count": 115,
   "id": "f6183a14",
   "metadata": {},
   "outputs": [],
   "source": [
    "enc = LabelEncoder()\n",
    "\n",
    "for i in categories:\n",
    "    df[i] = enc.fit_transform(df[i])"
   ]
  },
  {
   "cell_type": "markdown",
   "id": "805df01f",
   "metadata": {},
   "source": [
    "- Scaling numerical values from 0 to 1"
   ]
  },
  {
   "cell_type": "code",
   "execution_count": 116,
   "id": "9724a62d",
   "metadata": {},
   "outputs": [],
   "source": [
    "scl = MinMaxScaler()\n",
    "model = LogisticRegression()\n",
    "\n",
    "df[['height', 'weight']] = scl.fit_transform(df[['height', 'weight']])"
   ]
  },
  {
   "cell_type": "markdown",
   "id": "32106c98",
   "metadata": {},
   "source": [
    "- Separating X and y values, splitting into train and test"
   ]
  },
  {
   "cell_type": "code",
   "execution_count": 123,
   "id": "e860b861",
   "metadata": {},
   "outputs": [],
   "source": [
    "X_data = ('nationality', 'sex', 'sport', 'gold', 'silver', 'bronze', 'height', 'weight')\n",
    "\n",
    "X = pd.get_dummies(df.drop(columns=['id', 'name'], axis=1), columns=[i for i in X_data if not 'ght' in i])\n",
    "y = np.array(df['sex'])\n",
    "\n",
    "X_train, X_test, y_train, y_test = train_test_split(X, y, test_size=0.2, random_state=5)"
   ]
  },
  {
   "cell_type": "markdown",
   "id": "7194d7a4",
   "metadata": {},
   "source": [
    "- Launching model, getting predicted values and probabilities"
   ]
  },
  {
   "cell_type": "code",
   "execution_count": 125,
   "id": "8928633c",
   "metadata": {},
   "outputs": [],
   "source": [
    "model.fit(X_train, y_train)\n",
    "\n",
    "yhat = model.predict(X_test)\n",
    "yproba = model.predict_proba(X_test)"
   ]
  },
  {
   "cell_type": "markdown",
   "id": "87987053",
   "metadata": {},
   "source": [
    "- Computing results and metrics"
   ]
  },
  {
   "cell_type": "code",
   "execution_count": 129,
   "id": "c53babf3",
   "metadata": {
    "scrolled": true
   },
   "outputs": [
    {
     "data": {
      "text/plain": [
       "1.0"
      ]
     },
     "execution_count": 129,
     "metadata": {},
     "output_type": "execute_result"
    }
   ],
   "source": [
    "model.score(X_test, y_test)"
   ]
  },
  {
   "cell_type": "markdown",
   "id": "aea31195",
   "metadata": {},
   "source": [
    "- All the same for different model (predicting sex only by numeric values)"
   ]
  },
  {
   "cell_type": "code",
   "execution_count": 19,
   "id": "882b3349",
   "metadata": {},
   "outputs": [],
   "source": [
    "X1 = df[['height', 'weight']]\n",
    "y1 = np.array(df['sex'])\n",
    "\n",
    "X_train_1, X_test_1, y_train_1, y_test_1 = train_test_split(X1, y1, test_size=0.2, random_state=5)"
   ]
  },
  {
   "cell_type": "code",
   "execution_count": 20,
   "id": "5441bbb4",
   "metadata": {},
   "outputs": [],
   "source": [
    "model.fit(X_train_1, y_train_1)\n",
    "\n",
    "yhat1 = model.predict(X_test_1)\n",
    "yproba1 = model.predict_proba(X_test_1)"
   ]
  },
  {
   "cell_type": "markdown",
   "id": "6b34a55b",
   "metadata": {},
   "source": [
    "- Calculating FPR, TPR metrics\n",
    "- Building a plot"
   ]
  },
  {
   "cell_type": "code",
   "execution_count": 21,
   "id": "20347d8c",
   "metadata": {},
   "outputs": [],
   "source": [
    "fpr, tpr, thresholds = roc_curve(y_test, yproba[:, 1])"
   ]
  },
  {
   "cell_type": "code",
   "execution_count": 22,
   "id": "3dbe73ef",
   "metadata": {},
   "outputs": [],
   "source": [
    "fpr1, tpr1, thresholds1 = roc_curve(y_test_1, yproba1[:, 1])"
   ]
  },
  {
   "cell_type": "code",
   "execution_count": 23,
   "id": "1ef02836",
   "metadata": {},
   "outputs": [
    {
     "data": {
      "text/plain": [
       "<matplotlib.legend.Legend at 0x1e452f90580>"
      ]
     },
     "execution_count": 23,
     "metadata": {},
     "output_type": "execute_result"
    },
    {
     "data": {
      "image/png": "[encoded data removed]",
      "text/plain": [
       "<Figure size 640x480 with 1 Axes>"
      ]
     },
     "metadata": {},
     "output_type": "display_data"
    }
   ],
   "source": [
    "plt.plot(fpr, tpr, label='all columns')\n",
    "plt.plot(fpr1, tpr1, label='height and weight')\n",
    "plt.grid()\n",
    "plt.legend()"
   ]
  },
  {
   "cell_type": "code",
   "execution_count": 24,
   "id": "f82d06d0",
   "metadata": {},
   "outputs": [
    {
     "name": "stdout",
     "output_type": "stream",
     "text": [
      "Площадь зоны под кривой по всем колонкам: 1.0\n",
      "\n",
      "Площадь зоны под кривой по двум числовым колонкам: 0.8458890694670168\n"
     ]
    }
   ],
   "source": [
    "roc_auc = roc_auc_score(y_test, yproba[:, 1])\n",
    "roc_auc1 = roc_auc_score(y_test, yproba1[:, 1])\n",
    "\n",
    "print(f'Площадь зоны под кривой по всем колонкам: {roc_auc}\\n')\n",
    "print(f'Площадь зоны под кривой по двум числовым колонкам: {roc_auc1}')"
   ]
  },
  {
   "cell_type": "markdown",
   "id": "6a72a816",
   "metadata": {},
   "source": [
    "# Реализация вручную"
   ]
  },
  {
   "cell_type": "markdown",
   "id": "fc34fac8",
   "metadata": {},
   "source": [
    "Поскольку первый кейс (100% попадание) не такой уж интересный, то возьмём в работу вторую модель"
   ]
  },
  {
   "cell_type": "markdown",
   "id": "5836be3c",
   "metadata": {},
   "source": [
    "prec = tp / (tp + fp)\n",
    "recall = tp / (tp + fn)\n",
    "my_tpr = tp / (tp + fn)\n",
    "my_fpr = fp / (fp + tn)"
   ]
  },
  {
   "cell_type": "markdown",
   "id": "b02ab4e1",
   "metadata": {},
   "source": [
    "Своя ROC Curve"
   ]
  },
  {
   "cell_type": "code",
   "execution_count": 60,
   "id": "7583dee5",
   "metadata": {},
   "outputs": [],
   "source": [
    "d = sorted({i : n for i, n in zip(yproba1[:,1], y_test_1)}.items(), reverse=True)"
   ]
  },
  {
   "cell_type": "code",
   "execution_count": 105,
   "id": "97a5f04f",
   "metadata": {},
   "outputs": [],
   "source": [
    "def f(test, proba, thresh=0.5, f='roc'):\n",
    "    \n",
    "    tp, fp, tn, fn = [0 for _ in range(4)]\n",
    "    \n",
    "    for actual, prob in zip(test, proba):\n",
    "        pred = 1 if prob >= thresh else 0\n",
    "        \n",
    "        if pred == 1:\n",
    "            if actual == 1:\n",
    "                tp += 1\n",
    "            else:\n",
    "                fp += 1\n",
    "\n",
    "        else:\n",
    "            if actual == 1:\n",
    "                fn += 1\n",
    "            else:\n",
    "                tn += 1\n",
    "    \n",
    "    fpr = fp / (fp + tn)\n",
    "    tpr = tp / (tp + fn)\n",
    "    prec = tp / (tp + fp)\n",
    "    recall = tp / (tp + fn)\n",
    "    \n",
    "    if f =='roc':\n",
    "        return fpr, tpr\n",
    "    elif f == 'PR':\n",
    "        return prec, recall"
   ]
  },
  {
   "cell_type": "code",
   "execution_count": 106,
   "id": "165d26b2",
   "metadata": {},
   "outputs": [],
   "source": [
    "def roc():\n",
    "    n = d[0][1]\n",
    "\n",
    "    FPRs = []\n",
    "    TPRs = []\n",
    "\n",
    "    for i in range(len(d)):\n",
    "        if i == 0:\n",
    "            FPRs.append(0)\n",
    "            TPRs.append(0)\n",
    "        elif i == len(d)-1:\n",
    "            FPRs.append(1)\n",
    "            TPRs.append(1)\n",
    "\n",
    "        if d[i][1] != n:\n",
    "            FPRs.append(f(y_test_1, yproba1[:,1], thresh=d[i-1][0])[0])\n",
    "            TPRs.append(f(y_test_1, yproba1[:,1], thresh=d[i-1][0])[1])\n",
    "            if n == 0:\n",
    "                n += 1\n",
    "            elif n ==1:\n",
    "                n -= 1\n",
    "    return FPRs, TPRs"
   ]
  },
  {
   "cell_type": "code",
   "execution_count": 107,
   "id": "e4c7f9a0",
   "metadata": {},
   "outputs": [],
   "source": [
    "FPRs, TPRs = roc()"
   ]
  },
  {
   "cell_type": "code",
   "execution_count": 108,
   "id": "e993c792",
   "metadata": {},
   "outputs": [
    {
     "data": {
      "text/plain": [
       "<matplotlib.legend.Legend at 0x1e4570eb160>"
      ]
     },
     "execution_count": 108,
     "metadata": {},
     "output_type": "execute_result"
    },
    {
     "data": {
      "image/png": "[encoded data removed]",
      "text/plain": [
       "<Figure size 640x480 with 1 Axes>"
      ]
     },
     "metadata": {},
     "output_type": "display_data"
    }
   ],
   "source": [
    "plt.plot(FPRs, TPRs, linewidth=5, label='my curve')\n",
    "plt.plot(fpr1, tpr1, label='sklearn curve')\n",
    "plt.grid()\n",
    "plt.legend()"
   ]
  },
  {
   "cell_type": "markdown",
   "id": "59190839",
   "metadata": {},
   "source": [
    "- Precision-Recall curve"
   ]
  },
  {
   "cell_type": "code",
   "execution_count": 109,
   "id": "37176150",
   "metadata": {},
   "outputs": [],
   "source": [
    "prec, recall, threshholds = precision_recall_curve(y_test_1, yproba1[:, 1])"
   ]
  },
  {
   "cell_type": "code",
   "execution_count": 110,
   "id": "c459c43c",
   "metadata": {},
   "outputs": [],
   "source": [
    "def PR_curve():\n",
    "    prec = []\n",
    "    recall = []\n",
    "\n",
    "    for i in range(len(d)):\n",
    "        prec.append(f(y_test_1, yproba1[:,1], thresh=d[i][0], f='PR')[0])\n",
    "        recall.append(f(y_test_1, yproba1[:,1], thresh=d[i][0], f='PR')[1])\n",
    "                \n",
    "    return prec, recall"
   ]
  },
  {
   "cell_type": "code",
   "execution_count": 111,
   "id": "3af53d78",
   "metadata": {},
   "outputs": [],
   "source": [
    "my_prec, my_recall = PR_curve()"
   ]
  },
  {
   "cell_type": "code",
   "execution_count": 114,
   "id": "8066b399",
   "metadata": {},
   "outputs": [
    {
     "data": {
      "text/plain": [
       "<matplotlib.legend.Legend at 0x1e45709d060>"
      ]
     },
     "execution_count": 114,
     "metadata": {},
     "output_type": "execute_result"
    },
    {
     "data": {
      "image/png": "[encoded data removed]",
      "text/plain": [
       "<Figure size 640x480 with 1 Axes>"
      ]
     },
     "metadata": {},
     "output_type": "display_data"
    }
   ],
   "source": [
    "plt.plot(recall, prec, linewidth=5, label='sklearn curve')\n",
    "plt.plot(my_recall, my_prec, label='sklearn curve')\n",
    "plt.grid()\n",
    "plt.legend()"
   ]
  },
  {
   "cell_type": "markdown",
   "id": "2d4369dd",
   "metadata": {},
   "source": [
    "# Выводы"
   ]
  },
  {
   "cell_type": "markdown",
   "id": "63ae53be",
   "metadata": {},
   "source": [
    "- Собственный расчёт площади под кривой делать не стал, т.к. в математике не силён, а во времени ограничен(\n",
    "- Считаю, что первая модель была обучена достаточно хорошо. Результат со всех колонок показал точность в 100%\n",
    "- Вторая модель уже явно хуже. Говорит о том, что при расчёте смешанных данных нужно: \n",
    "\n",
    "а) Приводить числовые значения к единому порядку\n",
    "\n",
    "б) Кодировать и разбивать по dummies категориальные значения\n",
    "\n",
    "- Да, кажется, кривая может проходить под диагональю, однако это показатель того, что либо наша модель обучения, либо метрика работают не совсем неправильно. По смыслу это тоже самое, что и над ней - мы сможем просто экстраполировать нижнюю кривую и получить свою метрику. Самая плохая возможная модель - диагональ."
   ]
  },
  {
   "cell_type": "markdown",
   "id": "89d9155f",
   "metadata": {},
   "source": [
    "# Вопросы"
   ]
  },
  {
   "cell_type": "markdown",
   "id": "e2f32b6b",
   "metadata": {},
   "source": [
    "- Насколько вообще актуальна в реальной деятельности предобработка данных в виде предсказания? Или же чаще пустые значения просто выбрасывают?\n",
    "- Правильно ли сработала моя первая модель с точностью 100%? С данным датасетом я поиграл (меня размеры и рандомность трейн_тест_разделения), и по-прежнему показывало 100%. У меня есть подозрение, что она переобучилась и на другой выборке данных сможет дать совсем другие результаты."
   ]
  }
 ],
 "metadata": {
  "kernelspec": {
   "display_name": "Python 3 (ipykernel)",
   "language": "python",
   "name": "python3"
  },
  "language_info": {
   "codemirror_mode": {
    "name": "ipython",
    "version": 3
   },
   "file_extension": ".py",
   "mimetype": "text/x-python",
   "name": "python",
   "nbconvert_exporter": "python",
   "pygments_lexer": "ipython3",
   "version": "3.10.9"
  }
 },
 "nbformat": 4,
 "nbformat_minor": 5
}
